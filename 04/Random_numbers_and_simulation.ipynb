{
 "cells": [
  {
   "cell_type": "markdown",
   "metadata": {},
   "source": [
    "# Random numbers and simulation"
   ]
  },
  {
   "cell_type": "markdown",
   "metadata": {},
   "source": [
    "You will learn how to use a random number generator with a seed and produce simulation results (**numpy.random**, **scipy.stats**), and calcuate the expected value of a random variable through Monte Carlo integration. You will learn how to save your results for later use (**pickle**). Finally, you will learn how to make your figures interactive (**ipywidgets**)."
   ]
  },
  {
   "cell_type": "markdown",
   "metadata": {},
   "source": [
    "**Links:**\n",
    "\n",
    "* [numpy.random](https://docs.scipy.org/doc/numpy-1.13.0/reference/routines.random.html)\n",
    "* [scipy.stats](https://docs.scipy.org/doc/scipy/reference/stats.html)\n",
    "* [ipywidgets](https://ipywidgets.readthedocs.io/en/stable/examples/Widget%20List.html)\n",
    "* datacamp on [pickle](https://www.datacamp.com/community/tutorials/pickle-python-tutorial)"
   ]
  },
  {
   "cell_type": "markdown",
   "metadata": {},
   "source": [
    "**Imports:** We now import all the modules, we need for this notebook. Importing everything in the beginning makes it more clear what modules the notebook relies on."
   ]
  },
  {
   "cell_type": "code",
   "execution_count": 1,
   "metadata": {},
   "outputs": [],
   "source": [
    "import math\n",
    "import pickle\n",
    "import numpy as np\n",
    "\n",
    "from scipy.stats import norm # normal distribution\n",
    "\n",
    "%matplotlib inline\n",
    "import matplotlib.pyplot as plt\n",
    "plt.style.use('seaborn-whitegrid')\n",
    "import ipywidgets as widgets"
   ]
  },
  {
   "cell_type": "markdown",
   "metadata": {},
   "source": [
    "# Exchange economy with many consumers"
   ]
  },
  {
   "cell_type": "markdown",
   "metadata": {},
   "source": [
    "Consider an **exchange economy** with"
   ]
  },
  {
   "cell_type": "markdown",
   "metadata": {},
   "source": [
    "1. 2 goods, $(x_1,x_2)$\n",
    "2. $N$ consumers indexed by $j \\in \\{1,2,\\dots,N\\}$\n",
    "3. Preferences are Cobb-Douglas with uniformly *heterogenous* coefficients\n",
    "\n",
    "$$\n",
    "\\begin{aligned}\n",
    "u^{j}(x_{1},x_{2}) & = x_{1}^{\\alpha_{j}}x_{2}^{1-\\alpha_{j}}\\\\\n",
    " & \\,\\,\\,\\alpha_{j}\\sim\\mathcal{U}(\\underline{\\mu},\\overline{\\mu})\\\\\n",
    " & \\,\\,\\,0<\\underline{\\mu}<\\overline{\\mu}<1\n",
    "\\end{aligned}\n",
    "$$\n",
    "\n",
    "4. Endowments are *homogenous* and given by\n",
    "\n",
    "$$\n",
    "\\boldsymbol{e}^{j}=(e_{1}^{j},e_{2}^{j})=(k,1),\\,k>0\n",
    "$$\n",
    "where good 2 is *numeraire*."
   ]
  },
  {
   "cell_type": "markdown",
   "metadata": {},
   "source": [
    "The implied **demand functions** are:\n",
    "\n",
    "$$\n",
    "\\begin{aligned}\n",
    "x_{1}^{\\star j}(p_{1},p_{2},e^{j})&=&\\alpha_{j}\\frac{I}{p_{1}}=\\alpha_{j}\\frac{kp_{1}+p_{2}}{p_{1}} \\\\\n",
    "x_{2}^{\\star j}(p_{1},p_{2},e^{j})&=&(1-\\alpha_{j})\\frac{I}{p_{2}}=(1-\\alpha_{j})\\frac{kp_{1}+p_{2}}{p_{2}}\n",
    "\\end{aligned}\n",
    "$$"
   ]
  },
  {
   "cell_type": "markdown",
   "metadata": {},
   "source": [
    "The **equilibrium** for a random draw of $\\alpha = \\{\\alpha_1,\\alpha_2,\\dots,\\alpha_N\\}$ is a set of **prices** $p_1$ and $p_2$ satifying:\n",
    "\n",
    "$$\n",
    "\\begin{aligned}\n",
    "x_1(p_1,p_2) = \\sum_{j=1}^N x_{1}^{\\star j}(p_{1},p_{2},e^{j}) &= \\sum_{j=1}^N e_1^j = Nk \\\\\n",
    "x_2(p_1,p_2) = \\sum_{j=1}^N x_{2}^{\\star j}(p_{1},p_{2},e^{j}) &= \\sum_{j=1}^N e_2^j = N\n",
    "\\end{aligned}\n",
    "$$"
   ]
  },
  {
   "cell_type": "markdown",
   "metadata": {},
   "source": [
    "**Problem:** Solve for this equilibrium.  \n",
    "But this requires a **distribution** of agents. Which means randomness.  \n",
    "We need a random number generator (RNG)!"
   ]
  },
  {
   "cell_type": "markdown",
   "metadata": {},
   "source": [
    "# Random numbers"
   ]
  },
  {
   "cell_type": "markdown",
   "metadata": {},
   "source": [
    "The two main approaches to generating random numbers are:\n",
    "\n",
    "1. **Physical observations** of random processes (radioactive decay,  atmospheric noise, roulette wheels, etc.)\n",
    "2. **Algorithms** creating **pseudo-random numbers**. Numbers that are *determined* by the algo but **appear** random."
   ]
  },
  {
   "cell_type": "markdown",
   "metadata": {},
   "source": [
    "**Pseudo-random numbers** satisfy propoerties such that they are as good as random. It should be impossible (for all practical purposes) to calculate, or otherwise guess, from any given subsequence, any previous or future values in the sequence."
   ]
  },
  {
   "cell_type": "markdown",
   "metadata": {},
   "source": [
    "**More information:** See this [video](https://www.youtube.com/watch?v=C82JyCmtKWg&app=desktop#fauxfullscreen) by Infinite Series."
   ]
  },
  {
   "cell_type": "markdown",
   "metadata": {},
   "source": [
    "## Numpy"
   ]
  },
  {
   "cell_type": "markdown",
   "metadata": {},
   "source": [
    "Numpy provides various functions for drawing random numbers. We can, for example, draw random integers between 0 and 10000:"
   ]
  },
  {
   "cell_type": "code",
   "execution_count": 2,
   "metadata": {},
   "outputs": [
    {
     "name": "stdout",
     "output_type": "stream",
     "text": [
      "[4444 6433 9523 5280 9062]\n"
     ]
    }
   ],
   "source": [
    "X = np.random.randint(0,10000,size=5)\n",
    "print(X)"
   ]
  },
  {
   "cell_type": "markdown",
   "metadata": {},
   "source": [
    "**Problem:** How can we reproduce our results the next time we open Python?\n",
    "\n",
    "**Solution:** Use a **seed**. This will fix the algorithm to give the same set numbers each time.     \n",
    "Choose the seed, and reset the random number generator:"
   ]
  },
  {
   "cell_type": "code",
   "execution_count": 3,
   "metadata": {},
   "outputs": [
    {
     "name": "stdout",
     "output_type": "stream",
     "text": [
      "set seed to 2000 and create numbers:\n",
      "[0.57051729 0.56452876 0.48844183 0.33647775 0.37586818]\n",
      "\n",
      "reset algorithm by stating the same seed again:\n",
      "[0.57051729 0.56452876 0.48844183 0.33647775 0.37586818]\n"
     ]
    }
   ],
   "source": [
    "print('set seed to 2000 and create numbers:')\n",
    "np.random.seed(2000)\n",
    "print(np.random.uniform(size=5))\n",
    "\n",
    "print('\\nreset algorithm by stating the same seed again:')\n",
    "np.random.seed(2000)\n",
    "print(np.random.uniform(size=5))"
   ]
  },
  {
   "cell_type": "markdown",
   "metadata": {},
   "source": [
    "> **Note:** The first and third draws above are exactly the same."
   ]
  },
  {
   "cell_type": "markdown",
   "metadata": {},
   "source": [
    "We can also **save and load the state** of the random number generator."
   ]
  },
  {
   "cell_type": "code",
   "execution_count": 4,
   "metadata": {},
   "outputs": [
    {
     "name": "stdout",
     "output_type": "stream",
     "text": [
      "generate numbers from current state:\n",
      "[0.53203587 0.06810629 0.58452906 0.23789776 0.16075658]\n",
      "\n",
      "change state by generating some more numbers:\n",
      "[0.15211915 0.12706922 0.32744117 0.69415387 0.35896647]\n",
      "\n",
      "generate numbers from past state by reloading state:\n",
      "[0.53203587 0.06810629 0.58452906 0.23789776 0.16075658]\n"
     ]
    }
   ],
   "source": [
    "# a. save state\n",
    "state = np.random.get_state()\n",
    "print('generate numbers from current state:')\n",
    "print(np.random.uniform(size=5))\n",
    "\n",
    "# b. draw some random number\n",
    "print('\\nchange state by generating some more numbers:')\n",
    "print(np.random.uniform(size=5))\n",
    "\n",
    "# c. reset state \n",
    "np.random.set_state(state)\n",
    "\n",
    "# d. draw the same random numbers again\n",
    "print('\\ngenerate numbers from past state by reloading state:')\n",
    "print(np.random.uniform(size=5))"
   ]
  },
  {
   "cell_type": "markdown",
   "metadata": {},
   "source": [
    "> **Important**: You should *only set the seed once* per program. Changing seed might brake randomness."
   ]
  },
  {
   "cell_type": "markdown",
   "metadata": {},
   "source": [
    "## Different distributions"
   ]
  },
  {
   "cell_type": "markdown",
   "metadata": {},
   "source": [
    "Draw random numbers from various distributions: normal, beta, uniform."
   ]
  },
  {
   "cell_type": "code",
   "execution_count": 5,
   "metadata": {},
   "outputs": [],
   "source": [
    "X = np.random.normal(loc=0,scale=1,size=10**6)\n",
    "Y = np.random.beta(a=5,b=2,size=10**6)\n",
    "Z = np.random.uniform(low=-2,high=2,size=10**6)"
   ]
  },
  {
   "cell_type": "markdown",
   "metadata": {},
   "source": [
    "Create a **user-defined** probability distribution with `np.random.choice`"
   ]
  },
  {
   "cell_type": "code",
   "execution_count": 6,
   "metadata": {},
   "outputs": [],
   "source": [
    "# a. Support of distribution\n",
    "vec = np.array([-2.5,-2.0,-1.5,-1.0,-0.5,0,0.5,1.0,1.5,2])\n",
    "\n",
    "# b. Define probabilities\n",
    "prob = np.exp(np.linspace(-1,1,vec.size))**1.1254 # all positive numbers\n",
    "prob /= np.sum(prob) # make probabilities sum to one\n",
    "\n",
    "# c. Get draws from distribution\n",
    "K = np.random.choice(vec,size=10**6,p=prob)"
   ]
  },
  {
   "cell_type": "markdown",
   "metadata": {},
   "source": [
    "Plot the various distributions:"
   ]
  },
  {
   "cell_type": "code",
   "execution_count": 7,
   "metadata": {},
   "outputs": [
    {
     "data": {
      "image/png": "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\n",
      "text/plain": [
       "<Figure size 600x400 with 1 Axes>"
      ]
     },
     "metadata": {},
     "output_type": "display_data"
    }
   ],
   "source": [
    "fig = plt.figure(dpi=100)\n",
    "ax = fig.add_subplot(1,1,1)\n",
    "ax.hist(X,bins=100,density=True,alpha=0.5,label='normal') # alpha < 1 = transparent\n",
    "ax.hist(Y,bins=100,density=True,alpha=0.5,label='beta')\n",
    "ax.hist(Z,bins=100,density=True,alpha=0.5,label='uniform')\n",
    "ax.hist(K,bins=100,density=True,alpha=0.5,label='choice')\n",
    "ax.set_xlim([-3,3])\n",
    "ax.legend(loc='upper left'); # note: the ; stops output from being printed"
   ]
  },
  {
   "cell_type": "markdown",
   "metadata": {},
   "source": [
    "**Task:** Follow this [link](https://docs.scipy.org/doc/numpy-1.13.0/reference/routines.random.html). Choose a distribution and add it to the figure above."
   ]
  },
  {
   "cell_type": "markdown",
   "metadata": {},
   "source": [
    "## Analytical results"
   ]
  },
  {
   "cell_type": "markdown",
   "metadata": {},
   "source": [
    "Sometimes, you want to compare a distribution of numbers to a **known** distribution.   \n",
    "For instance, how close are our draws to a normal distribution?  \n",
    "In this case, the `scipy.stats.norm` module comes in handy.  \n",
    "It operates differently from numpy. It creates an **object** to generate numbers from rather than just making an array at once. "
   ]
  },
  {
   "cell_type": "code",
   "execution_count": 8,
   "metadata": {},
   "outputs": [
    {
     "name": "stdout",
     "output_type": "stream",
     "text": [
      "F pdf at 0.0:  0.503 \n",
      "F cdf at 0.0:  0.369\n"
     ]
    },
    {
     "data": {
      "image/png": "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\n",
      "text/plain": [
       "<Figure size 600x400 with 1 Axes>"
      ]
     },
     "metadata": {},
     "output_type": "display_data"
    }
   ],
   "source": [
    "from scipy.stats import norm\n",
    "\n",
    "# a. create analytical distribution\n",
    "loc_guess = 0.25\n",
    "scale_guess = 0.75\n",
    "\n",
    "# Alternative: estimate the guesses\n",
    "# loc_guess, scale_guess = norm.fit(X)\n",
    "\n",
    "# Object to generate random numbers based on parameters\n",
    "F = norm(loc=loc_guess,scale=scale_guess)\n",
    "rnd = F.rvs(5) # example: create 5 random draws from the distribution F\n",
    "print(f'F pdf at 0.0: {F.pdf(0.0): 1.3f} \\nF cdf at 0.0: {F.cdf(0.0): 1.3f}') # the object F has several useful functions available  \n",
    "\n",
    "# b. vector of x values\n",
    "x_low = F.ppf(0.001) # x value where cdf is 0.001\n",
    "x_high = F.ppf(0.999) # x value where cdf is 0.999\n",
    "x_support = np.linspace(x_low,x_high,100)\n",
    "x_guess = F.pdf(x_support) # call F to evaluate density at x_support\n",
    "\n",
    "# c. compare X from before with new distribution\n",
    "fig = plt.figure(dpi=100)\n",
    "ax = fig.add_subplot(1,1,1)\n",
    "ax.plot(x_support,x_guess,lw=2,label='estimated') \n",
    "ax.hist(X,bins=100,density=True,histtype='stepfilled'); # plot X using a histogram"
   ]
  },
  {
   "cell_type": "code",
   "execution_count": 9,
   "metadata": {},
   "outputs": [
    {
     "name": "stdout",
     "output_type": "stream",
     "text": [
      "[ 1.46825902 -0.20881731 -0.14612881 -0.55472647  0.89905572]\n",
      "[ 1.46825902 -0.20881731 -0.14612881 -0.55472647  0.89905572]\n"
     ]
    }
   ],
   "source": [
    "# Scipy is built on Numpy. So the seed set by Numpy is carried over to Scipy.\n",
    "np.random.seed(1)\n",
    "print(F.rvs(5))\n",
    "np.random.seed(1)\n",
    "print(F.rvs(5))"
   ]
  },
  {
   "cell_type": "markdown",
   "metadata": {},
   "source": [
    "**Task:** Make the pdf fit the historgram closely."
   ]
  },
  {
   "cell_type": "markdown",
   "metadata": {},
   "source": [
    "# Demand"
   ]
  },
  {
   "cell_type": "markdown",
   "metadata": {},
   "source": [
    "**Warm-up**: Choose parameters and define demand functions."
   ]
  },
  {
   "cell_type": "code",
   "execution_count": 10,
   "metadata": {},
   "outputs": [],
   "source": [
    "# a. parameters\n",
    "N = 1000 # number of agents\n",
    "k = 2 # relative endowment of good 1\n",
    "mu_low = 0.1 # lower bound on alpha\n",
    "mu_high = 0.9 # upper bound on alpha\n",
    "\n",
    "# b. demand functions\n",
    "def demand_good_1_func(alpha,p1,p2,k):\n",
    "    I = k*p1+p2\n",
    "    return alpha*I/p1\n",
    "\n",
    "def demand_good_2_func(alpha,p1,p2,k):\n",
    "    I = k*p1+p2\n",
    "    return (1-alpha)*I/p2"
   ]
  },
  {
   "cell_type": "markdown",
   "metadata": {},
   "source": [
    "**Quizz:** take a quick [quizz](https://forms.office.com/Pages/ResponsePage.aspx?id=kX-So6HNlkaviYyfHO_6kckJrnVYqJlJgGf8Jm3FvY9UMFpSRTIzUlJKMkdFQlpIN1VZUE9EVTBaMSQlQCN0PWcu) regarding the demand functions."
   ]
  },
  {
   "cell_type": "markdown",
   "metadata": {},
   "source": [
    "$$ \n",
    "x_1(p_1,p_2) = \\sum_{j=1}^N x_{1}^{\\star j}(p_{1},p_{2},e^{j}) = \\alpha_{j}\\frac{kp_{1}+p_{2}}{p_{1}}\n",
    "$$"
   ]
  },
  {
   "cell_type": "markdown",
   "metadata": {},
   "source": [
    "Find demand distribution and total demand:"
   ]
  },
  {
   "cell_type": "code",
   "execution_count": 11,
   "metadata": {},
   "outputs": [],
   "source": [
    "def find_demand_good_1(alphas,p1,p2,k):\n",
    "    distr = demand_good_1_func(alphas,p1,p2,k) # Notice we are passing in arrays of alphas together with scalars! It works because of numpy broadcasting.\n",
    "    total = distr.sum()\n",
    "    return distr,total"
   ]
  },
  {
   "cell_type": "markdown",
   "metadata": {},
   "source": [
    "Calculate for various prices:"
   ]
  },
  {
   "cell_type": "code",
   "execution_count": 12,
   "metadata": {},
   "outputs": [],
   "source": [
    "# a. draw alphas\n",
    "alphas = np.random.uniform(low=mu_low, high=mu_high, size=N)\n",
    "\n",
    "# b. a set of hypothetical prices\n",
    "p1_vec = [0.5,1,2,5]\n",
    "p2 = 1\n",
    "\n",
    "# c. calculate demand given\n",
    "dists = np.empty((len(p1_vec),N))\n",
    "totals = np.empty(len(p1_vec))\n",
    "for i,p1 in enumerate(p1_vec):\n",
    "    dist,total = find_demand_good_1(alphas,p1,p2,k)\n",
    "    dists[i,:] = dist\n",
    "    totals[i] = total"
   ]
  },
  {
   "cell_type": "markdown",
   "metadata": {},
   "source": [
    "Plot the resulting demand given prices"
   ]
  },
  {
   "cell_type": "code",
   "execution_count": 13,
   "metadata": {},
   "outputs": [
    {
     "data": {
      "image/png": "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\n",
      "text/plain": [
       "<Figure size 720x288 with 2 Axes>"
      ]
     },
     "metadata": {},
     "output_type": "display_data"
    }
   ],
   "source": [
    "fig = plt.figure(figsize=(10,4))\n",
    "\n",
    "ax_left = fig.add_subplot(1,2,1)\n",
    "ax_left.set_title('Distributions of demand')\n",
    "for i,p1 in enumerate(p1_vec):\n",
    "    ax_left.hist(dists[i],density=True,alpha=0.5,label=f'$p_1 = {p1}$')\n",
    "ax_left.legend(loc='upper right')\n",
    "\n",
    "ax_right = fig.add_subplot(1,2,2)\n",
    "ax_right.set_title('Total demand given $p_1$')\n",
    "ax_right.grid(True)\n",
    "ax_right.plot(p1_vec,totals)\n",
    "ax_right.set_xlabel('$p_1$');"
   ]
  },
  {
   "cell_type": "markdown",
   "metadata": {},
   "source": [
    "# Interactive figures"
   ]
  },
  {
   "cell_type": "markdown",
   "metadata": {},
   "source": [
    "Create a function constructing a figure:"
   ]
  },
  {
   "cell_type": "code",
   "execution_count": 14,
   "metadata": {},
   "outputs": [],
   "source": [
    "# This function tells the widget how the plot should look at a specific parametrization \n",
    "def interactive_figure(alphas,p1,p2,k):\n",
    "    \n",
    "    # a. calculations\n",
    "    dist,_total = find_demand_good_1(alphas,p1,p2,k)\n",
    "    \n",
    "    # b. figure\n",
    "    fig = plt.figure(dpi=100)\n",
    "    ax = fig.add_subplot(1,1,1)\n",
    "    ax.hist(dist,density=True)\n",
    "    ax.set_xlim([0,4]) # fixed x range\n",
    "    ax.set_ylim([0,0.8]) # fixed y range"
   ]
  },
  {
   "cell_type": "markdown",
   "metadata": {},
   "source": [
    "**Case 1:** Make it interactive with a **slider**"
   ]
  },
  {
   "cell_type": "code",
   "execution_count": 15,
   "metadata": {},
   "outputs": [
    {
     "data": {
      "application/vnd.jupyter.widget-view+json": {
       "model_id": "d08430c6238141ae994ae50880d2da59",
       "version_major": 2,
       "version_minor": 0
      },
      "text/plain": [
       "interactive(children=(FloatSlider(value=2.0, description='$p_1$', max=5.0, min=0.1, step=0.05), Output()), _do…"
      ]
     },
     "metadata": {},
     "output_type": "display_data"
    }
   ],
   "source": [
    "# Write out which arguments to interactive_figure you want to be changing or staying fixed \n",
    "widgets.interact(interactive_figure,\n",
    "    alphas=widgets.fixed(alphas),\n",
    "    p1=widgets.FloatSlider(description=\"$p_1$\", min=0.1, max=5, step=0.05, value=2),\n",
    "    p2=widgets.fixed(p2),\n",
    "    k=widgets.fixed(k)\n",
    ");"
   ]
  },
  {
   "cell_type": "markdown",
   "metadata": {},
   "source": [
    "**Case 2:** Make it interactive with a **textbox**:"
   ]
  },
  {
   "cell_type": "code",
   "execution_count": 16,
   "metadata": {},
   "outputs": [
    {
     "data": {
      "application/vnd.jupyter.widget-view+json": {
       "model_id": "637b3cba0a4148d585afcbbc92b8cfcb",
       "version_major": 2,
       "version_minor": 0
      },
      "text/plain": [
       "interactive(children=(FloatText(value=2.0, description='$p_1$'), Output()), _dom_classes=('widget-interact',))"
      ]
     },
     "metadata": {},
     "output_type": "display_data"
    }
   ],
   "source": [
    "widgets.interact(interactive_figure,\n",
    "    alphas=widgets.fixed(alphas),\n",
    "    p1=widgets.FloatText(description=\"$p_1$\", value=2),\n",
    "    p2=widgets.fixed(p2),\n",
    "    k=widgets.fixed(k)\n",
    ");"
   ]
  },
  {
   "cell_type": "markdown",
   "metadata": {},
   "source": [
    "**Case 3:** Make it interactive with a **dropdown menu**"
   ]
  },
  {
   "cell_type": "code",
   "execution_count": 17,
   "metadata": {},
   "outputs": [
    {
     "data": {
      "application/vnd.jupyter.widget-view+json": {
       "model_id": "987dd9f8bcce49a8a199c5b00b1bd054",
       "version_major": 2,
       "version_minor": 0
      },
      "text/plain": [
       "interactive(children=(Dropdown(description='$p_1$', index=3, options=(0.5, 1, 1.5, 2.0, 2.5, 3), value=2.0), O…"
      ]
     },
     "metadata": {},
     "output_type": "display_data"
    }
   ],
   "source": [
    "widgets.interact(interactive_figure,\n",
    "    alphas=widgets.fixed(alphas),\n",
    "    p1=widgets.Dropdown(description=\"$p_1$\", options=[0.5,1,1.5,2.0,2.5,3], value=2),\n",
    "    p2=widgets.fixed(p2),\n",
    "    k=widgets.fixed(k)\n",
    ");"
   ]
  },
  {
   "cell_type": "markdown",
   "metadata": {},
   "source": [
    "**Task:** Add a slider for \\\\(k\\\\) to the interactive figure below."
   ]
  },
  {
   "cell_type": "code",
   "execution_count": 18,
   "metadata": {},
   "outputs": [
    {
     "data": {
      "application/vnd.jupyter.widget-view+json": {
       "model_id": "eb4ec58d0dd54f8b8c72f83aeb548c53",
       "version_major": 2,
       "version_minor": 0
      },
      "text/plain": [
       "interactive(children=(FloatSlider(value=2.0, description='$p_1$', max=5.0, min=0.1, step=0.05), Output()), _do…"
      ]
     },
     "metadata": {},
     "output_type": "display_data"
    }
   ],
   "source": [
    "# change this code\n",
    "widgets.interact(interactive_figure,\n",
    "    alphas=widgets.fixed(alphas),\n",
    "    p1=widgets.FloatSlider(description=\"$p_1$\", min=0.1, max=5, step=0.05, value=2),\n",
    "    p2=widgets.fixed(p2),\n",
    "    k=widgets.fixed(k)\n",
    ");"
   ]
  },
  {
   "cell_type": "markdown",
   "metadata": {},
   "source": [
    "# Equilibrium"
   ]
  },
  {
   "cell_type": "markdown",
   "metadata": {},
   "source": [
    "The equilibrium conditions were that **excess demand**, $Z$, is = 0 for both goods:\n",
    "\n",
    "$$\n",
    "\\begin{aligned}\n",
    "\\sum_{j=1}^N x_{1}^{\\star j}(p_{1},p_{2},e^{j}) &= Nk \\Leftrightarrow Z_1 \\equiv \\sum_{j=1}^N x_{1}^{\\star j}(p_{1},p_{2},e^{j}) - Nk = 0 \\\\\n",
    "\\sum_{j=1}^N x_{2}^{\\star j}(p_{1},p_{2},e^{j}) &= N \\Leftrightarrow Z_2 \\equiv \\sum_{j=1}^N x_{2}^{\\star j}(p_{1},p_{2},e^{j}) - N = 0\n",
    "\\end{aligned}\n",
    "$$"
   ]
  },
  {
   "cell_type": "markdown",
   "metadata": {},
   "source": [
    "**Idea:** Solve just the first equation. Then the second is satisfied due to Walras's law."
   ]
  },
  {
   "cell_type": "markdown",
   "metadata": {},
   "source": [
    "**Algorithm:**  \n",
    "First choose a tolerance $\\epsilon > 0$ and an adjustment factor $\\kappa>0$, and a guess on $p_1 > 0$. \n",
    "\n",
    "Then find the equilibrium price by following iterative algorithm:\n",
    "\n",
    "1. Calculate total excess demand of good 1: $Z_1 = \\sum_{j=1}^N x_{1}^{\\star j}(p_{1},p_{2},e^{j}) - Nk$\n",
    "2. If $|Z_1| < \\epsilon $ stop\n",
    "3. If $|Z_1| \\geq \\epsilon $ set $p_1 = p_1 + \\kappa \\cdot \\frac{Z_1}{N}$\n",
    "4. Return to step 1\n",
    "\n",
    "**Intuition**  \n",
    "If excess demand is **positive** and far from 0, then **increase** the price.  \n",
    "If excess demand is **negative** and far from 0, then **decrease** the price.  "
   ]
  },
  {
   "cell_type": "code",
   "execution_count": 19,
   "metadata": {},
   "outputs": [],
   "source": [
    "# Use the functions in module market_eq\n",
    "%load_ext autoreload \n",
    "%autoreload 2\n",
    "from market_eq import * "
   ]
  },
  {
   "cell_type": "markdown",
   "metadata": {},
   "source": [
    "Finding the equilibrium price.  \n",
    "See `market_eq.py` for implementation. "
   ]
  },
  {
   "cell_type": "code",
   "execution_count": 20,
   "metadata": {},
   "outputs": [
    {
     "name": "stdout",
     "output_type": "stream",
     "text": [
      "  0: p1 =   1.33614049 -> excess demand ->  -638.59506505\n",
      "  1: p1 =   1.27399328 -> excess demand ->  -621.47217154\n",
      "  2: p1 =   1.21367725 -> excess demand ->  -603.16023881\n",
      "  3: p1 =   1.15531779 -> excess demand ->  -583.59459622\n",
      "  4: p1 =   1.09904589 -> excess demand ->  -562.71902599\n",
      "   ...\n",
      " 25: p1 =   0.52566696 -> excess demand ->   -52.05606051\n",
      " 50: p1 =   0.50324571 -> excess demand ->    -0.23547924\n",
      " 75: p1 =   0.50315075 -> excess demand ->    -0.00094377\n",
      "100: p1 =   0.50315037 -> excess demand ->    -0.00000378\n",
      "125: p1 =   0.50315037 -> excess demand ->    -0.00000002\n",
      "127: p1 =   0.50315037 -> excess demand ->    -0.00000001\n"
     ]
    }
   ],
   "source": [
    "p1_guess = 1.4\n",
    "p2 = 1\n",
    "kappa = 0.1\n",
    "eps = 1e-8\n",
    "p1 = find_equilibrium(alphas,p1_guess,p2,k,kappa=kappa,eps=eps)"
   ]
  },
  {
   "cell_type": "markdown",
   "metadata": {},
   "source": [
    "**Check:** Ensure that excess demand of both goods are (almost) zero."
   ]
  },
  {
   "cell_type": "code",
   "execution_count": 21,
   "metadata": {},
   "outputs": [
    {
     "name": "stdout",
     "output_type": "stream",
     "text": [
      "-9.737505024531856e-09 4.8994479584507644e-09\n"
     ]
    }
   ],
   "source": [
    "Z1 = excess_demand_good_1_func(alphas,p1,p2,k)\n",
    "Z2 = excess_demand_good_2_func(alphas,p1,p2,k)\n",
    "print(Z1,Z2)\n",
    "assert np.abs(Z1) < eps\n",
    "assert np.abs(Z2) < eps"
   ]
  },
  {
   "cell_type": "markdown",
   "metadata": {},
   "source": [
    "**Quizz:** take a quick quizz on the algorithm [here](https://forms.office.com/Pages/ResponsePage.aspx?id=kX-So6HNlkaviYyfHO_6kckJrnVYqJlJgGf8Jm3FvY9UMjRVRkEwQTRGVVJPVzRDS0dIV1VJWjhJVyQlQCN0PWcu)"
   ]
  },
  {
   "cell_type": "markdown",
   "metadata": {},
   "source": [
    "# Numerical integration by Monte Carlo"
   ]
  },
  {
   "cell_type": "markdown",
   "metadata": {},
   "source": [
    "Numerical integration is the task of computing\n",
    "\n",
    "$$ \n",
    "\\mathbb{E}[\\mathbf{g}(x)]  \\text{ where } x \\sim F,\n",
    "$$\n",
    "\n",
    "where $F$ is a known probability distribution and $\\mathbf{g}(\\cdot)$ is a function. In terms of a integral this can also be writen as\n",
    "\n",
    "$$\n",
    "\\mathbb{E}[\\mathbf{g}(x)] = \\int_{x\\in\\mathcal{X}} \\mathbf{g}(x) dF(x) = \\int_{x\\in\\mathcal{X}} \\mathbf{g}(x) f(x) dx\n",
    "$$\n",
    "\n",
    "where $f$ is the PDF for the CDF $F$ and $\\mathcal{X}$ is the domain of $x$.\n",
    "\n",
    "In an economic model, $\\mathbf{g}$ might represent the way the state of an agent or the economy develops stochastically. \n",
    "\n",
    "Relying on the law of large numbers we **approximate** the true integral with a finite sample:\n",
    "\n",
    "$$\n",
    "\\mathbb{E}[\\mathbf{g}(x)] \\approx \\frac{1}{N}\\sum_{i=1}^{N} \\mathbf{g}(x_i) \n",
    "$$\n",
    "\n",
    "where $x_i$ is drawn from $F$ using a random number generator. This is also called **numerical integration by Monte Carlo**.\n",
    "\n",
    "For an easy implementation, we use  \n",
    "\n",
    "$$\n",
    "\\mathbf{g}(x) = (x-2)^2\n",
    "$$"
   ]
  },
  {
   "cell_type": "markdown",
   "metadata": {},
   "source": [
    "**Monte Carlo function:**  "
   ]
  },
  {
   "cell_type": "code",
   "execution_count": 22,
   "metadata": {},
   "outputs": [],
   "source": [
    "def g(x):\n",
    "    return (x-2)**2\n",
    "\n",
    "def MC(N,g,F):\n",
    "    X = F.rvs(size=N) # rvs = draw N random values from F\n",
    "    return np.mean(g(X)) # apply g to X"
   ]
  },
  {
   "cell_type": "markdown",
   "metadata": {},
   "source": [
    "**Example** with a normal distribution:"
   ]
  },
  {
   "cell_type": "code",
   "execution_count": 23,
   "metadata": {},
   "outputs": [
    {
     "name": "stdout",
     "output_type": "stream",
     "text": [
      "E[g(x)] = 3.7852472195251456\n"
     ]
    }
   ],
   "source": [
    "N = 1000\n",
    "mu = 0.1\n",
    "sigma = 0.5\n",
    "F = norm(loc=mu,scale=sigma)\n",
    "mc_integral = MC(N,g,F)\n",
    "print('E[g(x)] =', mc_integral)"
   ]
  },
  {
   "cell_type": "markdown",
   "metadata": {},
   "source": [
    "Function for drawning \\\\( K \\\\) Monte Carlo samples:"
   ]
  },
  {
   "cell_type": "code",
   "execution_count": 24,
   "metadata": {},
   "outputs": [],
   "source": [
    "def MC_sample(N,g,F,K):\n",
    "    \n",
    "    results = np.empty(K)\n",
    "    for i in range(K):\n",
    "        results[i] = MC(N,g,F)\n",
    "\n",
    "    return results"
   ]
  },
  {
   "cell_type": "markdown",
   "metadata": {},
   "source": [
    "The variance across Monte Carlo samples falls with larger $N$:"
   ]
  },
  {
   "cell_type": "code",
   "execution_count": 25,
   "metadata": {},
   "outputs": [
    {
     "name": "stdout",
     "output_type": "stream",
     "text": [
      "N =      100: 3.851283 (std: 0.1937)\n",
      "N =     1000: 3.858242 (std: 0.0596)\n",
      "N =    10000: 3.860276 (std: 0.0193)\n",
      "N =   100000: 3.860187 (std: 0.0060)\n"
     ]
    }
   ],
   "source": [
    "K = 1000\n",
    "for N in [10**2,10**3,10**4,10**5]:\n",
    "    results = MC_sample(N,g,F,K)\n",
    "    print(f'N = {N:8d}: {results.mean():.6f} (std: {results.std():.4f})')"
   ]
  },
  {
   "cell_type": "markdown",
   "metadata": {},
   "source": [
    "In principle, you can always use Monte Carlo. But if $\\mathbf{g}$ had been a very computationally costly function, Monte Carlo would be infeasible. But there are other ways, see Appendix. "
   ]
  },
  {
   "cell_type": "markdown",
   "metadata": {},
   "source": [
    "# Load and save variables"
   ]
  },
  {
   "cell_type": "markdown",
   "metadata": {},
   "source": [
    "## Pickle"
   ]
  },
  {
   "cell_type": "markdown",
   "metadata": {},
   "source": [
    "A good allround method for loading and saving is to use **pickle**. Here is how to save:"
   ]
  },
  {
   "cell_type": "code",
   "execution_count": 26,
   "metadata": {},
   "outputs": [],
   "source": [
    "# a. variables\n",
    "my_dict = {'a':1,'b':2}\n",
    "my_vec = np.array([1,2,3])\n",
    "my_tupple = (1,4,2)\n",
    "\n",
    "# b. put them in a dictionary\n",
    "my_data = {}\n",
    "my_data['my_dict'] = my_dict\n",
    "my_data['my_vec'] = my_vec\n",
    "my_data['my_tupple'] = my_tupple\n",
    "\n",
    "# c. save the dictionary in a file\n",
    "with open(f'data.p', 'wb') as f: # wb = write binary\n",
    "    pickle.dump(my_data, f)"
   ]
  },
  {
   "cell_type": "markdown",
   "metadata": {},
   "source": [
    "Delete the variables:"
   ]
  },
  {
   "cell_type": "code",
   "execution_count": 27,
   "metadata": {},
   "outputs": [],
   "source": [
    "del my_dict\n",
    "del my_vec\n",
    "del my_tupple"
   ]
  },
  {
   "cell_type": "markdown",
   "metadata": {},
   "source": [
    "Load the data again:"
   ]
  },
  {
   "cell_type": "code",
   "execution_count": 28,
   "metadata": {},
   "outputs": [
    {
     "name": "stdout",
     "output_type": "stream",
     "text": [
      "my_vec does not exist\n",
      "[1 2 3]\n",
      "(1, 4, 2)\n"
     ]
    }
   ],
   "source": [
    "# a. try\n",
    "try:\n",
    "    print(my_tupple)\n",
    "except:\n",
    "    print('my_vec does not exist')\n",
    "    \n",
    "# b. load    \n",
    "with open(f'data.p', 'rb') as f: # rb = read binary\n",
    "    data = pickle.load(f)\n",
    "    my_dict = data['my_dict']\n",
    "    my_vec = data['my_vec']\n",
    "    my_tupple = data['my_tupple']\n",
    "    \n",
    "# c. try again\n",
    "print(my_vec)\n",
    "print(my_tupple)"
   ]
  },
  {
   "cell_type": "markdown",
   "metadata": {},
   "source": [
    "## Saving with numpy"
   ]
  },
  {
   "cell_type": "markdown",
   "metadata": {},
   "source": [
    "When only saving/loading **numpy arrays**, an alternative is to use ``np.savez`` (or ``np.savez_compressed``). This is typically faster than pickle."
   ]
  },
  {
   "cell_type": "markdown",
   "metadata": {},
   "source": [
    "Here is how to save some data:"
   ]
  },
  {
   "cell_type": "code",
   "execution_count": 29,
   "metadata": {},
   "outputs": [],
   "source": [
    "my_data = {}\n",
    "my_data['A'] = np.array([1,2,3])\n",
    "my_data['B'] = np.zeros((5,8))\n",
    "my_data['C'] = np.ones((7,3,8))\n",
    "np.savez(f'data.npz', **my_data)\n",
    "# '**' unpacks the dictionary"
   ]
  },
  {
   "cell_type": "markdown",
   "metadata": {},
   "source": [
    "Here is how to load the data again:"
   ]
  },
  {
   "cell_type": "code",
   "execution_count": 30,
   "metadata": {},
   "outputs": [
    {
     "name": "stdout",
     "output_type": "stream",
     "text": [
      "[1 2 3]\n",
      "[1 2 3]\n"
     ]
    }
   ],
   "source": [
    "# a. delete\n",
    "del my_data\n",
    "\n",
    "# a. load all\n",
    "my_data = {}\n",
    "with np.load(f'data.npz') as data_obj:\n",
    "    for key in data_obj.files:\n",
    "        my_data[key] = data_obj[key]\n",
    "print(my_data['A'])\n",
    "\n",
    "# b. load single array\n",
    "X = np.load(f'data.npz')['A']\n",
    "print(X)"
   ]
  },
  {
   "cell_type": "markdown",
   "metadata": {},
   "source": [
    "## Create a class to generate random numbers"
   ]
  },
  {
   "cell_type": "code",
   "execution_count": 31,
   "metadata": {},
   "outputs": [
    {
     "name": "stdout",
     "output_type": "stream",
     "text": [
      "[2 5 1 5]\n",
      "[1 5 5 2]\n"
     ]
    }
   ],
   "source": [
    "class dice_cup:\n",
    "    \n",
    "    def __init__(self,ndice):\n",
    "        self.ndice = ndice\n",
    "    \n",
    "    def roll(self):\n",
    "        self.dice = np.random.randint(1,7,size=self.ndice)\n",
    "        print(self.dice)\n",
    "        \n",
    "    def shuffle(self):\n",
    "        np.random.shuffle(self.dice)\n",
    "        print(self.dice)\n",
    "        \n",
    "    def roll_and_sum(self):\n",
    "        pass\n",
    "        \n",
    "my_dice_cup = dice_cup(4)\n",
    "my_dice_cup.roll()\n",
    "my_dice_cup.shuffle()\n",
    "my_dice_cup.roll_and_sum()"
   ]
  },
  {
   "cell_type": "markdown",
   "metadata": {},
   "source": [
    "**Task:** Add a method ``roll_and_sum()`` to the class above, which rolls and print the sum of the dice. Compare the value of your roll to your neighbor.  \n",
    "*(You can delete the pass statement when starting to code. It's there to inform Python that roll_and_sum() is well defined as Python cannot handle a totally codeless function)*"
   ]
  },
  {
   "cell_type": "markdown",
   "metadata": {},
   "source": [
    "# Summary"
   ]
  },
  {
   "cell_type": "markdown",
   "metadata": {},
   "source": [
    "**This lecture:** We have talked about:\n",
    "\n",
    "1. numpy.random: Drawing (pseudo-)random numbers (seed, state, distributions)\n",
    "2. scipy.stats: Using analytical random distributions (ppf, pdf, cdf, rvs)\n",
    "3. ipywidgets: Making interactive figures\n",
    "4. pickle and np.savez: Saving and loading data"
   ]
  },
  {
   "cell_type": "markdown",
   "metadata": {},
   "source": [
    "The method you learned for finding the equilibrium can be used in a lot of models. For example, a simple method can be applied with multiple goods."
   ]
  },
  {
   "cell_type": "markdown",
   "metadata": {},
   "source": [
    "**Your work:** Before solving Problem Set 2 read through this notebook and play around with the code."
   ]
  },
  {
   "cell_type": "markdown",
   "metadata": {},
   "source": [
    "**Next lecture:** Workflow and debugging. Go through these guides beforehand:\n",
    "\n",
    "1. [Installing Python and VSCode](https://numeconcopenhagen.netlify.com//guides/python-setup)\n",
    "2. [Running Python in JupyterLab](https://numeconcopenhagen.netlify.com//guides/jupyterlab)\n",
    "3. [Running Python in VSCode](https://numeconcopenhagen.netlify.com//guides/vscode-basics)"
   ]
  },
  {
   "cell_type": "markdown",
   "metadata": {},
   "source": [
    "You must have installed **git** and have a **GitHub account!** (step 2 in [Installing Python and VSCode](https://numeconcopenhagen.netlify.com//guides/python-setup))."
   ]
  },
  {
   "cell_type": "markdown",
   "metadata": {},
   "source": [
    "**Finally:** You can begin to think about who you want to work together with for the group assignments. We will talk more about inaugural project next-time."
   ]
  },
  {
   "cell_type": "markdown",
   "metadata": {},
   "source": [
    "## Advanced: Middle-square method for generating random numbers"
   ]
  },
  {
   "cell_type": "markdown",
   "metadata": {},
   "source": [
    "Proposed by **John von Neumann**:"
   ]
  },
  {
   "cell_type": "markdown",
   "metadata": {},
   "source": [
    "1. Start with a $N$ digit number\n",
    "2. Square the number\n",
    "3. Pad the number with leading zeros making it a $2N$ digit number\n",
    "4. Extract the middle $N$ digits (*your random number*)\n",
    "5. Return to step 1 to generate one more"
   ]
  },
  {
   "cell_type": "markdown",
   "metadata": {},
   "source": [
    "> **Pro:** Simple and easy to implement. Conceptually somewhat similar to more advanced methods (e.g. *Mersenne-Twister* used by *numpy*).\n",
    ">\n",
    "> **Con:** Cycles can be no longer than $8^N$ periods. Many repeating cycles are very short. Internal state is directly observable.\n",
    ">\n",
    "> **Conclusion:** Can not be used in practice."
   ]
  },
  {
   "cell_type": "markdown",
   "metadata": {},
   "source": [
    "**Code:** An implementation in Python for $N = 4$ digit random integers:"
   ]
  },
  {
   "cell_type": "code",
   "execution_count": 32,
   "metadata": {},
   "outputs": [],
   "source": [
    "def rng(number,max_iter=100): \n",
    "    \n",
    "    already_seen = [] # list of seen numbers\n",
    "    \n",
    "    i = 0\n",
    "    while number not in already_seen and i < max_iter:\n",
    "        \n",
    "        already_seen.append(number)\n",
    "        squared = number**2\n",
    "        padded = str(squared).zfill(8) # add leading zeros\n",
    "        number = int(padded[2:6]) # extract middle 4 numbers\n",
    "        \n",
    "        print(f\"square = {squared:8d}, padded = {padded} -> {number:4d}\")\n",
    "        i += 1"
   ]
  },
  {
   "cell_type": "markdown",
   "metadata": {},
   "source": [
    "A reasonable cycle:"
   ]
  },
  {
   "cell_type": "code",
   "execution_count": 33,
   "metadata": {},
   "outputs": [
    {
     "name": "stdout",
     "output_type": "stream",
     "text": [
      "square = 21650409, padded = 21650409 -> 6504\n",
      "square = 42302016, padded = 42302016 -> 3020\n",
      "square =  9120400, padded = 09120400 -> 1204\n",
      "square =  1449616, padded = 01449616 -> 4496\n",
      "square = 20214016, padded = 20214016 -> 2140\n",
      "square =  4579600, padded = 04579600 -> 5796\n",
      "square = 33593616, padded = 33593616 -> 5936\n",
      "square = 35236096, padded = 35236096 -> 2360\n",
      "square =  5569600, padded = 05569600 -> 5696\n",
      "square = 32444416, padded = 32444416 -> 4444\n",
      "square = 19749136, padded = 19749136 -> 7491\n",
      "square = 56115081, padded = 56115081 -> 1150\n",
      "square =  1322500, padded = 01322500 -> 3225\n",
      "square = 10400625, padded = 10400625 -> 4006\n",
      "square = 16048036, padded = 16048036 ->  480\n",
      "square =   230400, padded = 00230400 -> 2304\n",
      "square =  5308416, padded = 05308416 -> 3084\n",
      "square =  9511056, padded = 09511056 -> 5110\n",
      "square = 26112100, padded = 26112100 -> 1121\n",
      "square =  1256641, padded = 01256641 -> 2566\n",
      "square =  6584356, padded = 06584356 -> 5843\n",
      "square = 34140649, padded = 34140649 -> 1406\n",
      "square =  1976836, padded = 01976836 -> 9768\n",
      "square = 95413824, padded = 95413824 -> 4138\n",
      "square = 17123044, padded = 17123044 -> 1230\n",
      "square =  1512900, padded = 01512900 -> 5129\n",
      "square = 26306641, padded = 26306641 -> 3066\n",
      "square =  9400356, padded = 09400356 -> 4003\n",
      "square = 16024009, padded = 16024009 ->  240\n",
      "square =    57600, padded = 00057600 ->  576\n",
      "square =   331776, padded = 00331776 -> 3317\n",
      "square = 11002489, padded = 11002489 ->   24\n",
      "square =      576, padded = 00000576 ->    5\n",
      "square =       25, padded = 00000025 ->    0\n",
      "square =        0, padded = 00000000 ->    0\n"
     ]
    }
   ],
   "source": [
    "rng(4653)"
   ]
  },
  {
   "cell_type": "markdown",
   "metadata": {},
   "source": [
    "A short cycle:"
   ]
  },
  {
   "cell_type": "code",
   "execution_count": 34,
   "metadata": {},
   "outputs": [
    {
     "name": "stdout",
     "output_type": "stream",
     "text": [
      "square =   291600, padded = 00291600 -> 2916\n",
      "square =  8503056, padded = 08503056 -> 5030\n",
      "square = 25300900, padded = 25300900 -> 3009\n",
      "square =  9054081, padded = 09054081 ->  540\n"
     ]
    }
   ],
   "source": [
    "rng(540)"
   ]
  },
  {
   "cell_type": "markdown",
   "metadata": {},
   "source": [
    "No cycle at all:"
   ]
  },
  {
   "cell_type": "code",
   "execution_count": 35,
   "metadata": {},
   "outputs": [
    {
     "name": "stdout",
     "output_type": "stream",
     "text": [
      "square = 14379264, padded = 14379264 -> 3792\n"
     ]
    }
   ],
   "source": [
    "rng(3792)"
   ]
  },
  {
   "cell_type": "markdown",
   "metadata": {},
   "source": [
    "## Advanced: Gauss-Hermite quadrature"
   ]
  },
  {
   "cell_type": "markdown",
   "metadata": {},
   "source": [
    "**Problem:** Numerical integration by Monte Carlo is **slow**.\n",
    "\n",
    "**Solution:** Use smarter integration formulas on the form\n",
    "\n",
    "$$\n",
    "\\mathbb{E}[g(x)] \\approx \\sum_{i=1}^{n} w_ig(x_i) \n",
    "$$\n",
    "\n",
    "where $(x_i,w_i), \\forall n \\in \\{1,2,\\dots,N\\}$, are called **quadrature nodes and weights** and are provided by some theoretical formula depending on the distribution of $x$.\n",
    "\n",
    "**Example I, Normal:** If $x \\sim \\mathcal{N}(\\mu,\\sigma)$ then we can use [Gauss-Hermite quadrature](https://en.wikipedia.org/wiki/Gauss%E2%80%93Hermite_quadrature) as implemented below."
   ]
  },
  {
   "cell_type": "code",
   "execution_count": 36,
   "metadata": {},
   "outputs": [],
   "source": [
    "def gauss_hermite(n):\n",
    "    \"\"\" gauss-hermite nodes\n",
    "\n",
    "    Args:\n",
    "\n",
    "        n (int): number of points\n",
    "\n",
    "    Returns:\n",
    "\n",
    "        x (numpy.ndarray): nodes of length n\n",
    "        w (numpy.ndarray): weights of length n\n",
    "\n",
    "    \"\"\"\n",
    "\n",
    "    # a. calculations\n",
    "    i = np.arange(1,n)\n",
    "    a = np.sqrt(i/2)\n",
    "    CM = np.diag(a,1) + np.diag(a,-1)\n",
    "    L,V = np.linalg.eig(CM)\n",
    "    I = L.argsort()\n",
    "    V = V[:,I].T\n",
    "\n",
    "    # b. nodes and weights\n",
    "    x = L[I]\n",
    "    w = np.sqrt(math.pi)*V[:,0]**2\n",
    "\n",
    "    return x,w"
   ]
  },
  {
   "cell_type": "code",
   "execution_count": 37,
   "metadata": {},
   "outputs": [],
   "source": [
    "def normal_gauss_hermite(sigma, n=7, mu=None, exp=False):\n",
    "    \"\"\" normal gauss-hermite nodes\n",
    "\n",
    "    Args:\n",
    "\n",
    "        sigma (double): standard deviation\n",
    "        n (int): number of points\n",
    "        mu (double,optinal): mean\n",
    "        exp (bool,optinal): take exp and correct mean (if not specified)\n",
    "\n",
    "    Returns:\n",
    "\n",
    "        x (numpy.ndarray): nodes of length n\n",
    "        w (numpy.ndarray): weights of length n\n",
    "\n",
    "    \"\"\"\n",
    "\n",
    "    if sigma == 0.0 or n == 1:\n",
    "        x = np.ones(n)\n",
    "        if mu is not None:\n",
    "            x += mu\n",
    "        w = np.ones(n)\n",
    "        return x,w\n",
    "\n",
    "    # a. GaussHermite\n",
    "    x,w = gauss_hermite(n)\n",
    "    x *= np.sqrt(2)*sigma \n",
    "\n",
    "    # b. log-normality\n",
    "    if exp:\n",
    "        if mu is None:\n",
    "            x = np.exp(x - 0.5*sigma**2)\n",
    "        else:\n",
    "            x = np.exp(x + mu)\n",
    "    else:\n",
    "        if mu is None:\n",
    "            x = x \n",
    "        else:\n",
    "            x = x + mu\n",
    "\n",
    "    w /= np.sqrt(math.pi)\n",
    "\n",
    "    return x,w"
   ]
  },
  {
   "cell_type": "markdown",
   "metadata": {},
   "source": [
    "**Results:** Becuase the function is \"nice\", very few quadrature points are actually needed (*not generally true*)."
   ]
  },
  {
   "cell_type": "code",
   "execution_count": 38,
   "metadata": {},
   "outputs": [
    {
     "name": "stdout",
     "output_type": "stream",
     "text": [
      "n =   1: 0.8100000000\n",
      "n =   2: 3.8600000000\n",
      "n =   3: 3.8600000000\n",
      "n =   5: 3.8600000000\n",
      "n =   7: 3.8600000000\n",
      "n =   9: 3.8600000000\n",
      "n =  11: 3.8600000000\n"
     ]
    }
   ],
   "source": [
    "for n in [1,2,3,5,7,9,11]:\n",
    "    x,w = normal_gauss_hermite(mu=mu,sigma=sigma,n=n)\n",
    "    result = np.sum(w*g(x))\n",
    "    print(f'n = {n:3d}: {result:.10f}')"
   ]
  },
  {
   "cell_type": "markdown",
   "metadata": {},
   "source": [
    "**Example II, log-normal ([more info](https://en.wikipedia.org/wiki/Log-normal_distribution)):** \n",
    "\n",
    "1. Let $\\log x \\sim \\mathcal{N}(\\mu,\\sigma)$. \n",
    "2. Gauss-Hermite quadrature nodes and weights can be used with the option `exp=True`. \n",
    "3. To ensure $\\mathbb{E}[x] = 1$ then $\\mu = -0.5\\sigma^2$."
   ]
  },
  {
   "cell_type": "code",
   "execution_count": 39,
   "metadata": {},
   "outputs": [
    {
     "name": "stdout",
     "output_type": "stream",
     "text": [
      "mean(x) when mu = 0\n",
      "MC: 1.1331\n",
      "Gauss-Hermite: 1.1331\n",
      "\n",
      "mean(x), mu = -0.5*sigma^2\n",
      "MC: 1.0081\n",
      "Gauss-Hermite: 1.0000\n"
     ]
    }
   ],
   "source": [
    "z = np.random.normal(size=1_000_000,scale=sigma)\n",
    "\n",
    "print('mean(x) when mu = 0')\n",
    "x,w = normal_gauss_hermite(mu=0,sigma=sigma,n=7,exp=True)\n",
    "print(f'MC: {np.mean(np.exp(z)):.4f}')\n",
    "print(f'Gauss-Hermite: {np.sum(x*w):.4f}')\n",
    "print('')\n",
    "\n",
    "print('mean(x), mu = -0.5*sigma^2')\n",
    "x,w = normal_gauss_hermite(sigma=sigma,n=7,exp=True)\n",
    "print(f'MC: {np.mean(np.exp(z)-0.5*sigma**2):.4f}')\n",
    "print(f'Gauss-Hermite: {np.sum(x*w):.4f}')"
   ]
  }
 ],
 "metadata": {
  "kernelspec": {
   "display_name": "Python 3 (ipykernel)",
   "language": "python",
   "name": "python3"
  },
  "language_info": {
   "codemirror_mode": {
    "name": "ipython",
    "version": 3
   },
   "file_extension": ".py",
   "mimetype": "text/x-python",
   "name": "python",
   "nbconvert_exporter": "python",
   "pygments_lexer": "ipython3",
<<<<<<< HEAD
   "version": "3.9.7"
=======
   "version": "3.9.10"
>>>>>>> 97696e68bc50dbc4e6df47a04560b2f932b2e644
  },
  "toc-autonumbering": true
 },
 "nbformat": 4,
 "nbformat_minor": 4
}
