{
 "cells": [
  {
   "cell_type": "markdown",
   "id": "09388dd9-9c73-4753-a657-fa969ea7fbf8",
   "metadata": {
    "slideshow": {
     "slide_type": "slide"
    },
    "tags": []
   },
   "source": [
    "# Very brief note on Object Oriented Programming (OOP) in Python\n",
    "\n",
    "Today, we will have a short overview of the object oriented programming paradigm in Python. \n",
    "\n",
    "You have seen objects before in the course, but we have not dived into it exclusively yet. "
   ]
  },
  {
   "cell_type": "markdown",
   "id": "cf585383-9e4b-462f-b31e-62a426eb0d94",
   "metadata": {
    "slideshow": {
     "slide_type": "subslide"
    },
    "tags": []
   },
   "source": [
    "First thing is to do [this quiz](https://forms.office.com/Pages/ResponsePage.aspx?id=kX-So6HNlkaviYyfHO_6kQYdWdovQWRFq6yICcsXDG1UQURXWTQ0RjdDMUJJMFY5QVNOSjBKNFpUWS4u) on object oriented programming."
   ]
  },
  {
   "cell_type": "markdown",
   "id": "580f4ecb-b60b-41fa-9842-6d085c178957",
   "metadata": {
    "slideshow": {
     "slide_type": "slide"
    },
    "tags": []
   },
   "source": [
    "### What is an object?\n",
    "\n",
    "*An object is a **bundle** of properties (data) and methods (functions)*\n",
    "\n",
    "All objects are created from a class that has following parts:\n",
    "* *dunder* methods. Methods starting and ending with __\n",
    "* Methods/functions that gives the object its behavior\n",
    "* Properties that contain data.\n",
    "\n",
    "Let's look at an example of a simple class"
   ]
  },
  {
   "cell_type": "code",
   "execution_count": 137,
   "id": "46931a18-5732-4cd3-91f7-bb8454e8731a",
   "metadata": {
    "slideshow": {
     "slide_type": "slide"
    },
    "tags": []
   },
   "outputs": [],
   "source": [
    "class UtilClass:\n",
    "    \n",
    "    desc = 'utility calculator'\n",
    "    \n",
    "    def __init__(self):              \n",
    "        self.alpha = 0.5\n",
    "        self.sigma = 0.1\n",
    "        \n",
    "    def __str__(self):\n",
    "        s = 'Object description: ' \\\n",
    "            + self.desc \\\n",
    "            + '\\nalpha = ' + str(self.alpha) \\\n",
    "            + '\\nsigma = ' + str(self.sigma)\n",
    "        return s\n",
    "        \n",
    "    def util(self,x,y):\n",
    "        u = self.sigma * (x**self.alpha) * (y**(1-self.alpha))\n",
    "        return u\n",
    "      "
   ]
  },
  {
   "cell_type": "code",
   "execution_count": 145,
   "id": "e3198364-4614-4287-bf45-ef63e0aa5bcb",
   "metadata": {
    "slideshow": {
     "slide_type": "fragment"
    },
    "tags": []
   },
   "outputs": [],
   "source": [
    "a = UtilClass()\n",
    "x = 4\n",
    "y = 3"
   ]
  },
  {
   "cell_type": "code",
   "execution_count": 139,
   "id": "4fcf0546-f99b-4f0f-b318-43f132d84c23",
   "metadata": {
    "slideshow": {
     "slide_type": "fragment"
    },
    "tags": []
   },
   "outputs": [
    {
     "name": "stdout",
     "output_type": "stream",
     "text": [
      "Calling the util function\n",
      "a.util(x,y) = 0.34641016151377546\n"
     ]
    }
   ],
   "source": [
    "print('Calling the util function')\n",
    "print('a.util(x,y) =',a.util(x,y))"
   ]
  },
  {
   "cell_type": "markdown",
   "id": "a39b2ac4-fcbc-4ec1-8d6f-3065cd383a96",
   "metadata": {
    "slideshow": {
     "slide_type": "slide"
    },
    "tags": []
   },
   "source": [
    "**dunder methods**\n",
    "* These methods work behind the scenes when using an objects\n",
    "* There is a host of dunder methods. \n",
    "* Here we have the `__init__` and `__str__`.\n",
    "* `__init__` is maybe the most important:\n",
    "    * At object creation it is automatically called. \n",
    "    * Can therefore be used to assign default or specified values to an object\n",
    "* `__str__` Defines what happens if you call the `print()` function on an object\n",
    "* Examples of dunders: `__sizeof__`, `__contains__`, `__ge__`, `__add__`,`__and__`,`__or__`"
   ]
  },
  {
   "cell_type": "code",
   "execution_count": 140,
   "id": "32686a0c-f395-46c7-bbd1-dcf484f00b0b",
   "metadata": {
    "slideshow": {
     "slide_type": "fragment"
    },
    "tags": []
   },
   "outputs": [
    {
     "name": "stdout",
     "output_type": "stream",
     "text": [
      "Object description: utility calculator\n",
      "alpha = 0.5\n",
      "sigma = 0.1\n"
     ]
    }
   ],
   "source": [
    "# Printing content of object\n",
    "print(a)"
   ]
  },
  {
   "cell_type": "markdown",
   "id": "94ad9cbc-d73f-431f-b7ed-464338382443",
   "metadata": {
    "slideshow": {
     "slide_type": "slide"
    },
    "tags": []
   },
   "source": [
    "**Methods**\n",
    "\n",
    "* There is no difference between a method outside and inside a class\n",
    "* **Except** for the `self` keyword.\n",
    "* `self` must *always* be the first argument in function header (but you can use another word)\n",
    "* It simply references the object to which the function is attached.\n",
    "* Because of the `self` keyword, you can write both\n",
    "    * `UtilClass.util(a,x,y)` \n",
    "    * `a.util(x,y)`"
   ]
  },
  {
   "cell_type": "code",
   "execution_count": 141,
   "id": "0c883ec9-c5fe-42c9-8f33-0bbe77bc33ea",
   "metadata": {
    "slideshow": {
     "slide_type": "fragment"
    },
    "tags": []
   },
   "outputs": [
    {
     "name": "stdout",
     "output_type": "stream",
     "text": [
      "\n",
      "Equivalent ways of calling util?\n",
      "True\n"
     ]
    }
   ],
   "source": [
    "print('\\nEquivalent ways of calling util?')\n",
    "print(a.util(x,y) == UtilClass.util(a,x,y))"
   ]
  },
  {
   "cell_type": "markdown",
   "id": "2d676c88-5990-47d1-9fb7-5ce65c26b3cc",
   "metadata": {
    "slideshow": {
     "slide_type": "slide"
    },
    "tags": []
   },
   "source": [
    "**Properties**\n",
    "* Data in an object is stored in its properties\n",
    "* Properties are accessed through the `self` argument inside the class\n",
    "* You can overwrite the value of a property by:\n",
    "    * `a.sigma = 1.2`\n",
    "    * `setattr(a,'sigma',1.2)`\n",
    "* And access them by \n",
    "    * `a.sigma`\n",
    "    * `getattr(a,'sigma')`\n",
    "* `setattr` and `getattr` are nice if you have the relevant property name in a str variable."
   ]
  },
  {
   "cell_type": "code",
   "execution_count": 146,
   "id": "77daacdf-84be-4742-9eae-cd77f36d6c70",
   "metadata": {
    "slideshow": {
     "slide_type": "fragment"
    },
    "tags": []
   },
   "outputs": [
    {
     "name": "stdout",
     "output_type": "stream",
     "text": [
      "Object description: utility calculator\n",
      "alpha = 0.5\n",
      "sigma = 10.0\n"
     ]
    }
   ],
   "source": [
    "# Using functions to get and set a property\n",
    "prop_name = 'sigma'\n",
    "prop_val = getattr(a, prop_name)\n",
    "\n",
    "# Setting the property\n",
    "setattr(a, prop_name, prop_val*100)\n",
    "\n",
    "print(a)"
   ]
  },
  {
   "cell_type": "markdown",
   "id": "e4dbbfd1-030f-4396-ab75-6e85ca0224e4",
   "metadata": {
    "slideshow": {
     "slide_type": "slide"
    },
    "tags": []
   },
   "source": [
    "**In general**\n",
    "* All variables are objects\n",
    "* All objects are references\n",
    "* So recall how references work"
   ]
  },
  {
   "cell_type": "code",
   "execution_count": 147,
   "id": "bc926e89-8811-4820-adaa-476a49c6f090",
   "metadata": {
    "slideshow": {
     "slide_type": "slide"
    },
    "tags": []
   },
   "outputs": [
    {
     "name": "stdout",
     "output_type": "stream",
     "text": [
      "Object description: utility calculator\n",
      "alpha = 0.5\n",
      "sigma = 99\n",
      "a exists?  False\n",
      "b exists?  True\n"
     ]
    }
   ],
   "source": [
    "a = UtilClass()\n",
    "b = a\n",
    "c = UtilClass()\n",
    "\n",
    "# Changing a\n",
    "a.sigma = 99\n",
    "\n",
    "# Printing b\n",
    "print(b)\n",
    "\n",
    "# What happens to b when a is deleted?\n",
    "del a\n",
    "print('a exists? ','a' in locals())\n",
    "print('b exists? ','b' in locals())"
   ]
  }
 ],
 "metadata": {
  "kernelspec": {
   "display_name": "Python 3 (ipykernel)",
   "language": "python",
   "name": "python3"
  },
  "language_info": {
   "codemirror_mode": {
    "name": "ipython",
    "version": 3
   },
   "file_extension": ".py",
   "mimetype": "text/x-python",
   "name": "python",
   "nbconvert_exporter": "python",
   "pygments_lexer": "ipython3",
   "version": "3.9.7"
  }
 },
 "nbformat": 4,
 "nbformat_minor": 5
}
