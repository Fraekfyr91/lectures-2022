{
 "cells": [
  {
   "cell_type": "markdown",
   "id": "4a9fd3f3-ec08-43bc-8934-11d4475814c9",
   "metadata": {},
   "source": [
    "# Change visibility status of projects"
   ]
  },
  {
   "cell_type": "code",
   "execution_count": 1,
   "id": "b4a69b89-2eee-436e-857e-58966be3b7bc",
   "metadata": {},
   "outputs": [],
   "source": [
    "#!pip install PyGithub"
   ]
  },
  {
   "cell_type": "code",
   "execution_count": 1,
   "id": "f9da979b-0fb8-4bf5-bc2d-2852aa3a1385",
   "metadata": {},
   "outputs": [],
   "source": [
    "from github import Github \n",
    "import sys\n",
    "import datetime\n",
    "import pandas as pd\n",
    "import numpy as np\n",
    "import random\n",
    "from collections import Counter"
   ]
  },
  {
   "cell_type": "code",
   "execution_count": 2,
   "id": "f8416716-01c3-47c3-9b7e-3e14337638dc",
   "metadata": {},
   "outputs": [],
   "source": [
    "# Load personal access token\n",
    "with open(\"/Users/jzk870/Documents/NumericalMethods - Harddisk/token/git_access_token.txt\", mode = \"r\") as file:\n",
    "    token = file.read()\n",
    "\n",
    "year = \"2022\"    \n",
    "class_name = \"projects-\" + year"
   ]
  },
  {
   "cell_type": "markdown",
   "id": "66bda1ab-3722-4c45-8850-8367088c6453",
   "metadata": {},
   "source": [
    "### Load all repositories in this year's class room"
   ]
  },
  {
   "cell_type": "code",
   "execution_count": 3,
   "id": "cc1f2223-bbd2-4bc8-8219-8d1244d12d37",
   "metadata": {},
   "outputs": [],
   "source": [
    "# a. Access github through access token. This one has been destroyed by Github for safety reasons.\n",
    "gh = Github(token)\n",
    "org = gh.get_organization('NumEconCopenhagen')\n",
    "all_repos = org.get_repos()\n",
    "\n",
    "# b. Locate all repositories in current class\n",
    "current_class = [repo.name for repo in all_repos if class_name in repo.name]"
   ]
  },
  {
   "cell_type": "code",
   "execution_count": null,
   "id": "d2a23061-a8c9-48fc-840d-9ec5b3af06f4",
   "metadata": {},
   "outputs": [],
   "source": [
    "# See this years' repos\n",
    "for r in current_class:\n",
    "    print(r.removeprefix(class_name+\"-\"))"
   ]
  },
  {
   "cell_type": "markdown",
   "id": "05db6b56-075a-4a5d-9425-1786215b1a0d",
   "metadata": {},
   "source": [
    "### Set visibility of all repositories"
   ]
  },
  {
   "cell_type": "code",
   "execution_count": 4,
   "id": "61c04db4-dcfb-4f14-b5dc-c470520db66b",
   "metadata": {},
   "outputs": [],
   "source": [
    "# c. Use edit command and privat property to set visibility\n",
    "is_private = False\n",
    "\n",
    "# Set privacy status\n",
    "for repo in all_repos:\n",
    "    if repo.name not in current_class:\n",
    "        continue\n",
    "        \n",
    "    # Update status    \n",
    "    repo.edit(private = is_private)"
   ]
  },
  {
   "cell_type": "code",
   "execution_count": 7,
   "id": "460676ae-b42a-4e8a-a202-0a123c5598b6",
   "metadata": {},
   "outputs": [],
   "source": [
    "#test = org.get_repo('projects-2022-crashtest')\n",
    "#test.edit(private=True)"
   ]
  },
  {
   "cell_type": "markdown",
   "id": "51eef9c4-abc7-4db1-aa03-e324dc1a9d03",
   "metadata": {},
   "source": [
    "### Check out visibility"
   ]
  },
  {
   "cell_type": "code",
   "execution_count": 5,
   "id": "97f0a3f1-9537-42ca-a15b-f6af68391469",
   "metadata": {},
   "outputs": [
    {
     "name": "stdout",
     "output_type": "stream",
     "text": [
      "public : crashtest\n",
      "public : git-good\n",
      "public : team-1\n",
      "public : 2h2h\n",
      "public : team-2\n",
      "public : scandies\n",
      "public : learning-c\n",
      "public : anacondainstallers\n",
      "public : teamhackerhannah\n",
      "public : gigachad-grape-valley\n",
      "public : team-abc\n",
      "public : team-4-4-2\n",
      "public : group-cobra\n",
      "public : sprit-af\n",
      "public : 2-brown-1-white\n",
      "public : rasmus-markus\n",
      "public : team-eyu\n",
      "public : simon-nick\n",
      "public : ppap\n",
      "public : sadek-som-statsminister\n",
      "public : group-aj\n",
      "public : teamp-up\n",
      "public : studentsbreadsarerated\n",
      "public : fc-fredericia\n",
      "public : rsi-team\n",
      "public : team-123\n",
      "public : team-wmutfmu\n",
      "public : 21\n",
      "public : lost_in_optimization\n",
      "public : cil-wil-og-sof\n",
      "public : msm\n",
      "public : my_anaconda_don-t\n",
      "public : slet_mig_senere\n",
      "public : team-team\n",
      "public : alberte-og-eva\n",
      "public : amanda-oliver\n",
      "public : rebekka-og-alex\n",
      "public : team-freelvlau\n",
      "public : cc_bc-_og-_bo\n",
      "public : amo\n",
      "public : lads\n",
      "public : team-hjn\n",
      "public : gustav-og-daniel\n",
      "public : three-horses\n",
      "public : mads-rasmus-kristian\n",
      "public : anna-thomas-oscar\n",
      "public : paulaemma-s\n",
      "public : busk\n",
      "public : clara-yannie\n",
      "public : edb-boys\n",
      "public : team\n",
      "public : sabrina-christoffer\n",
      "public : group-ky-nla\n",
      "public : marko_og_david\n",
      "public : dream-team\n",
      "public : jonathan-og-anna\n",
      "public : christopher-mie-og-emma\n",
      "public : ludvigsen\n",
      "public : jeppe-hersh-signe\n",
      "public : markus-kasper\n",
      "public : mmf\n",
      "public : anna-class-1\n",
      "public : ambitionzazaridah\n",
      "public : sophsim\n",
      "public : torsdag\n",
      "public : group-emil-dan-kasper\n",
      "public : vpn\n",
      "public : teamtea\n",
      "public : avp\n",
      "public : group_st\n",
      "public : guccimane1996\n",
      "public : madsholleufer\n",
      "public : cs\n",
      "public : team-weuh\n"
     ]
    }
   ],
   "source": [
    "# d. Detect status of all repositories\n",
    "for repo in all_repos:\n",
    "    if repo.name not in current_class:\n",
    "        continue\n",
    "        \n",
    "    if repo.private:\n",
    "        s = \"private\"\n",
    "    else: \n",
    "        s = \"public \"\n",
    "    \n",
    "    print(s + \": \" + repo.name.removeprefix(class_name+\"-\"))"
   ]
  }
 ],
 "metadata": {
  "kernelspec": {
   "display_name": "Python 3 (ipykernel)",
   "language": "python",
   "name": "python3"
  },
  "language_info": {
   "codemirror_mode": {
    "name": "ipython",
    "version": 3
   },
   "file_extension": ".py",
   "mimetype": "text/x-python",
   "name": "python",
   "nbconvert_exporter": "python",
   "pygments_lexer": "ipython3",
   "version": "3.9.7"
  }
 },
 "nbformat": 4,
 "nbformat_minor": 5
}
