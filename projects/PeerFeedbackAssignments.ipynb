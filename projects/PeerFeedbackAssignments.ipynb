{
 "cells": [
  {
   "cell_type": "markdown",
   "id": "7ac22349",
   "metadata": {},
   "source": [
    "# Assignment of peer feedback\n",
    "\n",
    "This notebook contains the code used to determine which two other teams each team must give feed back to in the data project"
   ]
  },
  {
   "cell_type": "code",
   "execution_count": 2,
   "id": "a25a5d77",
   "metadata": {},
   "outputs": [],
   "source": [
    "#!pip install PyGithub"
   ]
  },
  {
   "cell_type": "code",
   "execution_count": 3,
   "id": "5410363f",
   "metadata": {},
   "outputs": [],
   "source": [
    "from github import Github \n",
    "import sys\n",
    "import datetime\n",
    "import pandas as pd\n",
    "import numpy as np\n",
    "import random\n",
    "from collections import Counter"
   ]
  },
  {
   "cell_type": "code",
   "execution_count": 4,
   "id": "9ba6d3d8-48cc-4fd5-bdea-036a149020d9",
   "metadata": {},
   "outputs": [],
   "source": [
    "# Which project are we finding peer reviewing for?\n",
    "all_projects= ['inauguralproject', 'dataproject', 'modelproject']\n",
    "project = 'dataproject' \n",
    "seed = all_projects.index(project)\n",
    "year = \"2022\"   "
   ]
  },
  {
   "cell_type": "code",
   "execution_count": 5,
   "id": "f8416716-01c3-47c3-9b7e-3e14337638dc",
   "metadata": {},
   "outputs": [],
   "source": [
    "# Load personal access token\n",
    "with open(\"/Users/jzk870/Documents/NumericalMethods - Harddisk/token/git_access_token.txt\", mode = \"r\") as file:\n",
    "    token = file.read()"
   ]
  },
  {
   "cell_type": "code",
   "execution_count": 6,
   "id": "6348ec1d-b9f1-4984-97c5-1e247fc42ecb",
   "metadata": {},
   "outputs": [],
   "source": [
    "# a. Access github through access token. This one has been destroyed by Github for safety reasons.\n",
    "gh = Github(token)\n",
    "org = gh.get_organization('NumEconCopenhagen')\n",
    "all_repos = org.get_repos()\n",
    "\n",
    "# b. Locate all repositories in current class \n",
    "class_name = \"projects-\" + year\n",
    "current_class = [repo.name for repo in all_repos if class_name in repo.name]"
   ]
  },
  {
   "cell_type": "code",
   "execution_count": 7,
   "id": "8503d273-9d55-4851-a77a-1653f040a478",
   "metadata": {},
   "outputs": [],
   "source": [
    "# c. Structures  \n",
    "active_repos = {}\n",
    "date0 = datetime.datetime(2022, 3, 1)\n",
    "handin_date = datetime.datetime(2022, 5, 13)\n",
    "\n",
    "disregard_repos = [\"projects-2022-slet_mig_senere\", \"projects-2022-crashtest\", \"projects-2022-team-wmutfmu\", \n",
    "                   \"team-wmutfmu\", \"projects-2022-guccimane1996\", \"projects-2022-marko_og_david\", \"projects-2022-avp\"]"
   ]
  },
  {
   "cell_type": "code",
   "execution_count": 8,
   "id": "306bc685",
   "metadata": {},
   "outputs": [],
   "source": [
    "# Function to test whether activity has been recorded since active date in specific project\n",
    "def check_activity(repo, project, active_repos, start_date, handin_date):\n",
    "    try:\n",
    "        commits = repo.get_commits(since = start_date, until = handin_date)\n",
    "        for commit in commits:\n",
    "            for cf in commit.files:\n",
    "                if project in cf.filename:\n",
    "                    active_repos[repo.name] = repo\n",
    "                    return active_repos\n",
    "    except:\n",
    "        pass    \n",
    "    return active_repos"
   ]
  },
  {
   "cell_type": "code",
   "execution_count": 9,
   "id": "0ceff6d1",
   "metadata": {},
   "outputs": [
    {
     "name": "stdout",
     "output_type": "stream",
     "text": [
      "processing repo 69 out of 74\r"
     ]
    }
   ],
   "source": [
    "# Add active repos to dictionary\n",
    "i = 1\n",
    "for repo in all_repos:\n",
    "    \n",
    "    if repo.name not in current_class:\n",
    "        continue\n",
    "    \n",
    "    if repo.name in disregard_repos:\n",
    "        continue \n",
    "        \n",
    "    print('processing repo', str(i), 'out of', str(len(current_class)), end = '\\r')\n",
    "    \n",
    "    # Run function to test presence an active data project\n",
    "    active_repos = check_activity(repo, project, active_repos, date0, handin_date)\n",
    "    i += 1"
   ]
  },
  {
   "cell_type": "code",
   "execution_count": 10,
   "id": "b92132c0",
   "metadata": {
    "tags": []
   },
   "outputs": [],
   "source": [
    "# Get team names and write out all active repos\n",
    "teams = []\n",
    "for k in active_repos.keys():\n",
    "    teams.append(k.replace(class_name+'-', ''))\n",
    "teams.sort()"
   ]
  },
  {
   "cell_type": "code",
   "execution_count": 11,
   "id": "d55547ee",
   "metadata": {
    "tags": []
   },
   "outputs": [
    {
     "data": {
      "text/html": [
       "<div>\n",
       "<style scoped>\n",
       "    .dataframe tbody tr th:only-of-type {\n",
       "        vertical-align: middle;\n",
       "    }\n",
       "\n",
       "    .dataframe tbody tr th {\n",
       "        vertical-align: top;\n",
       "    }\n",
       "\n",
       "    .dataframe thead th {\n",
       "        text-align: right;\n",
       "    }\n",
       "</style>\n",
       "<table border=\"1\" class=\"dataframe\">\n",
       "  <thead>\n",
       "    <tr style=\"text-align: right;\">\n",
       "      <th></th>\n",
       "      <th>team</th>\n",
       "      <th>peer_group_1</th>\n",
       "      <th>peer_group_2</th>\n",
       "    </tr>\n",
       "  </thead>\n",
       "  <tbody>\n",
       "    <tr>\n",
       "      <th>0</th>\n",
       "      <td>2-brown-1-white</td>\n",
       "      <td>NaN</td>\n",
       "      <td>NaN</td>\n",
       "    </tr>\n",
       "    <tr>\n",
       "      <th>1</th>\n",
       "      <td>21</td>\n",
       "      <td>NaN</td>\n",
       "      <td>NaN</td>\n",
       "    </tr>\n",
       "    <tr>\n",
       "      <th>2</th>\n",
       "      <td>2h2h</td>\n",
       "      <td>NaN</td>\n",
       "      <td>NaN</td>\n",
       "    </tr>\n",
       "    <tr>\n",
       "      <th>3</th>\n",
       "      <td>alberte-og-eva</td>\n",
       "      <td>NaN</td>\n",
       "      <td>NaN</td>\n",
       "    </tr>\n",
       "    <tr>\n",
       "      <th>4</th>\n",
       "      <td>amanda-oliver</td>\n",
       "      <td>NaN</td>\n",
       "      <td>NaN</td>\n",
       "    </tr>\n",
       "  </tbody>\n",
       "</table>\n",
       "</div>"
      ],
      "text/plain": [
       "              team  peer_group_1  peer_group_2\n",
       "0  2-brown-1-white           NaN           NaN\n",
       "1               21           NaN           NaN\n",
       "2             2h2h           NaN           NaN\n",
       "3   alberte-og-eva           NaN           NaN\n",
       "4    amanda-oliver           NaN           NaN"
      ]
     },
     "execution_count": 11,
     "metadata": {},
     "output_type": "execute_result"
    }
   ],
   "source": [
    "# Create data frame for storing assignment\n",
    "random.seed(seed)\n",
    "teams_df = pd.DataFrame(data = teams, columns = ['team'])\n",
    "irrelevant = teams_df.team.isin(disregard_repos)\n",
    "teams_df = teams_df.loc[np.invert(irrelevant),:]\n",
    "teams_df.sort_values(by = 'team', inplace = True)\n",
    "teams_df.reset_index(drop=True, inplace=True)\n",
    "teams_df['peer_group_1'] = np.nan\n",
    "teams_df['peer_group_2'] = np.nan\n",
    "teams_df.head()"
   ]
  },
  {
   "cell_type": "code",
   "execution_count": 12,
   "id": "629f8b60-5ef3-4fd0-a534-0d976df7a645",
   "metadata": {},
   "outputs": [
    {
     "data": {
      "text/plain": [
       "66"
      ]
     },
     "execution_count": 12,
     "metadata": {},
     "output_type": "execute_result"
    }
   ],
   "source": [
    "len(teams)"
   ]
  },
  {
   "cell_type": "code",
   "execution_count": 13,
   "id": "5153f517",
   "metadata": {},
   "outputs": [],
   "source": [
    "# Algorithm for assigning peers to teams\n",
    "N = len(teams_df.team.values)\n",
    "counter = [0 for _ in range(N)]\n",
    "assigned = []\n",
    "\n",
    "# For each team, loop over teams that have not already been assigned\n",
    "for i,_ in enumerate(teams_df.team):\n",
    "    pop = [t for t in range(N) if (t != i) & (t not in assigned)]\n",
    "    peers = random.sample(pop, 2)    \n",
    "    for c in [0,1]:\n",
    "        teams_df.iloc[i, 1 + c] = teams_df.team[peers[c]]\n",
    "        counter[peers[c]] += 1\n",
    "        if counter[peers[c]] == 2:\n",
    "            assigned.append(peers[c])\n",
    "\n",
    "# see teams_df in variable inspector "
   ]
  },
  {
   "cell_type": "code",
   "execution_count": 14,
   "id": "7f9555bd",
   "metadata": {},
   "outputs": [
    {
     "name": "stdout",
     "output_type": "stream",
     "text": [
      "Everyone is assigned to exactly 2 groups?:  True\n"
     ]
    }
   ],
   "source": [
    "# Test that everyone are assigned to exactly 2 groups\n",
    "peergroups = teams_df.peer_group_1.values.tolist() + teams_df.peer_group_2.values.tolist()\n",
    "counts = Counter(peergroups)\n",
    "print('Everyone is assigned to exactly 2 groups?: ', set(counts.values()) == {2})"
   ]
  },
  {
   "cell_type": "markdown",
   "id": "2558dc6e",
   "metadata": {},
   "source": [
    "Store the resulting list in excel file available on MS Teams"
   ]
  },
  {
   "cell_type": "code",
   "execution_count": 16,
   "id": "de0e5151",
   "metadata": {},
   "outputs": [],
   "source": [
    "teams_df.to_excel('Data Project - peer assignment.xlsx', sheet_name=project, index = False)"
   ]
  }
 ],
 "metadata": {
  "kernelspec": {
   "display_name": "Python 3 (ipykernel)",
   "language": "python",
   "name": "python3"
  },
  "language_info": {
   "codemirror_mode": {
    "name": "ipython",
    "version": 3
   },
   "file_extension": ".py",
   "mimetype": "text/x-python",
   "name": "python",
   "nbconvert_exporter": "python",
   "pygments_lexer": "ipython3",
   "version": "3.9.7"
  },
  "toc-autonumbering": false
 },
 "nbformat": 4,
 "nbformat_minor": 5
}
