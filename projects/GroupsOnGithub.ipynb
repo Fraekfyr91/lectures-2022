{
 "cells": [
  {
   "cell_type": "markdown",
   "id": "bc91d7fb-e3d5-4c13-a629-4b55d9ff2ac4",
   "metadata": {},
   "source": [
    "# Get members of groups based on Github repositories\n",
    "Used for finding out exercise class membership "
   ]
  },
  {
   "cell_type": "code",
   "execution_count": 1,
   "id": "a9aa84c5-e3be-41ae-b4aa-3def3bd47f0c",
   "metadata": {},
   "outputs": [],
   "source": [
    "from github import Github \n",
    "import sys\n",
    "import datetime\n",
    "import pandas as pd\n",
    "import numpy as np\n",
    "import random\n",
    "from collections import Counter"
   ]
  },
  {
   "cell_type": "code",
   "execution_count": 2,
   "id": "540963f2-db10-4e8c-8f8d-5da423573c10",
   "metadata": {},
   "outputs": [],
   "source": [
    "# Load personal access token\n",
    "with open(\"/Users/jzk870/Documents/NumericalMethods - Harddisk/token/git_access_token.txt\", mode = \"r\") as file:\n",
    "    token = file.read()\n",
    "\n",
    "year = \"2022\"    \n",
    "class_name = \"projects-\" + year"
   ]
  },
  {
   "cell_type": "markdown",
   "id": "0f19d918-7c7a-492e-8b73-6fa837277677",
   "metadata": {},
   "source": [
    "### Load all repositories in this year's class room"
   ]
  },
  {
   "cell_type": "code",
   "execution_count": 3,
   "id": "8838852a-b033-476c-827f-5e6485cceec5",
   "metadata": {},
   "outputs": [],
   "source": [
    "# a. Access github through access token. This one has been destroyed by Github for safety reasons.\n",
    "gh = Github(token)\n",
    "org = gh.get_organization('NumEconCopenhagen')\n",
    "all_repos = org.get_repos()\n",
    "\n",
    "# b. Locate all repositories in current class\n",
    "disregard_repos = [\"projects-2022-slet_mig_senere\", \"projects-2022-crashtest\", \"projects-2022-team-wmutfmu\", \n",
    "                   \"team-wmutfmu\", \"projects-2022-guccimane1996\", \"projects-2022-marko_og_david\"]\n",
    "\n",
    "current_class = [repo.name for repo in all_repos if (class_name in repo.name) & (repo.name not in disregard_repos)]"
   ]
  },
  {
   "cell_type": "code",
   "execution_count": 4,
   "id": "bc7244d4-f84c-45e9-8f05-fa2370d830cb",
   "metadata": {},
   "outputs": [],
   "source": [
    "class_repos = []\n",
    "groups = {}\n",
    "admins = [\"AndersMunkN\", \"JeppeDruedahl\", \"ChristianLangholzCarstensen\"]\n",
    "students = []\n",
    "\n",
    "for repo in all_repos:\n",
    "    if repo.name not in current_class:\n",
    "        continue\n",
    "    \n",
    "    # Get the set of collaborators for a repo - remove organization admins\n",
    "    collaborators = repo.get_collaborators().get_page(0)\n",
    "    members = [c.login for c in collaborators if c.login not in admins]\n",
    "    \n",
    "    # Add members to dictionary and to list of all students\n",
    "    grp_name = repo.name.removeprefix(class_name+\"-\")  \n",
    "    groups[grp_name] = members\n",
    "    \n",
    "    students.extend(members)\n",
    "    "
   ]
  },
  {
   "cell_type": "code",
   "execution_count": 5,
   "id": "e37dc43c-9983-4f85-93c3-69720ec24a7a",
   "metadata": {},
   "outputs": [],
   "source": [
    "# Make a pandas data frame out of groups and members and print to xlsx\n",
    "gd = {k:pd.Series(v) for k,v in groups.items()}\n",
    "groups_df = pd.DataFrame(gd) \n",
    "\n",
    "groups_df = groups_df.T\n",
    "\n",
    "groups_df.rename(columns = {0:'Member1',1:'Member2',2:'Member3',3:'Member4'}, inplace=True)\n",
    "\n",
    "del groups_df['Member4'] \n",
    "\n",
    "groups_df.fillna('',inplace=True)\n",
    "\n",
    "groups_df.sort_index(inplace=True)\n",
    "\n",
    "groups_df['ExerciseClass'] = ''"
   ]
  },
  {
   "cell_type": "code",
   "execution_count": 6,
   "id": "c028a007-41a6-4452-8015-430932d78e3c",
   "metadata": {},
   "outputs": [
    {
     "data": {
      "text/html": [
       "<div>\n",
       "<style scoped>\n",
       "    .dataframe tbody tr th:only-of-type {\n",
       "        vertical-align: middle;\n",
       "    }\n",
       "\n",
       "    .dataframe tbody tr th {\n",
       "        vertical-align: top;\n",
       "    }\n",
       "\n",
       "    .dataframe thead th {\n",
       "        text-align: right;\n",
       "    }\n",
       "</style>\n",
       "<table border=\"1\" class=\"dataframe\">\n",
       "  <thead>\n",
       "    <tr style=\"text-align: right;\">\n",
       "      <th></th>\n",
       "      <th>Group</th>\n",
       "      <th>Member1</th>\n",
       "      <th>Member2</th>\n",
       "      <th>Member3</th>\n",
       "      <th>ExerciseClass</th>\n",
       "    </tr>\n",
       "  </thead>\n",
       "  <tbody>\n",
       "    <tr>\n",
       "      <th>0</th>\n",
       "      <td>2-brown-1-white</td>\n",
       "      <td>dmz246</td>\n",
       "      <td>dmx963</td>\n",
       "      <td></td>\n",
       "      <td></td>\n",
       "    </tr>\n",
       "    <tr>\n",
       "      <th>1</th>\n",
       "      <td>21</td>\n",
       "      <td>A5k3r</td>\n",
       "      <td></td>\n",
       "      <td></td>\n",
       "      <td></td>\n",
       "    </tr>\n",
       "    <tr>\n",
       "      <th>2</th>\n",
       "      <td>2h2h</td>\n",
       "      <td>Christine-Bach</td>\n",
       "      <td>kasperloewer</td>\n",
       "      <td></td>\n",
       "      <td></td>\n",
       "    </tr>\n",
       "    <tr>\n",
       "      <th>3</th>\n",
       "      <td>alberte-og-eva</td>\n",
       "      <td>albertehoeg</td>\n",
       "      <td>czq776</td>\n",
       "      <td></td>\n",
       "      <td></td>\n",
       "    </tr>\n",
       "    <tr>\n",
       "      <th>4</th>\n",
       "      <td>amanda-oliver</td>\n",
       "      <td>amandachris97</td>\n",
       "      <td>qcn966</td>\n",
       "      <td></td>\n",
       "      <td></td>\n",
       "    </tr>\n",
       "  </tbody>\n",
       "</table>\n",
       "</div>"
      ],
      "text/plain": [
       "             Group         Member1       Member2 Member3 ExerciseClass\n",
       "0  2-brown-1-white          dmz246        dmx963                      \n",
       "1               21           A5k3r                                    \n",
       "2             2h2h  Christine-Bach  kasperloewer                      \n",
       "3   alberte-og-eva     albertehoeg        czq776                      \n",
       "4    amanda-oliver   amandachris97        qcn966                      "
      ]
     },
     "execution_count": 6,
     "metadata": {},
     "output_type": "execute_result"
    }
   ],
   "source": [
    "groups_df.reset_index(inplace=True)\n",
    "groups_df.rename(columns={'index':'Group'}, inplace=True)\n",
    "groups_df.head()"
   ]
  },
  {
   "cell_type": "code",
   "execution_count": 7,
   "id": "82ed10a2-5ebe-4488-be2e-cf50742c1239",
   "metadata": {
    "tags": []
   },
   "outputs": [],
   "source": [
    "groups_df.to_excel('Groups-And-Exercise-Classes.xlsx', sheet_name='Groups', index = False)"
   ]
  }
 ],
 "metadata": {
  "kernelspec": {
   "display_name": "Python 3 (ipykernel)",
   "language": "python",
   "name": "python3"
  },
  "language_info": {
   "codemirror_mode": {
    "name": "ipython",
    "version": 3
   },
   "file_extension": ".py",
   "mimetype": "text/x-python",
   "name": "python",
   "nbconvert_exporter": "python",
   "pygments_lexer": "ipython3",
   "version": "3.9.7"
  }
 },
 "nbformat": 4,
 "nbformat_minor": 5
}
