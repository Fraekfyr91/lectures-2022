{
 "cells": [
  {
   "cell_type": "markdown",
   "metadata": {
    "slideshow": {
     "slide_type": "slide"
    },
    "tags": []
   },
   "source": [
    "# Optimize, print and plot"
   ]
  },
  {
   "cell_type": "markdown",
   "metadata": {
    "slideshow": {
     "slide_type": "fragment"
    },
    "tags": []
   },
   "source": [
    "As the very first thing: take this [quiz](https://forms.office.com/Pages/ResponsePage.aspx?id=kX-So6HNlkaviYyfHO_6kckJrnVYqJlJgGf8Jm3FvY9UQ0lEVEQ2RzNTWEhNUVFTUDVIRzdOTEMzMSQlQCN0PWcu)"
   ]
  },
  {
   "cell_type": "markdown",
   "metadata": {
    "slideshow": {
     "slide_type": "slide"
    },
    "tags": []
   },
   "source": [
    "Today, we will be: \n",
    "1. Introducing the main package for handling numerical data **[numpy](https://numpy.org/)**.\n",
    "2. Defining a utility function to be used in a optimization problem. \n",
    "3. Describing this function in figures using the library **[matplotlib](https://matplotlib.org/)**.\n",
    "4. Solving a numerical optimization problems using the module **optimize** from **[scipy](https://scipy.org/)**.\n",
    "5. Reporting the results in text using formatted **prints** as well as in figures. \n",
    "\n",
    "**More links:**\n",
    "\n",
    "- **print**: [examples](https://www.python-course.eu/python3_formatted_output.php) (very detailed)\n",
    "- **numpy**: [detailed tutorial](https://www.python-course.eu/numpy.php)\n",
    "- **matplotlib**: [examples](https://matplotlib.org/tutorials/introductory/sample_plots.html#sphx-glr-tutorials-introductory-sample-plots-py), [documentation](https://matplotlib.org/users/index.html), [styles](https://matplotlib.org/3.1.0/gallery/style_sheets/style_sheets_reference.html)\n",
    "- **scipy-optimize**: [documentation](https://docs.scipy.org/doc/scipy/reference/optimize.html)"
   ]
  },
  {
   "cell_type": "markdown",
   "metadata": {
    "slideshow": {
     "slide_type": "slide"
    },
    "tags": []
   },
   "source": [
    "# The consumer problem\n",
    "\n",
    "Let's first review where we are heading today.  \n",
    "We want to be able to solve an economic problem with Python. \n",
    "\n",
    "Therefore, consider the following 2-good consumer problem with \n",
    "\n",
    "* utility function $u(x_1,x_2):\\mathbb{R}^2_{+}\\rightarrow\\mathbb{R}$,\n",
    "* exogenous income $I$, and \n",
    "* price-vector $(p_1,p_2)$,\n",
    "\n",
    "given by\n",
    "\n",
    "$$\n",
    "\\begin{aligned}\n",
    "V(p_{1},p_{2},I) & = \\max_{x_{1},x_{2}}u(x_{1},x_{2})\\\\\n",
    " \\text{s.t.}\\\\\n",
    "p_{1}x_{1}+p_{2}x_{2} & \\leq I,\\,\\,\\,p_{1},p_{2},I>0\\\\\n",
    "x_{1},x_{2} & \\geq 0\n",
    "\\end{aligned}\n",
    "$$"
   ]
  },
  {
   "cell_type": "markdown",
   "metadata": {
    "slideshow": {
     "slide_type": "subslide"
    },
    "tags": []
   },
   "source": [
    "**Your computer can only do a specific numerical implementation:**  \n",
    "Let the utility function be Cobb-Douglas,\n",
    "\n",
    "$$\n",
    "u(x_1,x_2) = x_1^{\\alpha}x_2^{1-\\alpha}\n",
    "$$\n",
    "\n",
    "We then know the solution is given by\n",
    "\n",
    "$$\n",
    "\\begin{aligned}\n",
    "x_1^{\\ast} &= \\alpha \\frac{I}{p_1} \\\\\n",
    "x_2^{\\ast} &= (1-\\alpha) \\frac{I}{p_2}\n",
    "\\end{aligned}\n",
    "$$\n",
    "\n",
    "which implies that $\\alpha$ is the budget share of the first good and $1-\\alpha$ is the budget share of the second good.\n",
    "\n",
    "We **know** what to do here with pen and paper.  \n",
    "But how do we solve nicely using Python? This is what we'll do today.."
   ]
  },
  {
   "cell_type": "markdown",
   "metadata": {
    "slideshow": {
     "slide_type": "slide"
    },
    "tags": []
   },
   "source": [
    "# Numerical python (numpy)\n",
    "\n",
    "* In L02, we only used **base Python**. The set of operations and containers baked into the core of Python. \n",
    "* Now we are importing the package **numpy** (which you got through the Anaconda distribution).  \n",
    "* Numpy is **the** package for handling data going into mathmatical operations (base Python isn't great there). \n",
    "* It is build around it's container, the **ndarray**, for which there is a bunch of especially made routines. \n",
    "* The routines (multiplications, matrix algebra, etc) are highly efficient. Implemented in C-code. \n",
    "* A list (which is base Python) and a ndarray are thus different things that behave differently. "
   ]
  },
  {
   "cell_type": "code",
   "execution_count": 1,
   "metadata": {
    "slideshow": {
     "slide_type": "fragment"
    },
    "tags": []
   },
   "outputs": [],
   "source": [
    "import numpy as np # import the numpy module"
   ]
  },
  {
   "cell_type": "markdown",
   "metadata": {
    "slideshow": {
     "slide_type": "subslide"
    },
    "tags": []
   },
   "source": [
    "A **numpy array** is a lot like a list but with important differences:\n",
    "\n",
    "1. Elements must be of **one homogenous type** (ints, floats...).\n",
    "2. A **slice returns a view** rather than extract content.\n",
    "3. A numpy array **cannot change size** after creation (there is no append function).\n",
    "4. A numpy array cannot do a list comprehension. \n",
    "\n",
    "Obviously, numpy arrays are less flexible things than lists.  \n",
    "But that is what allows them to use more effecient mathmatical routines. "
   ]
  },
  {
   "cell_type": "markdown",
   "metadata": {
    "slideshow": {
     "slide_type": "subslide"
    },
    "tags": []
   },
   "source": [
    "## Basics"
   ]
  },
  {
   "cell_type": "markdown",
   "metadata": {
    "slideshow": {
     "slide_type": "fragment"
    },
    "tags": []
   },
   "source": [
    "Numpy arrays can be **created from lists** and can be **multi-dimensional**:"
   ]
  },
  {
   "cell_type": "code",
   "execution_count": 21,
   "metadata": {
    "slideshow": {
     "slide_type": "fragment"
    },
    "tags": []
   },
   "outputs": [
    {
     "name": "stdout",
     "output_type": "stream",
     "text": [
      "A is a <class 'numpy.ndarray'> and B is a <class 'numpy.ndarray'>\n",
      "As data is int64 Bs data is float64\n",
      "A dimensions: 1 B dimensions: 2\n",
      "shape of A: (10,) shape of B: (3, 3)\n",
      "size of A: 10 size of B: 9\n"
     ]
    }
   ],
   "source": [
    "A = np.array([0, 1, 2, 3, 4, 5, 6, 7, 8, 9]) # one dimension\n",
    "B = np.array([[3.4, 8.7, 9.9], \n",
    "              [1.1, -7.8, -0.7],\n",
    "              [4.1, 12.3, 4.8]]) # two dimensions\n",
    "\n",
    "print('A is a', type(A),'and B is a', type(B)) # type\n",
    "print('As data is',A.dtype,'Bs data is' , B.dtype) # data type\n",
    "print('A dimensions:', A.ndim, 'B dimensions:',B.ndim) # dimensions\n",
    "print('shape of A:',A.shape,'shape of B:',B.shape) # shape (1d: (columns,), 2d: (row,columns))\n",
    "print('size of A:',A.size,'size of B:',B.size) # size"
   ]
  },
  {
   "cell_type": "markdown",
   "metadata": {
    "slideshow": {
     "slide_type": "fragment"
    },
    "tags": []
   },
   "source": [
    "Notice that the matrix `B` was a bunch of stacked **rows**. Python is row major language. "
   ]
  },
  {
   "cell_type": "markdown",
   "metadata": {
    "slideshow": {
     "slide_type": "subslide"
    },
    "tags": []
   },
   "source": [
    "**Slicing** a numpy array returns a **view**, which is a **reference** to the part of the array that was sliced out.  \n",
    "*Remember the points about references in L02*"
   ]
  },
  {
   "cell_type": "code",
   "execution_count": 42,
   "metadata": {
    "slideshow": {
     "slide_type": "fragment"
    },
    "tags": []
   },
   "outputs": [
    {
     "name": "stdout",
     "output_type": "stream",
     "text": [
      "V = [0 0 4 5]\n",
      "A = [0 1 0 0 4 5 6 7 8 9] changed\n",
      "A = [0 1 0 0 4 5 6 7 8 9] did not change\n"
     ]
    }
   ],
   "source": [
    "A = np.array([0, 1, 2, 3, 4, 5, 6, 7, 8, 9])\n",
    "V = A[2:6]         # V is a reference to a slice of a A\n",
    "\n",
    "# Make changes in V and note what happens in A\n",
    "V[0] = 0; V[1] = 0 \n",
    "print('V =',V)\n",
    "print('A =',A,'changed')     # A has changed\n",
    "\n",
    "# If C was a copy, A wouldn't have changed\n",
    "C = A.copy()\n",
    "C[0] = 99\n",
    "print('A =',A, 'did not change') "
   ]
  },
  {
   "cell_type": "markdown",
   "metadata": {
    "slideshow": {
     "slide_type": "subslide"
    },
    "tags": []
   },
   "source": [
    "Numpy array can also be created using numpy functions:"
   ]
  },
  {
   "cell_type": "code",
   "execution_count": null,
   "metadata": {
    "slideshow": {
     "slide_type": "fragment"
    },
    "tags": []
   },
   "outputs": [],
   "source": [
    "print(np.ones((2,3)))\n",
    "print(np.zeros((4,2)))\n",
    "print(np.linspace(0,1,6)) # linear spacing"
   ]
  },
  {
   "cell_type": "markdown",
   "metadata": {
    "slideshow": {
     "slide_type": "fragment"
    },
    "tags": []
   },
   "source": [
    "**Tip 1:** Try pressing <kbd>Shift</kbd>+<kbd>Tab</kbd> inside a function.<br>\n",
    "\n",
    "**Tip 2:** Try to write `?np.linspace` in a cell"
   ]
  },
  {
   "cell_type": "code",
   "execution_count": null,
   "metadata": {
    "slideshow": {
     "slide_type": "fragment"
    },
    "tags": []
   },
   "outputs": [],
   "source": [
    "?np.linspace"
   ]
  },
  {
   "cell_type": "markdown",
   "metadata": {
    "slideshow": {
     "slide_type": "subslide"
    },
    "tags": []
   },
   "source": [
    "## Math\n",
    "\n",
    "Numpy arrays are designed for **mathematical operations**\n",
    "\n",
    "Operations * + - / happen element-by-element between to ndarrays."
   ]
  },
  {
   "cell_type": "code",
   "execution_count": 65,
   "metadata": {
    "slideshow": {
     "slide_type": "fragment"
    },
    "tags": []
   },
   "outputs": [
    {
     "name": "stdout",
     "output_type": "stream",
     "text": [
      "A\n",
      " [[1 0]\n",
      " [0 1]] \n",
      "B\n",
      " [[2 2]\n",
      " [2 2]]\n",
      "A+B\n",
      " [[3 2]\n",
      " [2 3]] \n",
      "\n"
     ]
    }
   ],
   "source": [
    "A = np.array([[1,0],[0,1]])\n",
    "B = np.array([[2,2],[2,2]])\n",
    "\n",
    "print('A\\n',A,'\\nB\\n',B)\n",
    "print('A+B\\n',A+B,'\\n') # Add 2 numpy arrays element-by-element"
   ]
  },
  {
   "cell_type": "code",
   "execution_count": null,
   "metadata": {
    "slideshow": {
     "slide_type": "subslide"
    },
    "tags": []
   },
   "outputs": [],
   "source": [
    "# More examples\n",
    "print('A-B\\n',A-B,'\\n')\n",
    "print('A*B\\n',A*B,'\\n') # element-by-element product\n",
    "print('A/B\\n',A/B,'\\n') # element-by-element division\n",
    "print('A@B\\n',A@B,'\\n') # matrix product"
   ]
  },
  {
   "cell_type": "markdown",
   "metadata": {
    "slideshow": {
     "slide_type": "subslide"
    },
    "tags": []
   },
   "source": [
    "**Broadcasting**  \n",
    "* If arrays does not fit together **broadcasting** is applied.  \n",
    "* When broadcasting, numpy uses the dimensions that **do fit** (if possible).  \n",
    "* **Simple case:** multiplying a scalar (an array with 1 element) with a larger ndarray.  "
   ]
  },
  {
   "cell_type": "code",
   "execution_count": 80,
   "metadata": {
    "slideshow": {
     "slide_type": "fragment"
    },
    "tags": []
   },
   "outputs": [
    {
     "name": "stdout",
     "output_type": "stream",
     "text": [
      "A\n",
      " [[10 20 30]\n",
      " [40 50 60]] (2, 3)\n",
      "B\n",
      " [1 2 3] (3,)\n",
      "\n",
      "Multiplication along columns\n",
      "[[ 10  40  90]\n",
      " [ 40 100 180]]\n"
     ]
    }
   ],
   "source": [
    "A = np.array([[10, 20, 30], [40, 50, 60]]) # shape = (2,3) \n",
    "B = np.array([1, 2, 3]) # shape = (3,) = (1,3)\n",
    "\n",
    "print('A\\n',A, A.shape)\n",
    "print('B\\n',B, B.shape) # Notice the shape 'transformation' column vector!\n",
    "print('\\nMultiplication along columns')\n",
    "print(A*B) "
   ]
  },
  {
   "cell_type": "markdown",
   "metadata": {
    "slideshow": {
     "slide_type": "subslide"
    },
    "tags": []
   },
   "source": [
    "Another example. Note that B above did not have a 2nd dimension.  \n",
    "C has explicitely 2 rows and 1 columun when created as such."
   ]
  },
  {
   "cell_type": "code",
   "execution_count": 81,
   "metadata": {
    "slideshow": {
     "slide_type": "fragment"
    },
    "tags": []
   },
   "outputs": [
    {
     "name": "stdout",
     "output_type": "stream",
     "text": [
      "[[1]\n",
      " [2]] (2, 1) \n",
      "\n",
      "[[ 10  20  30]\n",
      " [ 80 100 120]] \n",
      "\n"
     ]
    }
   ],
   "source": [
    "C = np.array([[1],[2]]) \n",
    "print(C, C.shape, '\\n') \n",
    "print(A*C,'\\n') # every column is multiplied by C"
   ]
  },
  {
   "cell_type": "markdown",
   "metadata": {
    "slideshow": {
     "slide_type": "fragment"
    },
    "tags": []
   },
   "source": [
    "If you want to e.g. add arrays where broadcasting is not possible consider **np.newaxis**"
   ]
  },
  {
   "cell_type": "code",
   "execution_count": null,
   "metadata": {
    "slideshow": {
     "slide_type": "skip"
    },
    "tags": []
   },
   "outputs": [],
   "source": [
    "A = np.array([1, 2, 3]) # Is only 1D, shape = (3,)\n",
    "B = np.array([1,2]) # Is only 1D, shape = (2,)\n",
    "\n",
    "# You cannot broadcast B on A, because neither have 2 dimensions.\n",
    "# Therefore, use newaxis\n",
    "print(A[:,np.newaxis], A[:,np.newaxis].shape, '\\n') # Is now (3,1)\n",
    "print(B[np.newaxis,:], B[np.newaxis,:].shape, '\\n') # Is now (1,2)\n",
    "\n",
    "print(A[:,np.newaxis]*B[np.newaxis,:], '\\n') # A is column vector, B is row vector\n",
    "print(A[np.newaxis,:]*B[:,np.newaxis]) # A is row vector, B is column vector"
   ]
  },
  {
   "cell_type": "markdown",
   "metadata": {
    "slideshow": {
     "slide_type": "skip"
    },
    "tags": []
   },
   "source": [
    "**More on broadcasting:** [Documentation](https://docs.scipy.org/doc/numpy-1.13.0/user/basics.broadcasting.html)."
   ]
  },
  {
   "cell_type": "markdown",
   "metadata": {
    "slideshow": {
     "slide_type": "subslide"
    },
    "tags": []
   },
   "source": [
    "A lot of **mathematical procedures** can easily be performed on numpy arrays."
   ]
  },
  {
   "cell_type": "code",
   "execution_count": null,
   "metadata": {
    "slideshow": {
     "slide_type": "fragment"
    },
    "tags": []
   },
   "outputs": [],
   "source": [
    "A =  np.array([3.1, 2.3, 9.1, -2.5, 12.1])\n",
    "print(np.min(A)) # find minimum\n",
    "print(np.argmin(A)) # find index for minimum\n",
    "print(np.mean(A)) # calculate mean\n",
    "print(np.sort(A)) # sort (ascending)"
   ]
  },
  {
   "cell_type": "markdown",
   "metadata": {
    "slideshow": {
     "slide_type": "fragment"
    },
    "tags": []
   },
   "source": [
    "**Note:** Sometimes a method can be used instead of a function, e.g. ``A.mean()``. Personally, I typically stick to functions because that always works. "
   ]
  },
  {
   "cell_type": "markdown",
   "metadata": {
    "slideshow": {
     "slide_type": "subslide"
    },
    "tags": []
   },
   "source": [
    "## Indexing"
   ]
  },
  {
   "cell_type": "markdown",
   "metadata": {
    "slideshow": {
     "slide_type": "fragment"
    },
    "tags": []
   },
   "source": [
    "**Multi-dimensional** indexing is done as:"
   ]
  },
  {
   "cell_type": "code",
   "execution_count": 116,
   "metadata": {
    "slideshow": {
     "slide_type": "fragment"
    },
    "tags": []
   },
   "outputs": [
    {
     "name": "stdout",
     "output_type": "stream",
     "text": [
      "X\n",
      " [[11 12 13]\n",
      " [21 22 23]]\n",
      "\n",
      "X[0]\n",
      " [11 12 13]\n",
      "\n",
      "X[1,2]\n",
      " 23\n",
      "\n",
      "X[0:2,1:3]\n",
      " [[12 13]\n",
      " [22 23]]\n"
     ]
    }
   ],
   "source": [
    "X = np.array([ [11, 12, 13], [21, 22, 23] ])\n",
    "print('X\\n',X)\n",
    "print('\\nX[0]\\n',X[0]) # first row, all columns - you can't do the same for one column and all rows\n",
    "print('\\nX[1,2]\\n',X[1,2]) # second row, third column\n",
    "print('\\nX[0:2,1:3]\\n',X[0:2,1:3]) # first row, first column"
   ]
  },
  {
   "cell_type": "markdown",
   "metadata": {
    "slideshow": {
     "slide_type": "subslide"
    },
    "tags": []
   },
   "source": [
    "Indexes can be **logical**. Logical 'and' is `&` and logical 'or' is `|`."
   ]
  },
  {
   "cell_type": "code",
   "execution_count": null,
   "metadata": {
    "slideshow": {
     "slide_type": "fragment"
    },
    "tags": []
   },
   "outputs": [],
   "source": [
    "A = np.array([1,2,3,4,1,2,3,4])\n",
    "B = np.array([3,3,3,3,2,3,2,2])\n",
    "I = (A < 3) & (B == 3) # note & instead of 'and'\n",
    "print(I)\n",
    "print(A[I],'\\n')\n",
    "\n",
    "# Two ways of getting indices of the elements == True\n",
    "print(np.where(I)) # A 'where' clause normally asks for where the True elements are.\n",
    "print(I.nonzero()) # Because a True boolean is a 1 while a False is a 0."
   ]
  },
  {
   "cell_type": "code",
   "execution_count": null,
   "metadata": {
    "slideshow": {
     "slide_type": "fragment"
    },
    "tags": []
   },
   "outputs": [],
   "source": [
    "I = (A < 3) | (B == 3) # note | instead of 'or'\n",
    "print(A[I])"
   ]
  },
  {
   "cell_type": "markdown",
   "metadata": {
    "slideshow": {
     "slide_type": "subslide"
    },
    "tags": []
   },
   "source": [
    "## List of good things to know"
   ]
  },
  {
   "cell_type": "markdown",
   "metadata": {
    "slideshow": {
     "slide_type": "fragment"
    },
    "tags": []
   },
   "source": [
    "**Attributes and methods** to know:\n",
    "\n",
    "- size / ndim / shape\n",
    "- ravel / reshape / sort\n",
    "- copy"
   ]
  },
  {
   "cell_type": "markdown",
   "metadata": {
    "slideshow": {
     "slide_type": "fragment"
    },
    "tags": []
   },
   "source": [
    "**Functions** to know:\n",
    "\n",
    "- array / empty / zeros / ones / linspace\n",
    "- mean / median / std / var / sum / percentile\n",
    "- min/max, argmin/argmax / fmin / fmax / sort / clip\n",
    "- meshgrid / hstack / vstack / concatenate / tile / insert\n",
    "- allclose / isnan / isinf / isfinite / any / all"
   ]
  },
  {
   "cell_type": "markdown",
   "metadata": {
    "slideshow": {
     "slide_type": "fragment"
    },
    "tags": []
   },
   "source": [
    "**Concepts** to know:\n",
    "\n",
    "- view vs. copy\n",
    "- broadcasting\n",
    "- logical indexing"
   ]
  },
  {
   "cell_type": "markdown",
   "metadata": {
    "slideshow": {
     "slide_type": "subslide"
    },
    "tags": []
   },
   "source": [
    "**Quizz:** Follow this [link](https://forms.office.com/Pages/ResponsePage.aspx?id=kX-So6HNlkaviYyfHO_6kckJrnVYqJlJgGf8Jm3FvY9UQlM0OUs0UkJGV0tYMzhTVU81VkFMMUdCMCQlQCN0PWcu) to take a quizz on numpy arrays. \n",
    "\n",
    "**Additional question:** Consider the following code:"
   ]
  },
  {
   "cell_type": "code",
   "execution_count": 199,
   "metadata": {
    "slideshow": {
     "slide_type": "fragment"
    },
    "tags": []
   },
   "outputs": [],
   "source": [
    "A = np.array([1,2,3,4,5])\n",
    "B = A[3:]\n",
    "B[:] = 0"
   ]
  },
  {
   "cell_type": "markdown",
   "metadata": {
    "slideshow": {
     "slide_type": "fragment"
    },
    "tags": []
   },
   "source": [
    "What is `np.sum(A)` equal to?\n",
    "- **A:** 15\n",
    "- **B:** 10\n",
    "- **C:** 6\n",
    "- **D:** 0\n",
    "- **E:** Don't know"
   ]
  },
  {
   "cell_type": "markdown",
   "metadata": {
    "slideshow": {
     "slide_type": "skip"
    },
    "tags": []
   },
   "source": [
    "## Extra: Memory"
   ]
  },
  {
   "cell_type": "markdown",
   "metadata": {
    "slideshow": {
     "slide_type": "skip"
    },
    "tags": []
   },
   "source": [
    "Recall that matrices in memory is structured in **rows** (as opposed to columns). You can see how B (the unravelled version of A) looks - it's a row.. "
   ]
  },
  {
   "cell_type": "code",
   "execution_count": null,
   "metadata": {
    "slideshow": {
     "slide_type": "skip"
    },
    "tags": []
   },
   "outputs": [],
   "source": [
    "A = np.array([[3.1,4.2],[5.7,9.3]])\n",
    "B = A.ravel() # one-dimensional view of A\n",
    "print(A.shape,A[0,:])\n",
    "print(B.shape,B)"
   ]
  },
  {
   "cell_type": "markdown",
   "metadata": {
    "slideshow": {
     "slide_type": "slide"
    },
    "tags": []
   },
   "source": [
    "# Describing a utility function"
   ]
  },
  {
   "cell_type": "markdown",
   "metadata": {
    "slideshow": {
     "slide_type": "fragment"
    },
    "tags": []
   },
   "source": [
    "Defining the utility function we saw above"
   ]
  },
  {
   "cell_type": "code",
   "execution_count": 203,
   "metadata": {
    "slideshow": {
     "slide_type": "fragment"
    },
    "tags": []
   },
   "outputs": [],
   "source": [
    "def u_func(x1,x2,alpha=0.50):\n",
    "    return x1**alpha * x2**(1-alpha)"
   ]
  },
  {
   "cell_type": "markdown",
   "metadata": {
    "slideshow": {
     "slide_type": "fragment"
    },
    "tags": []
   },
   "source": [
    "`x1` and `x2` are positional arguments.  \n",
    "`alpha` is a keyword argument with default value 0.50"
   ]
  },
  {
   "cell_type": "markdown",
   "metadata": {
    "slideshow": {
     "slide_type": "subslide"
    },
    "tags": []
   },
   "source": [
    "## Print to screen"
   ]
  },
  {
   "cell_type": "markdown",
   "metadata": {
    "slideshow": {
     "slide_type": "fragment"
    },
    "tags": []
   },
   "source": [
    "Print a **single evaluation** of the utility function.  \n",
    "\n",
    "`f'some text'` is called a \"formatted string\"  \n",
    "`{x1:.3f}` prints variable x1 as floating point number with 3 decimals\n"
   ]
  },
  {
   "cell_type": "code",
   "execution_count": 234,
   "metadata": {
    "slideshow": {
     "slide_type": "fragment"
    },
    "tags": []
   },
   "outputs": [
    {
     "name": "stdout",
     "output_type": "stream",
     "text": [
      "x1 = 1.000, x2 = 3.000 -> u = 1.732\n"
     ]
    }
   ],
   "source": [
    "x1 = 1\n",
    "x2 = 3\n",
    "u = u_func(x1,x2)\n",
    "\n",
    "print(f'x1 = {x1:.3f}, x2 = {x2:.3f} -> u = {u:.3f}') "
   ]
  },
  {
   "cell_type": "markdown",
   "metadata": {
    "slideshow": {
     "slide_type": "subslide"
    },
    "tags": []
   },
   "source": [
    "Print **multiple evaluations** of the utility function."
   ]
  },
  {
   "cell_type": "code",
   "execution_count": 233,
   "metadata": {
    "slideshow": {
     "slide_type": "fragment"
    },
    "tags": []
   },
   "outputs": [
    {
     "name": "stdout",
     "output_type": "stream",
     "text": [
      "x1 = 2.000, x2 = 3.000 -> u = 2.711\n",
      "x1 = 4.000, x2 = 3.000 -> u = 3.224\n",
      "x1 = 6.000, x2 = 3.000 -> u = 3.568\n",
      "x1 = 8.000, x2 = 3.000 -> u = 3.834\n"
     ]
    }
   ],
   "source": [
    "x1_list = [2,4,6,8]\n",
    "x2 = 3\n",
    "\n",
    "for x1 in x1_list: # loop through each element in x1_list\n",
    "    u = u_func(x1,x2,alpha=0.25)\n",
    "    print(f'x1 = {x1:.3f}, x2 = {x2:.3f} -> u = {u:.3f}')"
   ]
  },
  {
   "cell_type": "markdown",
   "metadata": {
    "slideshow": {
     "slide_type": "subslide"
    },
    "tags": []
   },
   "source": [
    "We can do this in a nicer way:"
   ]
  },
  {
   "cell_type": "code",
   "execution_count": 231,
   "metadata": {
    "slideshow": {
     "slide_type": "fragment"
    },
    "tags": []
   },
   "outputs": [
    {
     "name": "stdout",
     "output_type": "stream",
     "text": [
      "0: x1 = 2   x2 = 3  -> u = 2.711 \n",
      "1: x1 = 4   x2 = 3  -> u = 3.224 \n",
      "2: x1 = 6   x2 = 3  -> u = 3.568 \n",
      "3: x1 = 8   x2 = 3  -> u = 3.834 \n"
     ]
    }
   ],
   "source": [
    "for i,x1 in enumerate(x1_list): # i is a counter\n",
    "    u = u_func(x1,x2,alpha=0.25)\n",
    "    print(f'{i:1d}: x1 = {x1:<3d} x2 = {x2:<2d} -> u = {u:<6.3f}')\n",
    "    \n",
    "# {i:2d}: integer a width of 2 (right-aligned)\n",
    "# {x1:<3d}: integer a width of 2 (<, left-aligned)\n",
    "# {u:<6.3f}: float width of 6 and 3 decimals (<, left-aligned)"
   ]
  },
  {
   "cell_type": "markdown",
   "metadata": {
    "slideshow": {
     "slide_type": "fragment"
    },
    "tags": []
   },
   "source": [
    "Checkout [this guide](https://www.python-course.eu/python3_formatted_output.php) and [this guide](https://realpython.com/python-formatted-output/) for more info on output formatting.  "
   ]
  },
  {
   "cell_type": "markdown",
   "metadata": {
    "slideshow": {
     "slide_type": "subslide"
    },
    "tags": []
   },
   "source": [
    "**Task**: Write a loop printing the results shown in the answer below."
   ]
  },
  {
   "cell_type": "code",
   "execution_count": null,
   "metadata": {
    "slideshow": {
     "slide_type": "fragment"
    },
    "tags": []
   },
   "outputs": [],
   "source": [
    "# write your code here"
   ]
  },
  {
   "cell_type": "markdown",
   "metadata": {
    "slideshow": {
     "slide_type": "skip"
    },
    "tags": []
   },
   "source": [
    "**Output:**"
   ]
  },
  {
   "cell_type": "raw",
   "metadata": {
    "slideshow": {
     "slide_type": "skip"
    },
    "tags": []
   },
   "source": [
    "0: u(2.00,3.00) = 2.7108\n",
    "1: u(4.00,3.00) = 3.2237\n",
    "2: u(6.00,3.00) = 3.5676\n",
    "3: u(8.00,3.00) = 3.8337"
   ]
  },
  {
   "cell_type": "markdown",
   "metadata": {
    "slideshow": {
     "slide_type": "subslide"
    },
    "tags": []
   },
   "source": [
    "## Printing outputs to a file"
   ]
  },
  {
   "cell_type": "markdown",
   "metadata": {
    "slideshow": {
     "slide_type": "fragment"
    },
    "tags": []
   },
   "source": [
    "Imagine you wanted to store outputs from your model in order to put it into a paper. Then you want it in a file..\n",
    "\n",
    "1. Create a text-file using the `with` operator. \n",
    "2. Write to the file in a loop using the reference variable `file_ref`:"
   ]
  },
  {
   "cell_type": "code",
   "execution_count": 242,
   "metadata": {
    "slideshow": {
     "slide_type": "fragment"
    },
    "tags": []
   },
   "outputs": [],
   "source": [
    "with open('somefile.txt', 'w') as file_ref: # 'w' is for 'write'\n",
    "    \n",
    "    for i, x1 in enumerate(x1_list):\n",
    "        # Calculate utility at loop iteration\n",
    "        u = u_func(x1,x2,alpha=0.25)\n",
    "        \n",
    "        # Create a formatted line of text\n",
    "        text_line=f'{i+10:2d}: x1 = {x1:<6.3f} x2 = {x2:<6.3f} -> u = {u:<6.3f}'\n",
    "        \n",
    "        # Write the line of tex to the file using the \n",
    "        file_ref.write(text_line + '\\n') # \\n gives a lineshift\n",
    "\n",
    "# note: the with clause ensures that the file is properly closed afterwards"
   ]
  },
  {
   "cell_type": "markdown",
   "metadata": {
    "slideshow": {
     "slide_type": "subslide"
    },
    "tags": []
   },
   "source": [
    "You can also **read** from a file in the same manner, just using `r` instead of `w`.  \n",
    "Open a text-file and read the lines in it and then print them:"
   ]
  },
  {
   "cell_type": "code",
   "execution_count": null,
   "metadata": {
    "slideshow": {
     "slide_type": "fragment"
    },
    "tags": []
   },
   "outputs": [],
   "source": [
    "with open('somefile.txt', 'r') as file_ref: # 'r' is for 'read'\n",
    "    \n",
    "    # Loading ALL file content into the object lines\n",
    "    lines = file_ref.readlines()\n",
    "    \n",
    "    # Printing each loaded line by loop\n",
    "    for line in lines:\n",
    "        print(line,end='') # end='' removes the extra lineshift print creates"
   ]
  },
  {
   "cell_type": "markdown",
   "metadata": {},
   "source": [
    "> **Note:** You could also write tables in LaTeX format and the import them in your LaTeX document."
   ]
  },
  {
   "cell_type": "markdown",
   "metadata": {},
   "source": [
    "**Question:** was the loop inside the `with` operator strictly necessary?"
   ]
  },
  {
   "cell_type": "markdown",
   "metadata": {
    "slideshow": {
     "slide_type": "subslide"
    },
    "tags": []
   },
   "source": [
    "## Calculate the utility function on a grid"
   ]
  },
  {
   "cell_type": "markdown",
   "metadata": {
    "slideshow": {
     "slide_type": "fragment"
    },
    "tags": []
   },
   "source": [
    "In order to describe the shape of our utility function, we need to numerically evaluate it on a set of points. \n",
    "\n",
    "Thus, we calculate the utility function on a **2-dimensional grid** (`x1` and `x2`) with $N$ elements in each dimension:"
   ]
  },
  {
   "cell_type": "code",
   "execution_count": 244,
   "metadata": {
    "slideshow": {
     "slide_type": "fragment"
    },
    "tags": []
   },
   "outputs": [],
   "source": [
    "# a. settings\n",
    "N = 100 # number of elements\n",
    "x_max = 10 # maximum value\n",
    "\n",
    "# b. allocate 2d numpy arrays for x1 and x2\n",
    "shape_tuple = (N,N)\n",
    "x1_values = np.empty(shape_tuple) # allocate 2d numpy array with shape=(N,N)\n",
    "x2_values = np.empty(shape_tuple)\n",
    "u_values = np.empty(shape_tuple)\n",
    "\n",
    "# c. fill numpy arrays using a nested loop\n",
    "for i in range(N): # 0,1,...,N-1\n",
    "    for j in range(N): # 0,1,...,N-1\n",
    "        x1_values[i,j] = (i/(N-1))*x_max # in [0,x_max]\n",
    "        x2_values[i,j] = (j/(N-1))*x_max # in [0,x_max]\n",
    "        u_values[i,j] = u_func(x1_values[i,j],x2_values[i,j],alpha=0.25)"
   ]
  },
  {
   "cell_type": "markdown",
   "metadata": {
    "slideshow": {
     "slide_type": "skip"
    },
    "tags": []
   },
   "source": [
    "**Note:** x1_values and x2_values are **both 2d**.  \n",
    "This is not strictly necessary in the present case. 1d arrays would suffice below in the nested loop and filling out of u_values.  \n",
    "However, it makes them isomorphic with the mesh grids used for countour plots, which often need 2d mesh grids. "
   ]
  },
  {
   "cell_type": "markdown",
   "metadata": {
    "slideshow": {
     "slide_type": "subslide"
    },
    "tags": []
   },
   "source": [
    "**Alternatively:** Use the corresponding numpy function to create your grid:"
   ]
  },
  {
   "cell_type": "code",
   "execution_count": 248,
   "metadata": {
    "slideshow": {
     "slide_type": "fragment"
    },
    "tags": []
   },
   "outputs": [
    {
     "name": "stdout",
     "output_type": "stream",
     "text": [
      "Dimension of grid over x1 (same as x2):  (100, 100)\n"
     ]
    }
   ],
   "source": [
    "# a. Create numbers distributed evenly between 0 and x_max\n",
    "x_vec = np.linspace(0,x_max,N)\n",
    "\n",
    "# b. Create meshgrids similar to x1_values and x2_values above\n",
    "x1_mesh,x2_mesh = np.meshgrid(x_vec,x_vec,indexing='ij')\n",
    "\n",
    "print('Dimension of grid over x1 (same as x2): ', x1_mesh.shape) # Note that the grid is 2d. u_func needs 2d to calculate element by element. \n",
    "u_values_mesh = u_func(x1_mesh, x2_mesh, alpha=0.25)"
   ]
  },
  {
   "cell_type": "markdown",
   "metadata": {
    "slideshow": {
     "slide_type": "fragment"
    },
    "tags": []
   },
   "source": [
    "* How could `u_func` evaluate utility on x1_mesh and x2_mesh?  \n",
    "* Because numpy does everything *element-by-element*.  \n",
    "* Do you see why we **needed** a mesh grid instead of `x1_values = x_vec`?"
   ]
  },
  {
   "cell_type": "markdown",
   "metadata": {
    "slideshow": {
     "slide_type": "skip"
    },
    "tags": []
   },
   "source": [
    "**Mesh grids** are a little tricky to understand, but important for creating surface plots. You can read more at:  \n",
    "[GeeksforGeeks](https://www.geeksforgeeks.org/numpy-meshgrid-function/), [stack overflow](https://stackoverflow.com/questions/36013063/what-is-the-purpose-of-meshgrid-in-python-numpy) and the [numpy doc](https://numpy.org/doc/stable/reference/generated/numpy.meshgrid.html)"
   ]
  },
  {
   "cell_type": "markdown",
   "metadata": {
    "slideshow": {
     "slide_type": "skip"
    },
    "tags": []
   },
   "source": [
    "Test whether the results are the same:"
   ]
  },
  {
   "cell_type": "code",
   "execution_count": null,
   "metadata": {
    "slideshow": {
     "slide_type": "skip"
    },
    "tags": []
   },
   "outputs": [],
   "source": [
    "# a. maximum absolute difference\n",
    "max_abs_diff = np.max(np.abs(u_values-u_values_mesh))\n",
    "print(max_abs_diff) # very close to zero     \n",
    "\n",
    "# b. test if all values are \"close\"\n",
    "print(np.allclose(u_values,u_values_alt))"
   ]
  },
  {
   "cell_type": "markdown",
   "metadata": {
    "slideshow": {
     "slide_type": "skip"
    },
    "tags": []
   },
   "source": [
    "**Note:** The results are not exactly the same due to floating point arithmetics."
   ]
  },
  {
   "cell_type": "markdown",
   "metadata": {
    "slideshow": {
     "slide_type": "subslide"
    },
    "tags": []
   },
   "source": [
    "## Plot the utility function"
   ]
  },
  {
   "cell_type": "markdown",
   "metadata": {
    "slideshow": {
     "slide_type": "fragment"
    },
    "tags": []
   },
   "source": [
    "Import modules and state that the figures should be inlined:"
   ]
  },
  {
   "cell_type": "code",
   "execution_count": 250,
   "metadata": {
    "slideshow": {
     "slide_type": "fragment"
    },
    "tags": []
   },
   "outputs": [],
   "source": [
    "%matplotlib inline\n",
    "import matplotlib.pyplot as plt # baseline module\n",
    "from mpl_toolkits.mplot3d import Axes3D # for 3d figures\n",
    "plt.style.use('seaborn-whitegrid') # whitegrid nice with 3d"
   ]
  },
  {
   "cell_type": "markdown",
   "metadata": {
    "slideshow": {
     "slide_type": "subslide"
    },
    "tags": []
   },
   "source": [
    "**Constructing a plot-object in matplotlib**\n",
    "1. `fig` is the figure object. It's the main \"canvas\" you are adding elements to.\n",
    "2. `ax` is a reference to a specific subplot on the canvas (only one here)\n",
    "3. Use the `ax` reference to put a diagram into the empty subplot"
   ]
  },
  {
   "cell_type": "code",
   "execution_count": 255,
   "metadata": {
    "slideshow": {
     "slide_type": "fragment"
    },
    "tags": []
   },
   "outputs": [
    {
     "data": {
      "image/png": "[encoded data removed]",
      "text/plain": [
       "<Figure size 432x288 with 1 Axes>"
      ]
     },
     "metadata": {},
     "output_type": "display_data"
    }
   ],
   "source": [
    "fig = plt.figure() # create the figure\n",
    "ax = fig.add_subplot(1,1,1,projection='3d') # create a 3d type axis \n",
    "ax.plot_surface(x1_values,x2_values,u_values); # create surface plot in the axis\n",
    "# note: fig.add_subplot(a,b,c) creates the c'th subplot in a grid of a times b plots"
   ]
  },
  {
   "cell_type": "markdown",
   "metadata": {
    "slideshow": {
     "slide_type": "subslide"
    },
    "tags": []
   },
   "source": [
    "You can make the figure **zoomable** and **panable** using a **widget**:"
   ]
  },
  {
   "cell_type": "code",
   "execution_count": null,
   "metadata": {
    "slideshow": {
     "slide_type": "fragment"
    },
    "tags": []
   },
   "outputs": [],
   "source": [
    "%matplotlib widget\n",
    "fig = plt.figure() # create the figure\n",
    "ax = fig.add_subplot(1,1,1,projection='3d') # create a 3d axis in the figure \n",
    "ax.plot_surface(x1_values,x2_values,u_values); # create surface plot in the axis"
   ]
  },
  {
   "cell_type": "markdown",
   "metadata": {
    "slideshow": {
     "slide_type": "fragment"
    },
    "tags": []
   },
   "source": [
    "To restore normal plotting, turn on `inline`:"
   ]
  },
  {
   "cell_type": "code",
   "execution_count": 259,
   "metadata": {
    "slideshow": {
     "slide_type": "fragment"
    },
    "tags": []
   },
   "outputs": [],
   "source": [
    "%matplotlib inline"
   ]
  },
  {
   "cell_type": "markdown",
   "metadata": {
    "slideshow": {
     "slide_type": "subslide"
    },
    "tags": []
   },
   "source": [
    "**Making it pretty**: Use a colormap and set labels.  "
   ]
  },
  {
   "cell_type": "code",
   "execution_count": 258,
   "metadata": {
    "slideshow": {
     "slide_type": "fragment"
    },
    "tags": []
   },
   "outputs": [
    {
     "data": {
      "application/vnd.jupyter.widget-view+json": {
       "model_id": "7d2ec34d690648079edc0338cf6f23f5",
       "version_major": 2,
       "version_minor": 0
      },
      "image/png": "[encoded data removed]",
      "text/html": [
       "\n",
       "            <div style=\"display: inline-block;\">\n",
       "                <div class=\"jupyter-widgets widget-label\" style=\"text-align: center;\">\n",
       "                    Figure\n",
       "                </div>\n",
       "                <img src='data:image/png;base64,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' width=432.0/>\n",
       "            </div>\n",
       "        "
      ],
      "text/plain": [
       "Canvas(toolbar=Toolbar(toolitems=[('Home', 'Reset original view', 'home', 'home'), ('Back', 'Back to previous …"
      ]
     },
     "metadata": {},
     "output_type": "display_data"
    }
   ],
   "source": [
    "from matplotlib import cm # for colormaps\n",
    "# a. actual plot\n",
    "fig = plt.figure()\n",
    "ax = fig.add_subplot(1,1,1,projection='3d')\n",
    "ax.plot_surface(x1_values,x2_values,u_values,cmap=cm.jet)\n",
    "\n",
    "# b. add labels\n",
    "ax.set_xlabel('$x_1$') # Notice latex syntax\n",
    "ax.set_ylabel('$x_2$')\n",
    "ax.set_zlabel('$u$')\n",
    "\n",
    "# c. invert xaxis to bring Origin in center front\n",
    "ax.invert_xaxis()\n",
    "fig.tight_layout()"
   ]
  },
  {
   "cell_type": "markdown",
   "metadata": {
    "slideshow": {
     "slide_type": "skip"
    },
    "tags": []
   },
   "source": [
    "Saving your figure is easy:"
   ]
  },
  {
   "cell_type": "code",
   "execution_count": null,
   "metadata": {
    "slideshow": {
     "slide_type": "skip"
    },
    "tags": []
   },
   "outputs": [],
   "source": [
    "fig.savefig('someplot.pdf') # or e.g. .png "
   ]
  },
  {
   "cell_type": "markdown",
   "metadata": {
    "slideshow": {
     "slide_type": "skip"
    },
    "tags": []
   },
   "source": [
    "**More formatting options?** See these [examples](https://matplotlib.org/tutorials/introductory/sample_plots.html#sphx-glr-tutorials-introductory-sample-plots-py)."
   ]
  },
  {
   "cell_type": "markdown",
   "metadata": {
    "slideshow": {
     "slide_type": "subslide"
    },
    "tags": []
   },
   "source": [
    "**Quizz:** follow [this link](https://forms.office.com/Pages/ResponsePage.aspx?id=kX-So6HNlkaviYyfHO_6kckJrnVYqJlJgGf8Jm3FvY9UREZRUU1BNDdJOEZDSTNMTzNTSVg1UlZNRSQlQCN0PWcu) to take a quizz on 3d plotting."
   ]
  },
  {
   "cell_type": "markdown",
   "metadata": {
    "slideshow": {
     "slide_type": "skip"
    },
    "tags": []
   },
   "source": [
    "**Task**: Construct the following plot:"
   ]
  },
  {
   "cell_type": "markdown",
   "metadata": {
    "slideshow": {
     "slide_type": "skip"
    },
    "tags": []
   },
   "source": [
    "![wireframeplot](https://github.com/NumEconCopenhagen/lectures-2020/raw/master/03/someplot_wireframe.png)"
   ]
  },
  {
   "cell_type": "markdown",
   "metadata": {
    "slideshow": {
     "slide_type": "skip"
    },
    "tags": []
   },
   "source": [
    "**Answer:**"
   ]
  },
  {
   "cell_type": "code",
   "execution_count": null,
   "metadata": {
    "slideshow": {
     "slide_type": "skip"
    },
    "tags": []
   },
   "outputs": [],
   "source": [
    "# write your code here"
   ]
  },
  {
   "cell_type": "code",
   "execution_count": null,
   "metadata": {
    "jupyter": {
     "source_hidden": true
    },
    "tags": []
   },
   "outputs": [],
   "source": [
    "# a. actual plot\n",
    "fig = plt.figure()\n",
    "ax = fig.add_subplot(1,1,1,projection='3d')\n",
    "ax.plot_wireframe(x1_values,x2_values,u_values,edgecolor='black')\n",
    "\n",
    "# b. add labels\n",
    "ax.set_xlabel('$x_1$')\n",
    "ax.set_ylabel('$x_2$')\n",
    "ax.set_zlabel('$u$')\n",
    "\n",
    "# c. invert xaxis\n",
    "ax.invert_xaxis()\n",
    "\n",
    "# e. save\n",
    "fig.tight_layout()\n",
    "fig.savefig('someplot_wireframe.png')\n",
    "fig.savefig('someplot_wireframe.pdf')"
   ]
  },
  {
   "cell_type": "markdown",
   "metadata": {
    "slideshow": {
     "slide_type": "skip"
    },
    "tags": []
   },
   "source": [
    "## Summary"
   ]
  },
  {
   "cell_type": "markdown",
   "metadata": {
    "slideshow": {
     "slide_type": "skip"
    },
    "tags": []
   },
   "source": [
    "We have talked about:\n",
    "\n",
    "1. Print (to screen and file)\n",
    "2. Figures (matplotlib)"
   ]
  },
  {
   "cell_type": "markdown",
   "metadata": {
    "slideshow": {
     "slide_type": "skip"
    },
    "tags": []
   },
   "source": [
    "**Other plotting libraries:** [seaborn](https://seaborn.pydata.org/) and [bokeh](https://bokeh.pydata.org/en/latest/)."
   ]
  },
  {
   "cell_type": "markdown",
   "metadata": {
    "slideshow": {
     "slide_type": "slide"
    },
    "tags": []
   },
   "source": [
    "# Algorithm 1: Simple loops"
   ]
  },
  {
   "cell_type": "markdown",
   "metadata": {
    "slideshow": {
     "slide_type": "fragment"
    },
    "tags": []
   },
   "source": [
    "Remember the problem we wanted to solve:"
   ]
  },
  {
   "cell_type": "markdown",
   "metadata": {
    "slideshow": {
     "slide_type": "fragment"
    },
    "tags": []
   },
   "source": [
    "$$\n",
    "\\begin{aligned}\n",
    "V(p_{1},p_{2},I) & = \\max_{x_{1},x_{2}}u(x_{1},x_{2})\\\\\n",
    " & \\text{s.t.}\\\\\n",
    "p_{1}x_{1}+p_{2}x_{2} & \\leq I,\\,\\,\\,p_{1},p_{2},I>0\\\\\n",
    "x_{1},x_{2} & \\geq 0\n",
    "\\end{aligned}\n",
    "$$"
   ]
  },
  {
   "cell_type": "markdown",
   "metadata": {
    "slideshow": {
     "slide_type": "subslide"
    },
    "tags": []
   },
   "source": [
    "**Idea:** Loop through a grid of $N_1 \\times N_2$ hypothetical solutions.  \n",
    "This is the same as solving:\n",
    "$$\n",
    "\\begin{aligned}\n",
    "V(p_{1},p_{2},I) & = \\max_{x_{1}\\in X_1,x_{2} \\in X_2} x_1^{\\alpha}x_2^{1-\\alpha}\\\\\n",
    " & \\text{s.t.}\\\\\n",
    " X_1 & = \\left\\{0,\\frac{1}{N_1-1}\\frac{I}{p_1},\\frac{2}{N_1-1}\\frac{I}{p_1},\\dots,\\frac{I}{p_1}\\right\\} \\\\\n",
    " X_2 & = \\left\\{0,\\frac{1}{N_2-1}\\frac{I}{p_2},\\frac{2}{N_2-1}\\frac{ I}{p_2},\\dots,\\frac{ I}{p_2}\\right\\} \\\\\n",
    "p_{1}x_{1}+p_{2}x_{2} & \\leq I\\\\\n",
    "\\end{aligned}\n",
    "$$\n",
    "Where we used the budget constraint to create the **grids** $X_1$ and $X_2$"
   ]
  },
  {
   "cell_type": "markdown",
   "metadata": {
    "slideshow": {
     "slide_type": "subslide"
    },
    "tags": []
   },
   "source": [
    "In the module **grid_solve.py**, we have functions doing that.  \n",
    "We must **import** those functions before using them in the notebook.   \n",
    "First 2 lines ensures that we automatically load changes to any file while editing (**aalways add this**).  \n",
    "Next we load all functions from `grid_solve` (`*` means get all in general)"
   ]
  },
  {
   "cell_type": "code",
   "execution_count": null,
   "metadata": {},
   "outputs": [],
   "source": [
    "# Ensures automatic reloading of module\n",
    "%load_ext autoreload \n",
    "%autoreload 2\n",
    "from grid_solve import * # Import all functions from module"
   ]
  },
  {
   "cell_type": "markdown",
   "metadata": {
    "slideshow": {
     "slide_type": "subslide"
    },
    "tags": []
   },
   "source": [
    "Go to `grid_solve` and inspect the function `find_best_choice`. It implements the algo above.   "
   ]
  },
  {
   "cell_type": "code",
   "execution_count": 282,
   "metadata": {},
   "outputs": [
    {
     "name": "stdout",
     "output_type": "stream",
     "text": [
      "x1 = 2.5050\n",
      "x2 = 3.7469\n",
      "u  = 3.3881\n",
      "I-p1*x1-p2*x2 = 0.00125564\n"
     ]
    }
   ],
   "source": [
    "# Call function and see output\n",
    "sol = find_best_choice(alpha=0.25,I=10,p1=1,p2=2,N1=500,N2=400,do_print=True)\n",
    "# See printed result below "
   ]
  },
  {
   "cell_type": "markdown",
   "metadata": {},
   "source": [
    "**Plot the solution:**"
   ]
  },
  {
   "cell_type": "code",
   "execution_count": 276,
   "metadata": {
    "slideshow": {
     "slide_type": "subslide"
    },
    "tags": []
   },
   "outputs": [
    {
     "data": {
      "image/png": "[encoded data removed]",
      "text/plain": [
       "<Figure size 600x400 with 1 Axes>"
      ]
     },
     "metadata": {
      "needs_background": "light"
     },
     "output_type": "display_data"
    }
   ],
   "source": [
    "# %matplotlib widget\n",
    "# a. unpack solution\n",
    "x1_best,x2_best,u_best,x1_values,x2_values,u_values = sol\n",
    "\n",
    "# b. setup figure\n",
    "fig = plt.figure(dpi=100,num='')\n",
    "ax = fig.add_subplot(1,1,1,projection='3d')\n",
    "\n",
    "# c. plot 3d surface of utility values for different choices\n",
    "ax.plot_surface(x1_values,x2_values,u_values,cmap=cm.jet)\n",
    "ax.invert_xaxis()\n",
    "\n",
    "# d. plot optimal choice\n",
    "ax.scatter(x1_best,x2_best,u_best,s=50,color='black');\n",
    "\n",
    "# %matplotlib inline"
   ]
  },
  {
   "cell_type": "markdown",
   "metadata": {
    "slideshow": {
     "slide_type": "fragment"
    },
    "tags": []
   },
   "source": [
    "**Quizz:** take a quick [quizz](https://forms.office.com/Pages/ResponsePage.aspx?id=kX-So6HNlkaviYyfHO_6kckJrnVYqJlJgGf8Jm3FvY9UOFVXRE5YSEQwVjdETDY4MDVCODlTMk5UQiQlQCN0PWcu) on plotting the simple loop."
   ]
  },
  {
   "cell_type": "markdown",
   "metadata": {
    "slideshow": {
     "slide_type": "fragment"
    },
    "tags": []
   },
   "source": [
    "**Task**: Can you find a better solution with higher utility and lower left-over income, $I-p_1 x_1-p_2 x_2$?"
   ]
  },
  {
   "cell_type": "code",
   "execution_count": null,
   "metadata": {
    "slideshow": {
     "slide_type": "skip"
    },
    "tags": []
   },
   "outputs": [],
   "source": [
    "# write your code here\n",
    "# sol = find_best_choice()"
   ]
  },
  {
   "cell_type": "markdown",
   "metadata": {
    "slideshow": {
     "slide_type": "skip"
    },
    "tags": []
   },
   "source": [
    "**Hint:** think of $N$"
   ]
  },
  {
   "cell_type": "markdown",
   "metadata": {
    "slideshow": {
     "slide_type": "subslide"
    },
    "tags": []
   },
   "source": [
    "# Algorithm 2: Use monotonicity"
   ]
  },
  {
   "cell_type": "markdown",
   "metadata": {
    "slideshow": {
     "slide_type": "fragment"
    },
    "tags": []
   },
   "source": [
    "**Better idea:** Loop through a grid of $N$ possible solutions for $x_1$ and assume the remainder is spent on $x_2$.   \n",
    "This is the same as solving:\n",
    "\n",
    "$$\n",
    "\\begin{aligned}\n",
    "V(p_{1},p_{2},I) & = \\max_{x_{1}\\in X_1} x_1^{\\alpha}x_2^{1-\\alpha}\\\\\n",
    " \\text{s.t.}\\\\\n",
    " X_1 & = \\left\\{0,\\frac{1}{N-1}\\frac{}{p_1},\\frac{2}{N-1}\\frac{I}{p_1},\\dots,\\frac{I}{p_1}\\right\\} \\\\\n",
    "x_{2} & = \\frac{I-p_{1}x_{1}}{p_2}\\\\\n",
    "\\end{aligned}\n",
    "$$"
   ]
  },
  {
   "cell_type": "markdown",
   "metadata": {
    "slideshow": {
     "slide_type": "subslide"
    },
    "tags": []
   },
   "source": [
    "Function doing just this is `find_best_choice_monotone` in `grid_solve.py`"
   ]
  },
  {
   "cell_type": "code",
   "execution_count": 283,
   "metadata": {
    "slideshow": {
     "slide_type": "fragment"
    },
    "tags": []
   },
   "outputs": [
    {
     "name": "stdout",
     "output_type": "stream",
     "text": [
      "x1 = 2.5025\n",
      "x2 = 3.7487\n",
      "u  = 3.3885\n",
      "I-p1*x1-p2*x2 = 0.00000000\n"
     ]
    }
   ],
   "source": [
    "# a. Calling the algo using monotonicity\n",
    "sol_monotone = find_best_choice_monotone(alpha=0.25,I=10,p1=1,p2=2,N=1000)\n",
    "\n",
    "# b. unpack solution\n",
    "x1_best,x2_best,u_best,x1_values,x2_values,u_values = sol_monotone"
   ]
  },
  {
   "cell_type": "markdown",
   "metadata": {
    "slideshow": {
     "slide_type": "skip"
    },
    "tags": []
   },
   "source": [
    "Plot the solution:"
   ]
  },
  {
   "cell_type": "code",
   "execution_count": 303,
   "metadata": {
    "slideshow": {
     "slide_type": "subslide"
    },
    "tags": []
   },
   "outputs": [],
   "source": [
    "plt.style.use(\"seaborn-whitegrid\")\n",
    "\n",
    "# a. create the figure\n",
    "fig = plt.figure(figsize=(10,4))# figsize is in inches...\n",
    "\n",
    "# b. left plot\n",
    "ax_left = fig.add_subplot(1,2,1)\n",
    "\n",
    "ax_left.plot(x1_values,u_values)\n",
    "ax_left.scatter(x1_best,u_best) # Add the solution as a dot\n",
    "\n",
    "ax_left.set_title('value of choice, $u(x_1,x_2)$')\n",
    "ax_left.set_xlabel('$x_1$')\n",
    "ax_left.set_ylabel('$u(x_1,(I-p_1 x_1)/p_2)$')\n",
    "ax_left.grid(True)\n",
    "\n",
    "# c. right plot\n",
    "ax_right = fig.add_subplot(1,2,2)\n",
    "\n",
    "ax_right.plot(x1_values,x2_values)\n",
    "ax_right.scatter(x1_best,x2_best)\n",
    "\n",
    "ax_right.set_title('implied $x_2$ as function of $x_1$')\n",
    "ax_right.set_xlabel('$x_1$')\n",
    "ax_right.set_ylabel('$x_2$')\n",
    "ax_right.grid(True)\n",
    "plt.close(fig) # (Suppress print to fit slides) "
   ]
  },
  {
   "cell_type": "code",
   "execution_count": 304,
   "metadata": {
    "slideshow": {
     "slide_type": "subslide"
    },
    "tags": []
   },
   "outputs": [
    {
     "data": {
      "image/png": "[encoded data removed]",
      "text/plain": [
       "<Figure size 720x288 with 2 Axes>"
      ]
     },
     "execution_count": 304,
     "metadata": {},
     "output_type": "execute_result"
    }
   ],
   "source": [
    "#Show figures of solution\n",
    "fig"
   ]
  },
  {
   "cell_type": "markdown",
   "metadata": {
    "slideshow": {
     "slide_type": "subslide"
    },
    "tags": []
   },
   "source": [
    "# Algorithm 3: Call a solver\n"
   ]
  },
  {
   "cell_type": "code",
   "execution_count": 305,
   "metadata": {
    "slideshow": {
     "slide_type": "fragment"
    },
    "tags": []
   },
   "outputs": [],
   "source": [
    "# Now we use the library scipy to do the heavy lifting\n",
    "from scipy import optimize"
   ]
  },
  {
   "cell_type": "markdown",
   "metadata": {
    "slideshow": {
     "slide_type": "fragment"
    },
    "tags": []
   },
   "source": [
    "Choose paramters for economic model:"
   ]
  },
  {
   "cell_type": "code",
   "execution_count": 307,
   "metadata": {
    "slideshow": {
     "slide_type": "fragment"
    },
    "tags": []
   },
   "outputs": [],
   "source": [
    "alpha = 0.25 # preference parameter\n",
    "I = 10 # income\n",
    "p1 = 1 # price 1\n",
    "p2 = 2 # price 2"
   ]
  },
  {
   "cell_type": "markdown",
   "metadata": {
    "slideshow": {
     "slide_type": "subslide"
    },
    "tags": []
   },
   "source": [
    "**Case 1**: Scalar solver using monotonicity.  \n",
    "Note that we are calling a **minimizer**. Take **negative** of utility.  \n",
    "Recall that we if we spend everything on good one, we get $x_1 = I/p_1$. "
   ]
  },
  {
   "cell_type": "code",
   "execution_count": 308,
   "metadata": {
    "slideshow": {
     "slide_type": "fragment"
    },
    "tags": []
   },
   "outputs": [
    {
     "name": "stdout",
     "output_type": "stream",
     "text": [
      "x1 = 2.5000\n",
      "x2 = 3.7500\n",
      "u  = 3.3885\n",
      "I-p1*x1-p2*x2 = 0.00000000\n"
     ]
    }
   ],
   "source": [
    "# a. objective function (to minimize)\n",
    "def value_of_choice(x1,alpha,I,p1,p2):\n",
    "    x2 = (I-p1*x1)/p2\n",
    "    return -u_func(x1,x2,alpha)\n",
    "\n",
    "# b. call solver\n",
    "sol_case1 = optimize.minimize_scalar(\n",
    "    value_of_choice,\n",
    "    method='bounded',\n",
    "    bounds=(0,I/p1),\n",
    "    args=(alpha,I,p1,p2)) # Notice the use of a tuple here\n",
    "\n",
    "# c. unpack solution\n",
    "x1 = sol_case1.x\n",
    "x2 = (I-p1*x1)/p2\n",
    "u = u_func(x1,x2,alpha)\n",
    "print_solution(x1,x2,u,I,p1,p2)"
   ]
  },
  {
   "cell_type": "markdown",
   "metadata": {
    "slideshow": {
     "slide_type": "subslide"
    },
    "tags": []
   },
   "source": [
    "**Case 2**: **Multi-dimensional constrained** solver, the *SLSQP*."
   ]
  },
  {
   "cell_type": "code",
   "execution_count": 311,
   "metadata": {
    "slideshow": {
     "slide_type": "fragment"
    },
    "tags": []
   },
   "outputs": [
    {
     "name": "stdout",
     "output_type": "stream",
     "text": [
      "x1 = 2.4994\n",
      "x2 = 3.7503\n",
      "u  = 3.3885\n",
      "I-p1*x1-p2*x2 = 0.00000000\n"
     ]
    }
   ],
   "source": [
    "# a. objective function (to minimize)\n",
    "def value_of_choice(x,alpha,I,p1,p2):\n",
    "    # note: x is a array, but u_func takes scalars.\n",
    "    return -u_func(x[0],x[1],alpha)\n",
    "\n",
    "# b. constraints (violated if negative) and bounds. x is an array.\n",
    "constraints = ({'type': 'ineq', 'fun': lambda x:  I-p1*x[0]-p2*x[1]})\n",
    "bounds = ((0,I/p1),(0,I/p2))\n",
    "\n",
    "# c. call solver, use SLSQP\n",
    "initial_guess = [I/p1/2,I/p2/2]\n",
    "\n",
    "sol_case2 = optimize.minimize(\n",
    "    value_of_choice, initial_guess, args=(alpha,I,p1,p2),\n",
    "    method='SLSQP', bounds=bounds, constraints=constraints)\n",
    "\n",
    "# d. unpack solution\n",
    "x1 = sol_case2.x[0]\n",
    "x2 = sol_case2.x[1]\n",
    "u = u_func(x1,x2,alpha)\n",
    "print_solution(x1,x2,u,I,p1,p2)"
   ]
  },
  {
   "cell_type": "markdown",
   "metadata": {
    "slideshow": {
     "slide_type": "subslide"
    },
    "tags": []
   },
   "source": [
    "**Case 3**: Multi-dimensional unconstrained solver with constrains implemented via penalties."
   ]
  },
  {
   "cell_type": "code",
   "execution_count": 310,
   "metadata": {
    "slideshow": {
     "slide_type": "fragment"
    },
    "tags": []
   },
   "outputs": [],
   "source": [
    "# a. objective function (to minimize)\n",
    "def value_of_choice(x,alpha,I,p1,p2):\n",
    "    \n",
    "    # i. unpack\n",
    "    x1 = x[0]\n",
    "    x2 = x[1]\n",
    "    \n",
    "    # ii. penalty\n",
    "    penalty = 0\n",
    "    E = p1*x1+p2*x2 # total expenses\n",
    "    if E > I: # expenses > income -> not allowed\n",
    "        fac = I/E # fac < 1 if too high expenses\n",
    "        penalty += 1000*(E-I) # calculate penalty        \n",
    "        x1 *= fac # force E = I\n",
    "        x2 *= fac # force E = I\n",
    "        \n",
    "    return -u_func(x1,x2,alpha) "
   ]
  },
  {
   "cell_type": "code",
   "execution_count": 310,
   "metadata": {
    "slideshow": {
     "slide_type": "subslide"
    },
    "tags": []
   },
   "outputs": [
    {
     "name": "stdout",
     "output_type": "stream",
     "text": [
      "x1 = 2.5857\n",
      "x2 = 3.8786\n",
      "u  = 3.5047\n",
      "I-p1*x1-p2*x2 = -0.34292214\n"
     ]
    }
   ],
   "source": [
    "# b. call solver\n",
    "initial_guess = [I/p1/2,I/p2/2]\n",
    "sol_case3 = optimize.minimize(\n",
    "    value_of_choice,initial_guess,method='Nelder-Mead',\n",
    "    args=(alpha,I,p1,p2))\n",
    "\n",
    "# c. unpack solution\n",
    "x1 = sol_case3.x[0]\n",
    "x2 = sol_case3.x[1]\n",
    "u = u_func(x1,x2,alpha)\n",
    "print_solution(x1,x2,u,I,p1,p2)"
   ]
  },
  {
   "cell_type": "markdown",
   "metadata": {
    "slideshow": {
     "slide_type": "fragment"
    },
    "tags": []
   },
   "source": [
    "**Task:** Find the <font color='red'>**error**</font> in the code in the previous cell."
   ]
  },
  {
   "cell_type": "code",
   "execution_count": null,
   "metadata": {
    "slideshow": {
     "slide_type": "skip"
    },
    "tags": []
   },
   "outputs": [],
   "source": [
    "# write your code here"
   ]
  },
  {
   "cell_type": "markdown",
   "metadata": {
    "slideshow": {
     "slide_type": "skip"
    },
    "tags": []
   },
   "source": [
    "**Answer:**"
   ]
  },
  {
   "cell_type": "code",
   "execution_count": null,
   "metadata": {
    "slideshow": {
     "slide_type": "skip"
    },
    "tags": []
   },
   "outputs": [],
   "source": [
    "# a. objective function (to minimize)\n",
    "def value_of_choice(x,alpha,I,p1,p2):\n",
    "    \n",
    "    # i. unpack\n",
    "    x1 = x[0]\n",
    "    x2 = x[1]\n",
    "    \n",
    "    # ii. penalty\n",
    "    penalty = 0\n",
    "    E = p1*x1+p2*x2 # total expenses\n",
    "    if E > I: # expenses > income -> not allowed\n",
    "        fac = I/E\n",
    "        penalty += 1000*(E-I) # calculate penalty        \n",
    "        x1 *= fac # force E = I\n",
    "        x2 *= fac # force E = I\n",
    "        \n",
    "    return -u_func(x1,x2,alpha) + penalty # the error\n",
    "\n",
    "# b. call solver\n",
    "initial_guess = [I/p1/2,I/p2/2]\n",
    "sol_case3 = optimize.minimize(\n",
    "    value_of_choice,initial_guess,method='Nelder-Mead',\n",
    "    args=(alpha,I,p1,p2))\n",
    "\n",
    "# c. unpack solution\n",
    "x1 = sol_case3.x[0]\n",
    "x2 = sol_case3.x[1]\n",
    "u = u_func(x1,x2,alpha)\n",
    "print_solution(x1,x2,u,I,p1,p2)"
   ]
  },
  {
   "cell_type": "markdown",
   "metadata": {
    "slideshow": {
     "slide_type": "slide"
    },
    "tags": []
   },
   "source": [
    "# Indifference curves"
   ]
  },
  {
   "cell_type": "markdown",
   "metadata": {
    "slideshow": {
     "slide_type": "fragment"
    },
    "tags": []
   },
   "source": [
    "Remember that the indifference curve through the point $(y_1,y_2)$ is given by the set of $x_1,x_2$ points\n",
    "\n",
    "$$\n",
    "\\big\\{(x_1,x_2) \\in \\mathbb{R}^2_+ \\,|\\, u(x_1,x_2) = u(y_1,y_2)\\big\\}\n",
    "$$\n",
    "\n",
    "To find the indifference curve: \n",
    "* fix a grid for $x_2$\n",
    "* then find the corresponding $x_1$ which solves $u(x_1,x_2) = u(y_1,y_2)$ for each value of $x_2$."
   ]
  },
  {
   "cell_type": "code",
   "execution_count": 314,
   "metadata": {
    "slideshow": {
     "slide_type": "fragment"
    },
    "tags": []
   },
   "outputs": [],
   "source": [
    "def objective(x1,x2,alpha,u):\n",
    "    return u_func(x1,x2,alpha) - u \n",
    "    # = 0 then on indifference curve with utility = u"
   ]
  },
  {
   "cell_type": "code",
   "execution_count": 312,
   "metadata": {
    "slideshow": {
     "slide_type": "subslide"
    },
    "tags": []
   },
   "outputs": [],
   "source": [
    "def find_indifference_curve(y1,y2,alpha,N,x2_max):\n",
    "    \n",
    "    # a. utility in (y1,y2)\n",
    "    u_y = u_func(y1,y2,alpha)\n",
    "    \n",
    "    # b. allocate numpy arrays\n",
    "    x1_vec = np.empty(N)\n",
    "    x2_vec = np.linspace(1e-8,x2_max,N)\n",
    "    \n",
    "    # c. loop through x2\n",
    "    for i,x2 in enumerate(x2_vec):\n",
    "\n",
    "        x1_guess = 0 # initial guess\n",
    "        sol = optimize.root(objective, x1_guess, args=(x2,alpha,u_y)) \n",
    "        # optimize.root -> solve objective = 0 starting from x1 = x1_guess\n",
    "        \n",
    "        x1_vec[i] = sol.x[0]\n",
    "    \n",
    "    return x1_vec,x2_vec"
   ]
  },
  {
   "cell_type": "markdown",
   "metadata": {
    "slideshow": {
     "slide_type": "subslide"
    },
    "tags": []
   },
   "source": [
    "Find and plot an inddifference curve:"
   ]
  },
  {
   "cell_type": "code",
   "execution_count": 338,
   "metadata": {
    "slideshow": {
     "slide_type": "fragment"
    },
    "tags": []
   },
   "outputs": [
    {
     "data": {
      "image/png": "[encoded data removed]",
      "text/plain": [
       "<Figure size 288x288 with 1 Axes>"
      ]
     },
     "metadata": {},
     "output_type": "display_data"
    }
   ],
   "source": [
    "# a. find indifference curve through (4,4) for x2 in [0,10]\n",
    "x2_max = 10\n",
    "x1_vec,x2_vec = find_indifference_curve(y1=4,y2=4,alpha=0.25,N=100,x2_max=x2_max) \n",
    "\n",
    "# b. plot inddifference curve\n",
    "fig = plt.figure(figsize=(4,4))\n",
    "ax = fig.add_subplot(1,1,1)\n",
    "ax.plot(x1_vec,x2_vec)\n",
    "\n",
    "ax.set_xlabel('$x_1$')\n",
    "ax.set_ylabel('$x_2$')\n",
    "ax.set_xlim([0,x2_max])\n",
    "ax.set_ylim([0,x2_max])\n",
    "ax.grid(True)"
   ]
  },
  {
   "cell_type": "markdown",
   "metadata": {
    "slideshow": {
     "slide_type": "fragment"
    },
    "tags": []
   },
   "source": [
    "**Task:** Find the indifference curve through $x_1 = 15$ and $x_2 = 3$ with $\\alpha = 0.5$."
   ]
  },
  {
   "cell_type": "code",
   "execution_count": null,
   "metadata": {
    "code_folding": [],
    "hidden": true,
    "slideshow": {
     "slide_type": "skip"
    },
    "tags": []
   },
   "outputs": [],
   "source": [
    "# write your code here"
   ]
  },
  {
   "cell_type": "code",
   "execution_count": null,
   "metadata": {
    "jupyter": {
     "source_hidden": true
    },
    "tags": []
   },
   "outputs": [],
   "source": [
    "x2_max = 20\n",
    "x1_vec,x2_vec = find_indifference_curve(y1=15,y2=3,alpha=0.5,N=100,x2_max=x2_max) \n",
    "\n",
    "fig = plt.figure(figsize=(6,6))\n",
    "ax = fig.add_subplot(1,1,1)\n",
    "ax.plot(x1_vec,x2_vec)\n",
    "\n",
    "ax.set_xlabel('$x_1$')\n",
    "ax.set_ylabel('$x_2$')\n",
    "ax.set_xlim([0,x2_max])\n",
    "ax.set_ylim([0,x2_max])\n",
    "ax.grid(True)"
   ]
  },
  {
   "cell_type": "markdown",
   "metadata": {
    "slideshow": {
     "slide_type": "slide"
    },
    "tags": []
   },
   "source": [
    "# A classy solution"
   ]
  },
  {
   "cell_type": "markdown",
   "metadata": {
    "slideshow": {
     "slide_type": "fragment"
    },
    "tags": []
   },
   "source": [
    "> **Note:** This section is advanced due to the use of a module with a class. It is, however, a good example of how to structure code for solving and illustrating a model.  \n",
    "> We will go into user written classes and objects later"
   ]
  },
  {
   "cell_type": "markdown",
   "metadata": {
    "slideshow": {
     "slide_type": "fragment"
    },
    "tags": []
   },
   "source": [
    "**Load module** I have written (consumer_module.py in the same folder as this notebook)."
   ]
  },
  {
   "cell_type": "code",
   "execution_count": 323,
   "metadata": {
    "slideshow": {
     "slide_type": "fragment"
    },
    "tags": []
   },
   "outputs": [],
   "source": [
    "from consumer_module import consumer"
   ]
  },
  {
   "cell_type": "markdown",
   "metadata": {
    "slideshow": {
     "slide_type": "subslide"
    },
    "tags": []
   },
   "source": [
    "## Jeppe"
   ]
  },
  {
   "cell_type": "markdown",
   "metadata": {
    "slideshow": {
     "slide_type": "fragment"
    },
    "tags": []
   },
   "source": [
    "Give birth to a consumer called **jeppe**:"
   ]
  },
  {
   "cell_type": "code",
   "execution_count": 324,
   "metadata": {
    "slideshow": {
     "slide_type": "fragment"
    },
    "tags": []
   },
   "outputs": [
    {
     "name": "stdout",
     "output_type": "stream",
     "text": [
      "alpha = 0.500\n",
      "price vector = (p1,p2) = (1.000,2.000)\n",
      "income = I = 10.000\n",
      "\n"
     ]
    }
   ],
   "source": [
    "jeppe = consumer() # create an instance of the consumer class called jeppe\n",
    "print(jeppe)"
   ]
  },
  {
   "cell_type": "markdown",
   "metadata": {
    "slideshow": {
     "slide_type": "fragment"
    },
    "tags": []
   },
   "source": [
    "Solve **jeppe**'s problem."
   ]
  },
  {
   "cell_type": "code",
   "execution_count": 325,
   "metadata": {
    "slideshow": {
     "slide_type": "fragment"
    },
    "tags": []
   },
   "outputs": [
    {
     "name": "stdout",
     "output_type": "stream",
     "text": [
      "alpha = 0.500\n",
      "price vector = (p1,p2) = (1.000,2.000)\n",
      "income = I = 10.000\n",
      "solution:\n",
      " x1 = 5.00\n",
      " x2 = 2.50\n",
      "\n"
     ]
    }
   ],
   "source": [
    "jeppe.solve()\n",
    "print(jeppe)"
   ]
  },
  {
   "cell_type": "markdown",
   "metadata": {
    "slideshow": {
     "slide_type": "skip"
    },
    "tags": []
   },
   "source": [
    "## Mette"
   ]
  },
  {
   "cell_type": "markdown",
   "metadata": {
    "slideshow": {
     "slide_type": "skip"
    },
    "tags": []
   },
   "source": [
    "Create a new consumer, called Mette, and solve her problem."
   ]
  },
  {
   "cell_type": "code",
   "execution_count": 326,
   "metadata": {
    "slideshow": {
     "slide_type": "skip"
    },
    "tags": []
   },
   "outputs": [
    {
     "name": "stdout",
     "output_type": "stream",
     "text": [
      "alpha = 0.250\n",
      "price vector = (p1,p2) = (1.000,2.000)\n",
      "income = I = 10.000\n",
      "solution:\n",
      " x1 = 2.50\n",
      " x2 = 3.75\n",
      "\n"
     ]
    }
   ],
   "source": [
    "mette = consumer(alpha=0.25)\n",
    "mette.solve()\n",
    "mette.find_indifference_curves()\n",
    "print(mette)"
   ]
  },
  {
   "cell_type": "markdown",
   "metadata": {
    "slideshow": {
     "slide_type": "skip"
    },
    "tags": []
   },
   "source": [
    "Make an illustration of Mette's problem and it's solution:"
   ]
  },
  {
   "cell_type": "code",
   "execution_count": 339,
   "metadata": {
    "slideshow": {
     "slide_type": "skip"
    },
    "tags": []
   },
   "outputs": [
    {
     "data": {
      "image/png": "[encoded data removed]",
      "text/plain": [
       "<Figure size 360x360 with 1 Axes>"
      ]
     },
     "metadata": {},
     "output_type": "display_data"
    }
   ],
   "source": [
    "fig = plt.figure(figsize=(5,5))\n",
    "ax = fig.add_subplot(1,1,1)\n",
    "\n",
    "mette.plot_indifference_curves(ax)\n",
    "mette.plot_budgetset(ax)\n",
    "mette.plot_solution(ax)\n",
    "mette.plot_details(ax)"
   ]
  },
  {
   "cell_type": "markdown",
   "metadata": {
    "slideshow": {
     "slide_type": "skip"
    },
    "tags": []
   },
   "source": [
    "**Advanced note:** Looking at the code behind the consumer class, you'll notice the 'self' argument a lot. This argument links the functions in the class definition, which holds all the instructions for behavior, and the specific object. And exactly because 'self' is the first argument in class functions, one can actually call the general class and provide it with the object one wants to evaluate a function on. "
   ]
  },
  {
   "cell_type": "code",
   "execution_count": 321,
   "metadata": {
    "slideshow": {
     "slide_type": "skip"
    },
    "tags": []
   },
   "outputs": [
    {
     "name": "stdout",
     "output_type": "stream",
     "text": [
      "call to consumer class: \n",
      " alpha = 0.500\n",
      "price vector = (p1,p2) = (1.000,2.000)\n",
      "income = I = 10.000\n",
      "solution:\n",
      " x1 = 5.00\n",
      " x2 = 2.50\n",
      "\n",
      "call to the object christian directly: \n",
      " alpha = 0.500\n",
      "price vector = (p1,p2) = (1.000,2.000)\n",
      "income = I = 10.000\n",
      "solution:\n",
      " x1 = 5.00\n",
      " x2 = 2.50\n",
      "\n"
     ]
    }
   ],
   "source": [
    "# Example: \n",
    "christian = consumer()\n",
    "\n",
    "# Calling the consumer class function and providing the object christian :\n",
    "consumer.solve(christian)\n",
    "print('call to consumer class: \\n',christian)\n",
    "\n",
    "# is the same as the call to the christian object directly\n",
    "christian.solve()\n",
    "print('call to the object christian directly: \\n',christian)"
   ]
  },
  {
   "cell_type": "markdown",
   "metadata": {
    "slideshow": {
     "slide_type": "slide"
    },
    "tags": []
   },
   "source": [
    "# Summary"
   ]
  },
  {
   "cell_type": "markdown",
   "metadata": {
    "slideshow": {
     "slide_type": "fragment"
    },
    "tags": []
   },
   "source": [
    "**This lecture:** We have talked about:\n",
    "\n",
    "1. Numpy (view vs. copy, indexing, broadcasting, functions, methods)\n",
    "2. Print (to screen and file)\n",
    "3. Figures (matplotlib)\n",
    "4. Optimization (using loops or scipy.optimize)\n",
    "5. Advanced: Consumer class"
   ]
  },
  {
   "cell_type": "markdown",
   "metadata": {
    "slideshow": {
     "slide_type": "fragment"
    },
    "tags": []
   },
   "source": [
    "Most economic models contain optimizing agents solving a constrained optimization problem. The tools applied in this lecture is not specific to the consumer problem in anyway."
   ]
  },
  {
   "cell_type": "markdown",
   "metadata": {
    "slideshow": {
     "slide_type": "fragment"
    },
    "tags": []
   },
   "source": [
    "**Your work:** Before solving Problem Set 1 read through this notebook and play around with the code. To solve the problem set, you only need to modify the code used here slightly."
   ]
  },
  {
   "cell_type": "markdown",
   "metadata": {
    "slideshow": {
     "slide_type": "fragment"
    },
    "tags": []
   },
   "source": [
    "**Next lecture:** Random numbers and simulation."
   ]
  }
 ],
 "metadata": {
  "kernelspec": {
   "display_name": "Python 3 (ipykernel)",
   "language": "python",
   "name": "python3"
  },
  "language_info": {
   "codemirror_mode": {
    "name": "ipython",
    "version": 3
   },
   "file_extension": ".py",
   "mimetype": "text/x-python",
   "name": "python",
   "nbconvert_exporter": "python",
   "pygments_lexer": "ipython3",
   "version": "3.9.7"
  },
  "toc-autonumbering": true,
  "toc-showcode": false,
  "toc-showmarkdowntxt": false,
  "toc-showtags": false
 },
 "nbformat": 4,
 "nbformat_minor": 4
}
