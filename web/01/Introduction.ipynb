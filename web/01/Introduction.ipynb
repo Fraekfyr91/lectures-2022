{
 "cells": [
  {
   "cell_type": "markdown",
   "metadata": {},
   "source": [
    "# Lecture 01: Introduction"
   ]
  },
  {
   "cell_type": "markdown",
   "id": "d8242255",
   "metadata": {},
   "source": [
    "[Download on GitHub](https://github.com/NumEconCopenhagen/lectures-2022)\n",
    "\n",
    "[<img src=\"https://mybinder.org/badge_logo.svg\">](https://mybinder.org/v2/gh/NumEconCopenhagen/lectures-2022/master?urlpath=lab/tree/01/Introduction.ipynb)"
   ]
  },
  {
   "cell_type": "markdown",
   "id": "e96ec1e7",
   "metadata": {},
   "source": [
    "1. [Solve the consumer problem](#Solve-the-consumer-problem)\n",
    "2. [Simulate the AS-AD model](#Simulate-the-AS-AD-model)\n",
    "3. [Using modules](#Using-modules)\n",
    "4. [Downloading with Git](#Downloading-with-Git)\n"
   ]
  },
  {
   "cell_type": "markdown",
   "metadata": {},
   "source": [
    "**Summary:** The Jupyter notebook is a document with text, code and results. "
   ]
  },
  {
   "cell_type": "markdown",
   "metadata": {},
   "source": [
    "This is a text cell, or more precisely a *markdown* cell.\n",
    "\n",
    "* Pres <kbd>Enter</kbd> to *edit* the cell.\n",
    "* Pres <kbd>Ctrl+Enter</kbd> to *run* the cell.\n",
    "* Pres <kbd>Shift+Enter</kbd> to *run* the cell + advance."
   ]
  },
  {
   "cell_type": "markdown",
   "metadata": {},
   "source": [
    "We can make lists:\n",
    "\n",
    "1. **First** item\n",
    "2. *Second* item\n",
    "3. ~~Third~~ item"
   ]
  },
  {
   "cell_type": "markdown",
   "metadata": {},
   "source": [
    "We can also do LaTeX math, e.g. $\\alpha^2$ or"
   ]
  },
  {
   "cell_type": "markdown",
   "metadata": {},
   "source": [
    "$$\n",
    "X = \\int_0^{\\infty} \\frac{x}{x+1} dx\n",
    "$$"
   ]
  },
  {
   "cell_type": "code",
   "execution_count": null,
   "metadata": {},
   "outputs": [],
   "source": [
    "# this is a code cell\n",
    "# let us do some calculations\n",
    "a = 20\n",
    "b = 30\n",
    "c = a+b\n",
    "\n",
    "# lets print the results (shown below the cell)\n",
    "print(c)"
   ]
  },
  {
   "cell_type": "markdown",
   "metadata": {},
   "source": [
    "We can now write some more text, and continue with our calculations."
   ]
  },
  {
   "cell_type": "code",
   "execution_count": null,
   "metadata": {},
   "outputs": [],
   "source": [
    "d = c*2\n",
    "print(d)\n",
    "print(c*3)"
   ]
  },
  {
   "cell_type": "markdown",
   "metadata": {},
   "source": [
    "**Note:** Despite JupyterLab is running in a browser, it is running offline (the path is something like *localhost:8888/lab*).<br>"
   ]
  },
  {
   "cell_type": "markdown",
   "metadata": {},
   "source": [
    "**Binder:** The exception is if you use *binder*, then JupyterLab wil run in the cloud.\n",
    "\n",
    "[<img src=\"https://mybinder.org/badge_logo.svg\">](https://mybinder.org/v2/gh/NumEconCopenhagen/lectures-2020/master?urlpath=lab/tree/01/Introduction.ipynb)"
   ]
  },
  {
   "cell_type": "markdown",
   "metadata": {},
   "source": [
    "<a id=\"Solve-the-consumer-problem\"></a>\n",
    "\n",
    "# 1. Solve the consumer problem"
   ]
  },
  {
   "cell_type": "markdown",
   "metadata": {},
   "source": [
    "Consider the following consumer problem:"
   ]
  },
  {
   "cell_type": "markdown",
   "metadata": {},
   "source": [
    "$$\n",
    "\\begin{aligned}\n",
    "V(p_{1},p_{2},I) & = \\max_{x_{1},x_{2}} x_{1}^{\\alpha}x_{2}^{1-\\alpha}\\\\\n",
    " & \\text{s.t.}\\\\\n",
    "p_{1}x_{1}+p_{2}x_{2} & \\leq I,\\,\\,\\,p_{1},p_{2},I>0\\\\\n",
    "x_{1},x_{2} & \\geq 0\n",
    "\\end{aligned}\n",
    "$$"
   ]
  },
  {
   "cell_type": "markdown",
   "metadata": {},
   "source": [
    "We can solve this problem _numerically_ in a few lines of code."
   ]
  },
  {
   "cell_type": "markdown",
   "metadata": {},
   "source": [
    "1. Choose some **parameters**:"
   ]
  },
  {
   "cell_type": "code",
   "execution_count": null,
   "metadata": {},
   "outputs": [],
   "source": [
    "alpha = 0.5\n",
    "I = 10\n",
    "p1 = 1\n",
    "p2 = 2"
   ]
  },
  {
   "cell_type": "markdown",
   "metadata": {},
   "source": [
    "2. The **consumer objective** is:"
   ]
  },
  {
   "cell_type": "code",
   "execution_count": null,
   "metadata": {},
   "outputs": [],
   "source": [
    "def value_of_choice(x1,alpha,I,p1,p2):\n",
    "    \n",
    "    # a. all income not spent on the first good\n",
    "    #    is spent on the second\n",
    "    x2 = (I-p1*x1)/p2 \n",
    "    \n",
    "    # b. the resulting utility is\n",
    "    utility = x1**alpha * x2**(1-alpha)\n",
    "    \n",
    "    return utility"
   ]
  },
  {
   "cell_type": "markdown",
   "metadata": {},
   "source": [
    "3. We can now use a function from the *scipy* module to **solve the consumer problem**."
   ]
  },
  {
   "cell_type": "code",
   "execution_count": null,
   "metadata": {},
   "outputs": [],
   "source": [
    "# a. load external module from scipy\n",
    "from scipy import optimize\n",
    "\n",
    "# b. make value-of-choice as a funciton of only x1 \n",
    "obj = lambda x1: -value_of_choice(x1,alpha,I,p1,p2)\n",
    "\n",
    "# c. call minimizer\n",
    "solution = optimize.minimize_scalar(obj,bounds=(0,I/p1))\n",
    "\n",
    "# d. print result\n",
    "x1 = solution.x\n",
    "x2 = (I-x1*p1)/p2\n",
    "print(x1,x2)"
   ]
  },
  {
   "cell_type": "markdown",
   "metadata": {},
   "source": [
    "**Task**: Solve the consumer problem with the CES utility funciton.\n",
    "\n",
    "$$\n",
    "u(x_1,x_2) = (\\alpha x_1^{-\\beta} + (1-\\alpha) x_2^{-\\beta})^{-1/\\beta}\n",
    "$$"
   ]
  },
  {
   "cell_type": "code",
   "execution_count": null,
   "metadata": {},
   "outputs": [],
   "source": [
    "import numpy as np\n",
    "\n",
    "# a. choose parameters\n",
    "alpha = 0.5\n",
    "beta = 0.000001\n",
    "I = 10\n",
    "p1 = 1\n",
    "p2 = 2\n",
    "\n",
    "# b. value-of-choice\n",
    "def value_of_choice_ces(x1,alpha,beta,I,p1,p2):\n",
    "    x2 = (I-p1*x1)/p2\n",
    "    if x1 > 0 and x2 > 0:\n",
    "        utility = (alpha*x1**(-beta)+(1-alpha)*x2**(-beta))**(-1/beta) \n",
    "    else:\n",
    "        utility = 0\n",
    "    return utility\n",
    "\n",
    "# c. objective\n",
    "obj = lambda x1: -value_of_choice_ces(x1,alpha,beta,I,p1,p2)\n",
    "\n",
    "# d. solve\n",
    "solution = optimize.minimize_scalar(obj,bounds=(0,I/p1))\n",
    "\n",
    "# e. result\n",
    "x1 = solution.x\n",
    "x2 = (I-x1*p1)/p2\n",
    "print(x1,x2)"
   ]
  },
  {
   "cell_type": "markdown",
   "metadata": {},
   "source": [
    "<a id=\"Simulate-the-AS-AD-model\"></a>\n",
    "\n",
    "# 2. Simulate the AS-AD model"
   ]
  },
  {
   "cell_type": "markdown",
   "metadata": {},
   "source": [
    "Consider the following AS-AD model:\n",
    "\n",
    "$$\n",
    "\\begin{aligned}\n",
    "\\hat{y}_{t} &= b\\hat{y}_{t-1}+\\beta(z_{t}-z_{t-1})-a\\beta s_{t}+a\\beta\\phi s_{t-1} \\\\\n",
    "\\hat{\\pi}_{t} &= b\\hat{\\pi}_{t-1}+\\beta\\gamma z_{t}-\\beta\\phi\\gamma z_{t}+\\beta s_{t}-\\beta\\phi s_{t-1} \\\\\n",
    "z_{t} &= \\delta z_{t-1}+x_{t}, x_{t} \\sim N(0,\\sigma_x^2) \\\\\n",
    "s_{t} &= \\omega s_{t-1}+c_{t}, c_{t} \\sim N(0,\\sigma_c^2) \\\\\n",
    "b &= \\frac{1+a\\phi\\gamma}{1+a\\gamma} \\\\\n",
    "\\beta &= \\frac{1}{1+a\\gamma}\n",
    "\\end{aligned}\n",
    "$$\n",
    "\n",
    "where $\\hat{y}_{t}$ is the output gap, $\\hat{\\pi}_{t}$ is the inflation gap, $z_{t}$ is a AR(1) demand shock, and $\\hat{s}_{t}$ is a AR(1) supply shock."
   ]
  },
  {
   "cell_type": "markdown",
   "metadata": {},
   "source": [
    "1. Choose **parameters**:"
   ]
  },
  {
   "cell_type": "code",
   "execution_count": null,
   "metadata": {},
   "outputs": [],
   "source": [
    "a = 0.4\n",
    "gamma = 0.1\n",
    "phi = 0.9\n",
    "delta = 0.8\n",
    "omega = 0.15\n",
    "sigma_x = 1\n",
    "sigma_c = 0.4\n",
    "T = 100"
   ]
  },
  {
   "cell_type": "markdown",
   "metadata": {},
   "source": [
    "2. Calculate **composite parameters**:"
   ]
  },
  {
   "cell_type": "code",
   "execution_count": null,
   "metadata": {},
   "outputs": [],
   "source": [
    "b = (1+a*phi*gamma)/(1+a*gamma)\n",
    "beta = 1/(1+a*gamma) "
   ]
  },
  {
   "cell_type": "markdown",
   "metadata": {},
   "source": [
    "3. Define **model functions**:"
   ]
  },
  {
   "cell_type": "code",
   "execution_count": null,
   "metadata": {},
   "outputs": [],
   "source": [
    "y_hat_func = lambda y_hat_lag,z,z_lag,s,s_lag: b*y_hat_lag + beta*(z-z_lag) - a*beta*s + a*beta*phi*s_lag\n",
    "pi_hat_func = lambda pi_lag,z,z_lag,s,s_lag: b*pi_lag + beta*gamma*z - beta*phi*gamma*z_lag + beta*s - beta*phi*s_lag\n",
    "z_func = lambda z_lag,x: delta*z_lag + x\n",
    "s_func = lambda s_lag,c: omega*s_lag + c"
   ]
  },
  {
   "cell_type": "markdown",
   "metadata": {},
   "source": [
    "4. Run the **simulation**:"
   ]
  },
  {
   "cell_type": "code",
   "execution_count": null,
   "metadata": {},
   "outputs": [],
   "source": [
    "import numpy as np\n",
    "\n",
    "# a. set setup\n",
    "np.random.seed(2015)   \n",
    "\n",
    "# b. allocate simulation data\n",
    "x = np.random.normal(loc=0,scale=sigma_x,size=T)\n",
    "c = np.random.normal(loc=0,scale=sigma_c,size=T)\n",
    "\n",
    "z = np.zeros(T)\n",
    "s = np.zeros(T)\n",
    "y_hat = np.zeros(T)\n",
    "pi_hat = np.zeros(T)\n",
    "\n",
    "# c. run simulation\n",
    "for t in range(1,T):\n",
    "\n",
    "    # i. update demand shocks and supply shocks\n",
    "    z[t] = z_func(z[t-1],x[t])\n",
    "    s[t] = s_func(s[t-1],c[t])\n",
    "\n",
    "    # ii. compute outgap and inflation based on shocks in t \n",
    "    y_hat[t] = y_hat_func(y_hat[t-1],z[t],z[t-1],s[t],s[t-1])\n",
    "    pi_hat[t] = pi_hat_func(pi_hat[t-1],z[t],z[t-1],s[t],s[t-1])"
   ]
  },
  {
   "cell_type": "markdown",
   "metadata": {},
   "source": [
    "5. **Plot** the simulation:"
   ]
  },
  {
   "cell_type": "code",
   "execution_count": null,
   "metadata": {},
   "outputs": [],
   "source": [
    "import matplotlib.pyplot as plt\n",
    "%matplotlib inline\n",
    "\n",
    "fig = plt.figure()\n",
    "ax = fig.add_subplot(1,1,1)\n",
    "\n",
    "ax.plot(y_hat,label='$\\\\hat{y}$')\n",
    "ax.plot(pi_hat,label='$\\\\hat{\\pi}$')\n",
    "\n",
    "ax.set_xlabel('time')\n",
    "\n",
    "ax.set_ylabel('percent')\n",
    "ax.set_ylim([-8,8])\n",
    "\n",
    "ax.legend(loc='upper left');"
   ]
  },
  {
   "cell_type": "markdown",
   "metadata": {},
   "source": [
    "I like the **seaborn style**:"
   ]
  },
  {
   "cell_type": "code",
   "execution_count": null,
   "metadata": {},
   "outputs": [],
   "source": [
    "plt.style.use('seaborn-whitegrid')\n",
    "\n",
    "fig = plt.figure()\n",
    "ax = fig.add_subplot(1,1,1)\n",
    "\n",
    "ax.plot(y_hat,label='$\\\\hat{y}$')\n",
    "ax.plot(pi_hat,label='$\\\\hat{pi}$')\n",
    "\n",
    "ax.set_xlabel('time')\n",
    "\n",
    "ax.set_ylabel('percent')\n",
    "ax.set_ylim([-8,8])\n",
    "\n",
    "ax.legend(loc='upper left',facecolor='white',frameon='True');"
   ]
  },
  {
   "cell_type": "markdown",
   "metadata": {},
   "source": [
    "<a id=\"Using-modules\"></a>\n",
    "\n",
    "# 3. Using modules"
   ]
  },
  {
   "cell_type": "markdown",
   "metadata": {},
   "source": [
    "A **module** is a **.py**-file with functions you import and can then call in the notebook.\n",
    "\n",
    "Try to open **mymodule.py** and have a look."
   ]
  },
  {
   "cell_type": "code",
   "execution_count": null,
   "metadata": {},
   "outputs": [],
   "source": [
    "import mymodule"
   ]
  },
  {
   "cell_type": "code",
   "execution_count": null,
   "metadata": {},
   "outputs": [],
   "source": [
    "x = 5\n",
    "y = mymodule.myfunction(x)\n",
    "print(y)"
   ]
  },
  {
   "cell_type": "markdown",
   "metadata": {},
   "source": [
    "<a id=\"Downloading-with-Git\"></a>\n",
    "\n",
    "# 4. Downloading with Git"
   ]
  },
  {
   "cell_type": "markdown",
   "metadata": {},
   "source": [
    "**Download course material**\n",
    "\n",
    "1. Follow the [installation guide](https://numeconcopenhagen.netlify.com/guides/python-setup/)\n",
    "1. If you have not yet restarted JupyterLab after installations, do it now.\n",
    "1. Make sure you are in the folder, where the course content should be located. \n",
    "2. Press the tab **Git**.\n",
    "3. Press `Clone a repository`\n",
    "4. Paste in `https://github.com/NumEconCopenhagen/lectures-2022` and enter.\n",
    "5. You now have all course material in the folder `lectures-2022`\n",
    "6. Do the same thing for exercise class material, using the url `https://github.com/NumEconCopenhagen/exercises-2022` \n",
    "7. Create a copy of the cloned folder, where you work with the code (otherwise you can not sync with updates)"
   ]
  }
 ],
 "metadata": {
  "kernelspec": {
   "display_name": "Python 3 (ipykernel)",
   "language": "python",
   "name": "python3"
  },
  "language_info": {
   "codemirror_mode": {
    "name": "ipython",
    "version": 3
   },
   "file_extension": ".py",
   "mimetype": "text/x-python",
   "name": "python",
   "nbconvert_exporter": "python",
   "pygments_lexer": "ipython3",
   "version": "3.9.7"
  },
  "toc-autonumbering": false
 },
 "nbformat": 4,
 "nbformat_minor": 4
}
