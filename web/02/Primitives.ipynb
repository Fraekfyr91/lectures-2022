{
 "cells": [
  {
   "cell_type": "markdown",
   "metadata": {
    "slideshow": {
     "slide_type": "slide"
    },
    "tags": []
   },
   "source": [
    "# Lecture 02: Primitives"
   ]
  },
  {
   "cell_type": "markdown",
   "id": "e60dd16d",
   "metadata": {},
   "source": [
    "[Download on GitHub](https://github.com/NumEconCopenhagen/lectures-2022)\n",
    "\n",
    "[<img src=\"https://mybinder.org/badge_logo.svg\">](https://mybinder.org/v2/gh/NumEconCopenhagen/lectures-2022/master?urlpath=lab/tree/02/Primitives.ipynb)"
   ]
  },
  {
   "cell_type": "markdown",
   "id": "d9a2f536",
   "metadata": {},
   "source": [
    "1. [Your first notebook session](#Your-first-notebook-session)\n",
    "2. [Fundamentals](#Fundamentals)\n",
    "3. [Containers](#Containers)\n",
    "4. [Conditionals and loops](#Conditionals-and-loops)\n",
    "5. [Functions](#Functions)\n",
    "6. [Floating point numbers](#Floating-point-numbers)\n",
    "7. [Classes (user-defined types)](#Classes-(user-defined-types))\n",
    "8. [Summary](#Summary)\n",
    "9. [Extra: Iterators](#Extra:-Iterators)\n",
    "10. [Extra: More on functions](#Extra:-More-on-functions)\n"
   ]
  },
  {
   "cell_type": "markdown",
   "metadata": {
    "slideshow": {
     "slide_type": "skip"
    },
    "tags": []
   },
   "source": [
    "You will be given an in-depth introduction to the **fundamentals of Python** (objects, variables, operators, classes, methods, functions, conditionals, loops). You learn to discriminate between different **types** such as integers, floats, strings, lists, tuples and dictionaries, and determine whether they are **subscriptable** (slicable) and/or **mutable**. You will learn about **referencing** and **scope**. You will learn a tiny bit about **floating point arithmetics**.\n",
    "\n",
    "**Take-away:** This lecture is rather abstract compared to the rest of the course. The central take-away is **a language** to speak about programming in. An overview of the map, later we will study the terrain in detail. It is not about **memorizing**. Almost no code projects begin from scratch, you start by copying in similar code you have written for another project.\n",
    "\n",
    "Hopefully, this notebook can later be used as a **reference sheet**. When you are done with the DataCamp courses, read through this notebook, play around with the code, and ask questions if there is stuff you do not understand. \n",
    "\n",
    "**Links:**\n",
    "\n",
    "* **Tutorial:** A more detailed tutorial is provided [here](https://www.python-course.eu/python3_course.php).\n",
    "* **Markdown:** All text cells are written in *Markdown*. A guide is provided [here](https://www.markdownguide.org/basic-syntax/)."
   ]
  },
  {
   "cell_type": "markdown",
   "metadata": {
    "slideshow": {
     "slide_type": "slide"
    },
    "tags": []
   },
   "source": [
    "<a id=\"Your-first-notebook-session\"></a>\n",
    "\n",
    "# 1. Your first notebook session\n",
    "\n",
    "**Optimally:** You have this notebook open as well on your own computer.\n",
    "\n",
    "# 1.# 1.# 1. Download course material\n",
    "\n",
    "1. Follow the [installation guide](https://numeconcopenhagen.netlify.com/guides/python-setup/)\n",
    "1. If you have not yet restarted JupyterLab after installations, do it now.\n",
    "1. Go to the Extensions tab (lowest icon in the far left side). Press **Warning**. Agree to enable extensions.\n",
    "1. Make sure you are in the folder, where the course content should be located. \n",
    "2. Press the tab **Git**.\n",
    "3. Press `Clone a repository`\n",
    "4. Paste in `https://github.com/NumEconCopenhagen/lectures-2022` and enter.\n",
    "5. You now have all course material in the folder `lectures-2022`\n",
    "6. Do the same thing for exercise class material using the url:\n",
    "    * `https://github.com/NumEconCopenhagen/exercises-2022` \n",
    "7. Create a copy of the cloned folder, where you work with the code (otherwise you may get conflicting copies when updating)"
   ]
  },
  {
   "cell_type": "markdown",
   "metadata": {
    "slideshow": {
     "slide_type": "slide"
    },
    "tags": []
   },
   "source": [
    "### Updating your local version of a notebook.\n",
    "* 1: Close down all tabs.\n",
    "* 2: Press the tab **Git**.\n",
    "* 3: Press **Open Git Repository in Terminal**\n",
    "* 4: Make sure that you are in the repository folder you want to update (`lectures-2022` or `exercises-2022`, or your own repo).  \n",
    "    * On **Windows** write `cd`. \n",
    "    * On **Mac** write `pwd`. \n",
    "    * This will display your current location. \n",
    "* 5: **See if YOU have any changes**\n",
    "    * Write `git status`. \n",
    "    * Note if it says `modified: 02/Primitives.ipynb`, or show modifications to **other files**.\n",
    "* 6: **View incoming changes**\n",
    "    * Write `git fetch`\n",
    "    * Write `git diff --name-status main..origin/main` "
   ]
  },
  {
   "cell_type": "markdown",
   "metadata": {
    "jp-MarkdownHeadingCollapsed": true,
    "slideshow": {
     "slide_type": "subslide"
    },
    "tags": []
   },
   "source": [
    "* 7: **Remove conflicting notebooks**\n",
    "    * Were **any** of the files listed in Step 6 **also found** on the list produced in Step 5? Eg. `02/Primitives.ipynb` in both places?\n",
    "    * If there are any overlaps (conflicts), you need to discard your own changes (you'll learn to stash later). \n",
    "    * Of course, if you made notes or experiments that you want to keep, you can always **make a copy** of your conflicting file and keep that. Just use a good old copy-paste and give your own file a new name.  \n",
    "    * Then write `git checkout -- 02/Primitives.ipynb` **only if** there was a conflict for that file. Do so with **all** overlapping files.\n",
    "* 8: **Accept incoming changes**\n",
    "    * Write `git merge`\n",
    "\n",
    "As you may have guessed, the command `git pull` is **identical** to a `git fetch` combined with a `git merge`. \n",
    "\n",
    "**Note:** This guide is _only a rough start_, meant to avoid all conflicting updates. You will soon learn to do better and **not** having to discard all you local changes in case of overlaps.  "
   ]
  },
  {
   "cell_type": "markdown",
   "metadata": {
    "jp-MarkdownHeadingCollapsed": true,
    "slideshow": {
     "slide_type": "skip"
    },
    "tags": []
   },
   "source": [
    "**PROBLEMS?** Ask your teaching asssistant ASAP."
   ]
  },
  {
   "cell_type": "markdown",
   "metadata": {
    "slideshow": {
     "slide_type": "slide"
    },
    "tags": []
   },
   "source": [
    "## 1.1 Execution of code in cells\n",
    "\n",
    "* **Movements**: Arrows and scrolling\n",
    "* **Run cell and advance:** <kbd>Shift</kbd>+<kbd>Enter</kbd>\n",
    "* **Run cell**: <kbd>Ctrl</kbd>+<kbd>Enter</kbd>\n",
    "* **Edit:** <kbd>Enter</kbd>\n",
    "* **Toggle sidebar:** <kbd>Ctrl</kbd>+<kbd>B</kbd>\n",
    "* **Change to markdown cell:** <kbd>M</kbd>\n",
    "* **Change to code cell:** <kbd>Y</kbd>"
   ]
  },
  {
   "cell_type": "markdown",
   "metadata": {
    "slideshow": {
     "slide_type": "slide"
    },
    "tags": []
   },
   "source": [
    "<a id=\"Fundamentals\"></a>\n",
    "\n",
    "# 2. Fundamentals\n",
    "\n",
    "\n",
    "**Computers**\n",
    "\n",
    "Before we start looking at code, let's check out the structure of a **computer**:\n",
    "\n",
    "<img src=\"https://github.com/NumEconCopenhagen/lectures-2019/raw/master/11/computer.gif\" alt=\"computer\" width=50% />"
   ]
  },
  {
   "cell_type": "markdown",
   "metadata": {
    "slideshow": {
     "slide_type": "subslide"
    },
    "tags": []
   },
   "source": [
    "## 2.1 The work flow of your computer\n",
    "* You give it some command through an input device (eg. keyboard)\n",
    "* The control unit figures out if any new data from the hard disk (external storage) is needed\n",
    "* If it is needed, the control unit loads that data and puts in an **address** in memory\n",
    "* From memory, the data can be accessed by the arithmetic unit in the cpu to do the prompted calculations \n",
    "* Resulting data is stored in memory\n",
    "* Control unit can then pass resulting data in memory to output devices (eg. screen) and to hard disk\n",
    "\n",
    "**Figuratively speaking**: \n",
    "* **Memory** is like a well organized file cabinet, where all data is neatly stored and quickly accessible.\n",
    "* Each drawer of this \"file cabinet\" is an *address* where data can be stored. \n",
    "* We can see the address of any variable in memory by applying the function `id()`.   \n",
    "* In turn, the **hard disk** is like a cellar with reports in boxes. It contains much more data but is also slower to retrieve from.  "
   ]
  },
  {
   "cell_type": "markdown",
   "metadata": {
    "slideshow": {
     "slide_type": "slide"
    },
    "tags": []
   },
   "source": [
    "## 2.2 What is a variable?\n",
    "\n",
    "* A variable in python is thus a **reference** (or *pointer*) to a place in memory where data resides.\n",
    "* There are *many* types of variables. \n",
    "* Some store data **directly**, some are **containers** for data.\n",
    "* There are **4 types** of data:\n",
    "    * Booleans (true/false)\n",
    "    * Integers\n",
    "    * Floats (decimal numbers)\n",
    "    * Strings\n",
    "* The 4 kinds of data use **different amounts of memory** pr unit. Important not to waste memory! \n",
    "* A variable that references one of these data types **directly** is an **Atomic type**.  \n",
    "    The data of an atomic type is **unchangeable** at the address. \n",
    "* Variable types that are containers are eg. **lists**, **dictionaries**, **data frames**, etc.  \n",
    "    Their data is allowed to change.\n",
    "* **All variables are objects**: bundles of data and functions. "
   ]
  },
  {
   "cell_type": "markdown",
   "metadata": {
    "slideshow": {
     "slide_type": "skip"
    },
    "tags": []
   },
   "source": [
    "## 2.3 Atomic types\n",
    "\n",
    "The most simple types are called **atomic**, because they cannot be changed - only overwritten. "
   ]
  },
  {
   "cell_type": "markdown",
   "metadata": {
    "slideshow": {
     "slide_type": "slide"
    },
    "tags": []
   },
   "source": [
    "**Integers (int):** -3, -2, -1, 0, 1, 2, 3, $\\ldots, \\infty$  \n",
    "There is no cap on the size of ints in python!"
   ]
  },
  {
   "cell_type": "code",
   "execution_count": 53,
   "metadata": {
    "slideshow": {
     "slide_type": "fragment"
    },
    "tags": []
   },
   "outputs": [
    {
     "name": "stdout",
     "output_type": "stream",
     "text": [
      "x is a <class 'int'>\n",
      "x = 1\n",
      "Address of x is 140496634779952\n",
      "x uses 28 bytes\n",
      "\n",
      "Note that the address is new, as x gets a new value!\n",
      "x = 2\n",
      "Address of x is 140496634779984\n"
     ]
    }
   ],
   "source": [
    "# variable x references an integer type object with a value of 1\n",
    "x = 1 \n",
    "\n",
    "print('x is a', type(x)) # prints the type of x\n",
    "print('x =', x)\n",
    "print('Address of x is',id(x)) \n",
    "print('x uses',sys.getsizeof(x),'bytes')\n",
    "\n",
    "x = x*2\n",
    "print('\\nNote that the address is new, as x gets a new value!')\n",
    "print('x =', x)\n",
    "print('Address of x is',id(x)) "
   ]
  },
  {
   "cell_type": "markdown",
   "metadata": {
    "slideshow": {
     "slide_type": "slide"
    },
    "tags": []
   },
   "source": [
    "**Decimal numbers (float)**: 3.14, 2.72, 1.0, etc."
   ]
  },
  {
   "cell_type": "code",
   "execution_count": 52,
   "metadata": {
    "slideshow": {
     "slide_type": "fragment"
    },
    "tags": []
   },
   "outputs": [
    {
     "name": "stdout",
     "output_type": "stream",
     "text": [
      "x is a <class 'float'>\n",
      "x = 1.2\n",
      "x uses 24 bytes\n"
     ]
    }
   ],
   "source": [
    "x = 1.2\n",
    "# variable x references an floating point (decimal number) type object \n",
    "# with a value of 1.2 \n",
    "\n",
    "print('x is a',type(x))\n",
    "print('x =',x)\n",
    "print('x uses',sys.getsizeof(x),'bytes')"
   ]
  },
  {
   "cell_type": "markdown",
   "metadata": {
    "slideshow": {
     "slide_type": "slide"
    },
    "tags": []
   },
   "source": [
    "**Strings (str)**: 'abc', '123', 'this is a full sentence', etc."
   ]
  },
  {
   "cell_type": "code",
   "execution_count": 54,
   "metadata": {
    "slideshow": {
     "slide_type": "fragment"
    },
    "tags": []
   },
   "outputs": [
    {
     "name": "stdout",
     "output_type": "stream",
     "text": [
      "x is a <class 'str'>\n",
      "x = abc\n",
      "x uses 52 bytes\n"
     ]
    }
   ],
   "source": [
    "x = 'abc' \n",
    "# variable x references a string type opbject \n",
    "# with a value of 'abc'\n",
    "\n",
    "print('x is a',type(x))\n",
    "print('x =',x)\n",
    "print('x uses',sys.getsizeof(x),'bytes')"
   ]
  },
  {
   "cell_type": "markdown",
   "metadata": {
    "slideshow": {
     "slide_type": "fragment"
    },
    "tags": []
   },
   "source": [
    "**Note:** Alternatively, use double quotes instead of single quotes."
   ]
  },
  {
   "cell_type": "code",
   "execution_count": 39,
   "metadata": {
    "slideshow": {
     "slide_type": "skip"
    },
    "tags": []
   },
   "outputs": [
    {
     "name": "stdout",
     "output_type": "stream",
     "text": [
      "x is a <class 'str'>\n",
      "x = abc\n"
     ]
    },
    {
     "data": {
      "text/plain": [
       "52"
      ]
     },
     "execution_count": 39,
     "metadata": {},
     "output_type": "execute_result"
    }
   ],
   "source": [
    "x = \"abc\" \n",
    "# variable x reference a string type opbject \n",
    "# with a value of 'abc'\n",
    "\n",
    "print('x is a',type(x))\n",
    "print('x =',x)\n",
    "sys.getsizeof(\"abc\")"
   ]
  },
  {
   "cell_type": "markdown",
   "metadata": {
    "slideshow": {
     "slide_type": "slide"
    },
    "tags": []
   },
   "source": [
    "**Booleans (bool)**: True and False"
   ]
  },
  {
   "cell_type": "code",
   "execution_count": 55,
   "metadata": {
    "slideshow": {
     "slide_type": "fragment"
    },
    "tags": []
   },
   "outputs": [
    {
     "name": "stdout",
     "output_type": "stream",
     "text": [
      "x is a <class 'bool'>\n",
      "x = True\n",
      "x uses 28 bytes\n"
     ]
    }
   ],
   "source": [
    "x = True \n",
    "# variable x reference a boolean type opbject \n",
    "# with a value of False\n",
    "\n",
    "print('x is a',type(x))\n",
    "print('x =',x)\n",
    "print('x uses',sys.getsizeof(x),'bytes')"
   ]
  },
  {
   "cell_type": "markdown",
   "metadata": {
    "slideshow": {
     "slide_type": "skip"
    },
    "tags": []
   },
   "source": [
    "**Atomic types:**\n",
    "\n",
    "1. Integers, *int*\n",
    "2. Floating point numbers, *float*\n",
    "3. Strings, *str*\n",
    "4. Booleans, *bool*"
   ]
  },
  {
   "cell_type": "markdown",
   "metadata": {
    "slideshow": {
     "slide_type": "slide"
    },
    "tags": []
   },
   "source": [
    "## 2.4 Type conversion\n",
    "\n",
    "Objects of one type can (sometimes) be **converted** into another type.  \n",
    "This obviously changes the address of an atomic type.  \n",
    "As an example, from float to string:"
   ]
  },
  {
   "cell_type": "code",
   "execution_count": 13,
   "metadata": {
    "slideshow": {
     "slide_type": "fragment"
    },
    "tags": []
   },
   "outputs": [
    {
     "name": "stdout",
     "output_type": "stream",
     "text": [
      "x = 1.2\n",
      "x is a <class 'float'>\n",
      "y = 1.2\n",
      "y is a <class 'str'>\n"
     ]
    }
   ],
   "source": [
    "x = 1.2\n",
    "# variable x references an floating point (decimal number) type object \n",
    "# with a value of 1.2 \n",
    "\n",
    "y = str(x) \n",
    "# variable y now references a string type object \n",
    "# with a value created based on x \n",
    "\n",
    "print('x =', x)\n",
    "print('x is a',type(x))\n",
    "print('y =', y)\n",
    "print('y is a',type(y))"
   ]
  },
  {
   "cell_type": "markdown",
   "metadata": {
    "slideshow": {
     "slide_type": "slide"
    },
    "tags": []
   },
   "source": [
    "From float to integer: **always** rounds down!"
   ]
  },
  {
   "cell_type": "code",
   "execution_count": 15,
   "metadata": {
    "slideshow": {
     "slide_type": "fragment"
    },
    "tags": []
   },
   "outputs": [
    {
     "name": "stdout",
     "output_type": "stream",
     "text": [
      "x = 2.9\n",
      "y = 2\n",
      "y is a <class 'int'>\n"
     ]
    }
   ],
   "source": [
    "x = 2.9\n",
    "\n",
    "y = int(x) # variable y now references an integer type object  \n",
    "print('x =', x)\n",
    "print('y =', y)\n",
    "print('y is a',type(y))"
   ]
  },
  {
   "cell_type": "markdown",
   "metadata": {
    "slideshow": {
     "slide_type": "fragment"
    },
    "tags": []
   },
   "source": [
    "**Limitation:** You can, however, e.g. not convert a string **with letters** to an integer."
   ]
  },
  {
   "cell_type": "code",
   "execution_count": null,
   "metadata": {
    "slideshow": {
     "slide_type": "skip"
    },
    "tags": []
   },
   "outputs": [],
   "source": [
    "try: # try to run this block\n",
    "    x = int('222a')\n",
    "    print('can be done')\n",
    "    print(x)\n",
    "except: # if any error found run this block instead\n",
    "    print('canNOT be done')"
   ]
  },
  {
   "cell_type": "markdown",
   "metadata": {
    "slideshow": {
     "slide_type": "skip"
    },
    "tags": []
   },
   "source": [
    "**Note**: The identation is required (typically 4 spaces)."
   ]
  },
  {
   "cell_type": "markdown",
   "metadata": {
    "slideshow": {
     "slide_type": "slide"
    },
    "tags": []
   },
   "source": [
    "**Question**: Can you convert a boolean variable `x = False` to an integer?\n",
    "\n",
    "- **A:** No\n",
    "- **B:** Yes, and the result is 0\n",
    "- **C:** Yes, and the result is 1\n",
    "- **D:** Yes, and the result is -1\n",
    "- **E:** Don't know"
   ]
  },
  {
   "cell_type": "markdown",
   "metadata": {
    "slideshow": {
     "slide_type": "skip"
    },
    "tags": []
   },
   "source": [
    "## 2.5 Operators"
   ]
  },
  {
   "cell_type": "markdown",
   "metadata": {
    "slideshow": {
     "slide_type": "skip"
    },
    "tags": []
   },
   "source": [
    "Variables can be combined using **arithmetic operators** (e.g. +, -, /, **).<br>For numbers we have:"
   ]
  },
  {
   "cell_type": "code",
   "execution_count": null,
   "metadata": {
    "slideshow": {
     "slide_type": "skip"
    },
    "tags": []
   },
   "outputs": [],
   "source": [
    "x = 3\n",
    "y = 2\n",
    "print(x+y)\n",
    "print(x-y)\n",
    "print(x/y)\n",
    "print(x*y)\n",
    "print(x**2)"
   ]
  },
  {
   "cell_type": "markdown",
   "metadata": {
    "slideshow": {
     "slide_type": "skip"
    },
    "tags": []
   },
   "source": [
    "For strings we can use an overloaded '+' for concatenation:"
   ]
  },
  {
   "cell_type": "code",
   "execution_count": null,
   "metadata": {
    "slideshow": {
     "slide_type": "skip"
    },
    "tags": []
   },
   "outputs": [],
   "source": [
    "x = 'abc'\n",
    "y = 'def'\n",
    "print(x+y)"
   ]
  },
  {
   "cell_type": "markdown",
   "metadata": {
    "slideshow": {
     "slide_type": "skip"
    },
    "tags": []
   },
   "source": [
    "A string can also be multiplied by an integer:"
   ]
  },
  {
   "cell_type": "code",
   "execution_count": null,
   "metadata": {
    "slideshow": {
     "slide_type": "skip"
    },
    "tags": []
   },
   "outputs": [],
   "source": [
    "x = 'abc'\n",
    "y = 2\n",
    "print(x*y)"
   ]
  },
  {
   "cell_type": "markdown",
   "metadata": {
    "slideshow": {
     "slide_type": "skip"
    },
    "tags": []
   },
   "source": [
    "**Question**: What is the result of `x = 3**2`?\n",
    "\n",
    "- **A:** `x = 3`\n",
    "- **B:** `x = 6`\n",
    "- **C:** `x = 9`\n",
    "- **D:** `x = 12`\n",
    "- **E:** Don't know\n"
   ]
  },
  {
   "cell_type": "markdown",
   "metadata": {
    "slideshow": {
     "slide_type": "skip"
    },
    "tags": []
   },
   "source": [
    "**Note:** Standard division converts integers to floating point numbers."
   ]
  },
  {
   "cell_type": "code",
   "execution_count": null,
   "metadata": {
    "slideshow": {
     "slide_type": "skip"
    },
    "tags": []
   },
   "outputs": [],
   "source": [
    "x = 8\n",
    "y = x/2 # standard division\n",
    "z = x//3 # integer division\n",
    "print(y,type(y))\n",
    "print(z,type(z))"
   ]
  },
  {
   "cell_type": "markdown",
   "metadata": {
    "slideshow": {
     "slide_type": "slide"
    },
    "tags": []
   },
   "source": [
    "## 2.6 Augmentation\n",
    "\n",
    "Variables can be changed using **augmentation operators** (e.g. +=, -=, *=, /=)"
   ]
  },
  {
   "cell_type": "code",
   "execution_count": 23,
   "metadata": {
    "slideshow": {
     "slide_type": "fragment"
    },
    "tags": []
   },
   "outputs": [
    {
     "name": "stdout",
     "output_type": "stream",
     "text": [
      "x = 3\n",
      "x = 4\n",
      "x = 8\n",
      "x = 4.0\n"
     ]
    }
   ],
   "source": [
    "x = 3 \n",
    "print('x =',x)\n",
    "\n",
    "x += 1 # same result as x = x+1\n",
    "print('x =',x)\n",
    "x *= 2 # same result as x = x*2\n",
    "print('x =',x)\n",
    "x /= 2 # same result as x = x/2\n",
    "print('x =',x)"
   ]
  },
  {
   "cell_type": "markdown",
   "metadata": {
    "slideshow": {
     "slide_type": "slide"
    },
    "tags": []
   },
   "source": [
    "## 2.7 Logical operators\n",
    "\n",
    "Variables can be compared using **boolean operators** (e.g. ==, !=, <, <=, >, >=). "
   ]
  },
  {
   "cell_type": "code",
   "execution_count": null,
   "metadata": {
    "slideshow": {
     "slide_type": "fragment"
    },
    "tags": []
   },
   "outputs": [],
   "source": [
    "x = 3\n",
    "y = 2\n",
    "z = 10\n",
    "print(x < y) # less than\n",
    "print(x <= y) # less than or equal\n",
    "print(x != y) # not equal\n",
    "print(x == y) # equal"
   ]
  },
  {
   "cell_type": "markdown",
   "metadata": {
    "slideshow": {
     "slide_type": "fragment"
    },
    "tags": []
   },
   "source": [
    "The comparison returns a boolean variable:"
   ]
  },
  {
   "cell_type": "code",
   "execution_count": 24,
   "metadata": {
    "slideshow": {
     "slide_type": "fragment"
    },
    "tags": []
   },
   "outputs": [
    {
     "name": "stdout",
     "output_type": "stream",
     "text": [
      "False\n"
     ]
    }
   ],
   "source": [
    "z = x < y # z is now a boolean variable\n",
    "print(z)"
   ]
  },
  {
   "cell_type": "markdown",
   "metadata": {
    "slideshow": {
     "slide_type": "skip"
    },
    "tags": []
   },
   "source": [
    "## 2.8 Summary"
   ]
  },
  {
   "cell_type": "markdown",
   "metadata": {
    "slideshow": {
     "slide_type": "skip"
    },
    "tags": []
   },
   "source": [
    "The new central concepts are:\n",
    "\n",
    "1. Variable\n",
    "2. Reference\n",
    "3. Object\n",
    "4. Type (int, float, str, bool)\n",
    "5. Value\n",
    "6. Operator (+, -, *, **, /, //, % etc.)\n",
    "7. Augmentation (+=, -=, *=, /= etc.)\n",
    "8. Comparison (==, !=, <, <= etc.)"
   ]
  },
  {
   "cell_type": "markdown",
   "metadata": {
    "slideshow": {
     "slide_type": "slide"
    },
    "tags": []
   },
   "source": [
    "<a id=\"Containers\"></a>\n",
    "\n",
    "# 3. Containers\n",
    "\n",
    "* A more complicated type of variable is a **container**.  \n",
    "* This is an object, which consists of several objects, for instance atomic types.  \n",
    "* Therefore, containers are also called **collection types**. \n",
    "* **Types of containers**\n",
    "    * Lists\n",
    "    * Dictionaries\n",
    "    * Tuples \n",
    "    * Pandas data frames\n",
    "    * ..."
   ]
  },
  {
   "cell_type": "markdown",
   "metadata": {
    "slideshow": {
     "slide_type": "slide"
    },
    "tags": []
   },
   "source": [
    "## 3.1 Lists\n",
    "\n",
    "A first example is a **list**.  A list contains **elements** each **referencing** some data in memory."
   ]
  },
  {
   "cell_type": "code",
   "execution_count": 31,
   "metadata": {
    "slideshow": {
     "slide_type": "fragment"
    },
    "tags": []
   },
   "outputs": [
    {
     "name": "stdout",
     "output_type": "stream",
     "text": [
      "[1, 'abc'] is a <class 'list'>\n"
     ]
    }
   ],
   "source": [
    "x = [1,'abc'] \n",
    "# variable x references a list type object with elements\n",
    "# referencing 1 and 'abc'\n",
    "\n",
    "print(x,'is a', type(x))"
   ]
  },
  {
   "cell_type": "markdown",
   "metadata": {
    "slideshow": {
     "slide_type": "fragment"
    },
    "tags": []
   },
   "source": [
    "The **length** (size) of a list can be found with the **len** function."
   ]
  },
  {
   "cell_type": "code",
   "execution_count": 35,
   "metadata": {
    "slideshow": {
     "slide_type": "fragment"
    },
    "tags": []
   },
   "outputs": [
    {
     "name": "stdout",
     "output_type": "stream",
     "text": [
      "the number of elements in x is 2\n"
     ]
    }
   ],
   "source": [
    "print(f'the number of elements in x is {len(x)}')"
   ]
  },
  {
   "cell_type": "markdown",
   "metadata": {
    "slideshow": {
     "slide_type": "fragment"
    },
    "tags": []
   },
   "source": [
    "A list is **subscriptable** and starts, like everything in Python, from **index 0**. Beware!"
   ]
  },
  {
   "cell_type": "code",
   "execution_count": null,
   "metadata": {
    "slideshow": {
     "slide_type": "fragment"
    },
    "tags": []
   },
   "outputs": [],
   "source": [
    "print(x[0]) # 1st element \n",
    "print(x[1]) # 2nd element"
   ]
  },
  {
   "cell_type": "markdown",
   "metadata": {
    "slideshow": {
     "slide_type": "slide"
    },
    "tags": []
   },
   "source": [
    "A list is **mutable**, i.e. you can change its elements on the fly.  \n",
    "That is, you can change its **references** to objects."
   ]
  },
  {
   "cell_type": "code",
   "execution_count": 34,
   "metadata": {
    "slideshow": {
     "slide_type": "fragment"
    },
    "tags": []
   },
   "outputs": [
    {
     "name": "stdout",
     "output_type": "stream",
     "text": [
      "x = ['def', 2] has id = 140496784122944\n",
      "x = ['def', 5] has id = 140496784122944\n"
     ]
    }
   ],
   "source": [
    "x[0] = 'def'\n",
    "x[1] = 2\n",
    "print('x =', x, 'has id =',id(x))\n",
    "\n",
    "# Change x[1]\n",
    "x[1] = 5\n",
    "print('x =', x, 'has id =',id(x))"
   ]
  },
  {
   "cell_type": "markdown",
   "metadata": {
    "slideshow": {
     "slide_type": "fragment"
    },
    "tags": []
   },
   "source": [
    "and add more elements"
   ]
  },
  {
   "cell_type": "code",
   "execution_count": null,
   "metadata": {
    "slideshow": {
     "slide_type": "fragment"
    },
    "tags": []
   },
   "outputs": [],
   "source": [
    "x.append('new_element') # add new element to end of list\n",
    "print(x)"
   ]
  },
  {
   "cell_type": "markdown",
   "metadata": {
    "slideshow": {
     "slide_type": "skip"
    },
    "tags": []
   },
   "source": [
    "**Link:** [Why is 0 the first index?](http://python-history.blogspot.com/2013/10/why-python-uses-0-based-indexing.html)  "
   ]
  },
  {
   "cell_type": "markdown",
   "metadata": {
    "slideshow": {
     "slide_type": "slide"
    },
    "tags": []
   },
   "source": [
    "### Slicing a list\n",
    "\n",
    "A list is **slicable**, i.e. you can extract a list from a list."
   ]
  },
  {
   "cell_type": "code",
   "execution_count": null,
   "metadata": {
    "slideshow": {
     "slide_type": "fragment"
    },
    "tags": []
   },
   "outputs": [],
   "source": [
    "x = [0,1,2,3,4,5]\n",
    "print(x[0:3]) # x[0] included, x[3] not included\n",
    "print(x[1:3])\n",
    "print(x[:3])\n",
    "print(x[1:])\n",
    "print(x[:99]) # This is very particular to Python. Normally you'd get an error.  \n",
    "print(x[:-1]) # x[-1] is the last element\n",
    "\n",
    "print(type(x[:-1])) # Slicing yields a list\n",
    "print(type(x[-1])) # Unless only 1 element"
   ]
  },
  {
   "cell_type": "markdown",
   "metadata": {
    "slideshow": {
     "slide_type": "fragment"
    },
    "tags": []
   },
   "source": [
    "**Explantion:** \n",
    "* Slices are half-open intervals. \n",
    "* ``x[i:i+n]`` means starting from element ``x[i]`` and create a list of (up to) ``n`` elements.\n",
    "* Sort of nice if you have calculated ``i`` and know you need ``n`` elements. "
   ]
  },
  {
   "cell_type": "code",
   "execution_count": null,
   "metadata": {
    "slideshow": {
     "slide_type": "skip"
    },
    "tags": []
   },
   "outputs": [],
   "source": [
    "# splitting a list at x[3] and x[5] is: \n",
    "print(x[0:3])\n",
    "print(x[3:5])\n",
    "print(x[5:])"
   ]
  },
  {
   "cell_type": "markdown",
   "metadata": {
    "slideshow": {
     "slide_type": "slide"
    },
    "tags": []
   },
   "source": [
    "**Question**: Consider the following code:"
   ]
  },
  {
   "cell_type": "code",
   "execution_count": 58,
   "metadata": {
    "slideshow": {
     "slide_type": "fragment"
    },
    "tags": []
   },
   "outputs": [],
   "source": [
    "x = [0,1,2,3,4,5]"
   ]
  },
  {
   "cell_type": "markdown",
   "metadata": {
    "slideshow": {
     "slide_type": "fragment"
    },
    "tags": []
   },
   "source": [
    "What is the result of `print(x[-4:-2])`?\n",
    "\n",
    "- **A:** [1,2,3]\n",
    "- **B:** [2,3,4]\n",
    "- **C:** [2,3]\n",
    "- **D:** [3,4]\n",
    "- **E:** Don't know"
   ]
  },
  {
   "cell_type": "markdown",
   "metadata": {
    "slideshow": {
     "slide_type": "slide"
    },
    "tags": []
   },
   "source": [
    "### Referencing\n",
    "**Container types, incl. lists, are non-atomic** \n",
    "* Several variables can refer to the **same** list.\n",
    "* If you change the data of a list that **one** variable refers to, **you change them all**.\n",
    "* Variables refering to the same object has the same id."
   ]
  },
  {
   "cell_type": "code",
   "execution_count": 61,
   "metadata": {
    "slideshow": {
     "slide_type": "fragment"
    },
    "tags": []
   },
   "outputs": [
    {
     "name": "stdout",
     "output_type": "stream",
     "text": [
      "initial x = [1, 2, 3]\n",
      "id of x is 140496827424896\n",
      "id of y is 140496827424896\n",
      "x = [2, 2, 3]\n"
     ]
    }
   ],
   "source": [
    "x = [1,2,3]\n",
    "print('initial x =',x)\n",
    "print('id of x is',id(x))\n",
    "y = x # y now references the same list as x\n",
    "print('id of y is',id(y))\n",
    "y[0] = 2 # change the first element in the list y\n",
    "print('x =',x) # x is also changed because it references the same list as y"
   ]
  },
  {
   "cell_type": "markdown",
   "metadata": {
    "slideshow": {
     "slide_type": "slide"
    },
    "tags": []
   },
   "source": [
    "If you want to know if two variables contain the same reference, use the **is** operator. "
   ]
  },
  {
   "cell_type": "code",
   "execution_count": 65,
   "metadata": {
    "slideshow": {
     "slide_type": "fragment"
    },
    "tags": []
   },
   "outputs": [
    {
     "name": "stdout",
     "output_type": "stream",
     "text": [
      "True\n",
      "False\n"
     ]
    }
   ],
   "source": [
    "print(y is x) \n",
    "z = [1,2]\n",
    "w = [1,2] \n",
    "print(z is w) # z and w have the same numerical content, but do not reference the same object. "
   ]
  },
  {
   "cell_type": "markdown",
   "metadata": {
    "slideshow": {
     "slide_type": "fragment"
    },
    "tags": []
   },
   "source": [
    "**Conclusion:** The `=` sign copy the reference, not the content!"
   ]
  },
  {
   "cell_type": "markdown",
   "metadata": {
    "slideshow": {
     "slide_type": "skip"
    },
    "tags": []
   },
   "source": [
    "Atomic types cannot be changed and keep their identity."
   ]
  },
  {
   "cell_type": "code",
   "execution_count": 62,
   "metadata": {
    "slideshow": {
     "slide_type": "skip"
    },
    "tags": []
   },
   "outputs": [
    {
     "name": "stdout",
     "output_type": "stream",
     "text": [
      "True\n",
      "15 10\n",
      "False\n"
     ]
    }
   ],
   "source": [
    "z = 10\n",
    "w = z\n",
    "print(z is w) # w is now the same reference as z\n",
    "z += 5\n",
    "print(z, w)\n",
    "print(z is w) # z was overwritten in the augmentation statement. "
   ]
  },
  {
   "cell_type": "markdown",
   "metadata": {
    "slideshow": {
     "slide_type": "skip"
    },
    "tags": []
   },
   "source": [
    "If one variable is deleted, the other one still references the list."
   ]
  },
  {
   "cell_type": "code",
   "execution_count": null,
   "metadata": {
    "slideshow": {
     "slide_type": "skip"
    },
    "tags": []
   },
   "outputs": [],
   "source": [
    "del x # delete the variable x\n",
    "print(y)"
   ]
  },
  {
   "cell_type": "markdown",
   "metadata": {
    "slideshow": {
     "slide_type": "slide"
    },
    "tags": []
   },
   "source": [
    "Containers should be **copied** by using the copy-module:"
   ]
  },
  {
   "cell_type": "code",
   "execution_count": null,
   "metadata": {
    "slideshow": {
     "slide_type": "fragment"
    },
    "tags": []
   },
   "outputs": [],
   "source": [
    "from copy import copy\n",
    "\n",
    "x = [1,2,3]\n",
    "y = copy(x) # y now a copy of x\n",
    "y[0] = 2\n",
    "print(y)\n",
    "print(x) # x is not changed when y is changed\n",
    "print(x is y) # as they are not the same reference"
   ]
  },
  {
   "cell_type": "markdown",
   "metadata": {
    "slideshow": {
     "slide_type": "fragment"
    },
    "tags": []
   },
   "source": [
    "or by slicing:"
   ]
  },
  {
   "cell_type": "code",
   "execution_count": null,
   "metadata": {
    "slideshow": {
     "slide_type": "fragment"
    },
    "tags": []
   },
   "outputs": [],
   "source": [
    "x = [1,2,3]\n",
    "y = x[:] # y now a copy of x\n",
    "y[0] = 2\n",
    "print(y)\n",
    "print(x) # x is not changed when y is changed"
   ]
  },
  {
   "cell_type": "markdown",
   "metadata": {
    "slideshow": {
     "slide_type": "fragment"
    },
    "tags": []
   },
   "source": [
    "**Advanced**: A **deepcopy** is necessary, when the list contains mutable objects."
   ]
  },
  {
   "cell_type": "code",
   "execution_count": null,
   "metadata": {
    "slideshow": {
     "slide_type": "skip"
    },
    "tags": []
   },
   "outputs": [],
   "source": [
    "from copy import deepcopy\n",
    "\n",
    "a = [1,2,3]\n",
    "x = [a,2,3] # x is a list of a list and two integers\n",
    "y1 = copy(x) # y1 now a copy x\n",
    "y2 = deepcopy(x) # y2 is a deep copy\n",
    "\n",
    "a[0] = 10 # change1\n",
    "x[-1] = 1 # change2\n",
    "print(x) # Both changes happened\n",
    "print(y1) # y1[0] reference the same list as x[0]. Only change1 happened \n",
    "print(y2) # y2[0] is a copy of the original list referenced by x[0]"
   ]
  },
  {
   "cell_type": "markdown",
   "metadata": {
    "slideshow": {
     "slide_type": "skip"
    },
    "tags": []
   },
   "source": [
    "**Question**: Consider the following code:"
   ]
  },
  {
   "cell_type": "code",
   "execution_count": null,
   "metadata": {
    "slideshow": {
     "slide_type": "skip"
    },
    "tags": []
   },
   "outputs": [],
   "source": [
    "x = [1,2,3]\n",
    "y = [x,x]\n",
    "z = x\n",
    "z[0] = 3\n",
    "z[2] = 1"
   ]
  },
  {
   "cell_type": "markdown",
   "metadata": {
    "slideshow": {
     "slide_type": "skip"
    },
    "tags": []
   },
   "source": [
    "What is the result of `print(y[0])`?\n",
    "\n",
    "- **A:** 1\n",
    "- **B:** 3\n",
    "- **C:** [3,2,1]\n",
    "- **D:** [1,2,3]\n",
    "- **E:** Don't know"
   ]
  },
  {
   "cell_type": "markdown",
   "metadata": {
    "slideshow": {
     "slide_type": "slide"
    },
    "tags": []
   },
   "source": [
    "## 3.2 Tuples\n",
    "\n",
    "* A **tuple** is an **immutable list**.\n",
    "* Tuples are created with soft parenthesis, `t = (1,3,9)`.\n",
    "* As with lists, elements are accessed by brackets, `t[0]`. \n",
    "* **Immutable:** `t[0]=10` will produce an error.\n",
    "* We use tuples to pass variables around that should not change by accident.  \n",
    "* **Functions** will **output** tuples if you specify multiple output variables.\n",
    "* Tuples can also be used as arguments to function."
   ]
  },
  {
   "cell_type": "code",
   "execution_count": null,
   "metadata": {
    "slideshow": {
     "slide_type": "fragment"
    },
    "tags": []
   },
   "outputs": [],
   "source": [
    "x = (1,2,3) # note: parentheses instead of square backets\n",
    "print('x =',x,'is a',type(x))\n",
    "print('x[2] =', x[2], 'is a', type(x[2]))\n",
    "print('x[:2] =', x[:2], 'is a', type(x[:2]))"
   ]
  },
  {
   "cell_type": "markdown",
   "metadata": {},
   "source": [
    "But it **cannot be changed** (it is immutable):"
   ]
  },
  {
   "cell_type": "code",
   "execution_count": null,
   "metadata": {},
   "outputs": [],
   "source": [
    "try: # try to run this block\n",
    "    x[0] = 2\n",
    "    print('did succeed in setting x[0]=2')\n",
    "except: # if any error found run this block instead\n",
    "    print('did NOT succeed in setting x[0]=2')\n",
    "print(x)"
   ]
  },
  {
   "cell_type": "markdown",
   "metadata": {
    "slideshow": {
     "slide_type": "slide"
    },
    "tags": []
   },
   "source": [
    "## 3.3 Dictionaries\n",
    "\n",
    "* A **dictionary** is a **key-based** container. \n",
    "* Lists and tuples use numerical indices.\n",
    "* Initialized with curly brackets. `d={}` is an empty dictionary.\n",
    "* Should be used when you need to look up data quickly by a name.\n",
    "* Arch example: a **phone book**.  \n",
    "    You know the name of a person (*key*), and want the phone number (*data*).\n",
    "* Frequent use: want to make a **collection** of variables or parameters used in a model. \n",
    "* **Keys:** All immutable objects are valid keys (eg. `str` or `int`).\n",
    "* **Values:** Fully unrestricted. "
   ]
  },
  {
   "cell_type": "code",
   "execution_count": 82,
   "metadata": {
    "slideshow": {
     "slide_type": "fragment"
    },
    "tags": []
   },
   "outputs": [
    {
     "name": "stdout",
     "output_type": "stream",
     "text": [
      "x['ef'] = 2.74\n"
     ]
    }
   ],
   "source": [
    "x = {'abc': 1.2, 'D': 1, 'ef': 2.74, 'G': 30} # Create a dictionary\n",
    "print(\"x['ef'] =\", x['ef']) # Extracting content\n",
    "x['abc'] = 100 # Changing content"
   ]
  },
  {
   "cell_type": "markdown",
   "metadata": {
    "slideshow": {
     "slide_type": "skip"
    },
    "tags": []
   },
   "source": [
    "Elements of a dictionary are **extracted** using their keyword. Can be a variable "
   ]
  },
  {
   "cell_type": "code",
   "execution_count": null,
   "metadata": {
    "slideshow": {
     "slide_type": "skip"
    },
    "tags": []
   },
   "outputs": [],
   "source": [
    "key = 'abc'\n",
    "value = x[key]\n",
    "print(value)"
   ]
  },
  {
   "cell_type": "markdown",
   "metadata": {
    "slideshow": {
     "slide_type": "skip"
    },
    "tags": []
   },
   "source": [
    "**Content is deleted** using its key:"
   ]
  },
  {
   "cell_type": "code",
   "execution_count": null,
   "metadata": {
    "slideshow": {
     "slide_type": "skip"
    },
    "tags": []
   },
   "outputs": [],
   "source": [
    "print(y)\n",
    "del y['abc']\n",
    "print(y)"
   ]
  },
  {
   "cell_type": "markdown",
   "metadata": {
    "slideshow": {
     "slide_type": "skip"
    },
    "tags": []
   },
   "source": [
    "**Task:** Create a dictionary called `capitals` with the capital names of Denmark, Sweden and Norway as values and country names as keys."
   ]
  },
  {
   "cell_type": "markdown",
   "metadata": {
    "slideshow": {
     "slide_type": "skip"
    },
    "tags": []
   },
   "source": [
    "**Answer:**"
   ]
  },
  {
   "cell_type": "code",
   "execution_count": null,
   "metadata": {
    "jupyter": {
     "source_hidden": true
    }
   },
   "outputs": [],
   "source": [
    "capitals = {}\n",
    "capitals['denmark'] = 'copenhagen'\n",
    "capitals['sweden'] = 'stockholm'\n",
    "capitals['norway'] = 'oslo'\n",
    "\n",
    "capital_of_sweden = capitals['sweden']\n",
    "print(capital_of_sweden)"
   ]
  },
  {
   "cell_type": "markdown",
   "metadata": {
    "slideshow": {
     "slide_type": "skip"
    },
    "tags": []
   },
   "source": [
    "## 3.4 Summary"
   ]
  },
  {
   "cell_type": "markdown",
   "metadata": {
    "slideshow": {
     "slide_type": "skip"
    },
    "tags": []
   },
   "source": [
    "The new central concepts are:\n",
    "\n",
    "1. Containers (lists, tuples, dictionaries)\n",
    "2. Mutable/immutable\n",
    "3. Slicing of lists and tuples\n",
    "4. Referencing (copy and deepcopy)\n",
    "5. Key-value pairs for dictionaries"
   ]
  },
  {
   "cell_type": "markdown",
   "metadata": {
    "slideshow": {
     "slide_type": "skip"
    },
    "tags": []
   },
   "source": [
    "**Note:** All atomic types as immutable, and only strings are subscriptable."
   ]
  },
  {
   "cell_type": "code",
   "execution_count": null,
   "metadata": {
    "slideshow": {
     "slide_type": "skip"
    },
    "tags": []
   },
   "outputs": [],
   "source": [
    "x = 'abcdef'\n",
    "print(x[:3])\n",
    "print(x[3:5])\n",
    "print(x[5:])\n",
    "try:\n",
    "    x[0] = 'f'\n",
    "except:\n",
    "    print('strings are immutable')"
   ]
  },
  {
   "cell_type": "markdown",
   "metadata": {
    "slideshow": {
     "slide_type": "skip"
    },
    "tags": []
   },
   "source": [
    "**Advanced:** Other interesting containers are e.g. **namedtuple** and **OrderDict** (see [collections](https://docs.python.org/2/library/collections.html)), and [**sets**](https://docs.python.org/2/library/sets.html)."
   ]
  },
  {
   "cell_type": "markdown",
   "metadata": {
    "slideshow": {
     "slide_type": "slide"
    },
    "tags": []
   },
   "source": [
    "<a id=\"Conditionals-and-loops\"></a>\n",
    "\n",
    "# 4. Conditionals and loops"
   ]
  },
  {
   "cell_type": "markdown",
   "metadata": {
    "slideshow": {
     "slide_type": "skip"
    },
    "tags": []
   },
   "source": [
    "## 4.1 Conditionals"
   ]
  },
  {
   "cell_type": "markdown",
   "metadata": {
    "slideshow": {
     "slide_type": "fragment"
    },
    "tags": []
   },
   "source": [
    "You typically want your program to do one thing if some condition is met, and another thing if another condition is met. \n",
    "\n",
    "In Python this is done with **conditional statments**:"
   ]
  },
  {
   "cell_type": "code",
   "execution_count": null,
   "metadata": {
    "slideshow": {
     "slide_type": "fragment"
    },
    "tags": []
   },
   "outputs": [],
   "source": [
    "x = 3\n",
    "if x < 2: \n",
    "    # happens if x is smaller than 2\n",
    "    print('first possibility')\n",
    "elif x > 4: # elif = else if\n",
    "    # happens if x is not smaller than 2 and x is larger than 4\n",
    "    print('second possibility')\n",
    "elif x < 0:\n",
    "    # happens if x is not smaller than 2, x is not larger than 4\n",
    "    #  and x is smaller than 0\n",
    "    print('third posibility') # note: this can never happen\n",
    "else:\n",
    "    # happens if x is not smaller than 2, x is not larger than 4\n",
    "    #  and x is not smaller than 0\n",
    "    print('fourth possiblity')  "
   ]
  },
  {
   "cell_type": "markdown",
   "metadata": {
    "slideshow": {
     "slide_type": "skip"
    },
    "tags": []
   },
   "source": [
    "**Note:**\n",
    "\n",
    "1. \"elif\" is short for \"else if\" \n",
    "2. the **indentation** after if, elif and else is required (typically 4 spaces)"
   ]
  },
  {
   "cell_type": "markdown",
   "metadata": {
    "slideshow": {
     "slide_type": "skip"
    },
    "tags": []
   },
   "source": [
    "An **equivalent formulation** of the above if-elif-else statement is:"
   ]
  },
  {
   "cell_type": "code",
   "execution_count": null,
   "metadata": {
    "slideshow": {
     "slide_type": "skip"
    },
    "tags": []
   },
   "outputs": [],
   "source": [
    "x = -1\n",
    "cond_1 = x < 2 # a boolean (True or False)\n",
    "cond_2 = x > 4 # a boolean (True or False)\n",
    "cond_3 = x < 0 # a boolean (True or False)\n",
    "if cond_1: \n",
    "    print('first possibility')\n",
    "elif cond_2:\n",
    "    print('second possibility')\n",
    "elif cond_3:\n",
    "    print('third posibility')\n",
    "else:\n",
    "    print('fourth possiblity')\n",
    "\n",
    "y = [1, 2]\n",
    "if y:\n",
    "    print('y is not empty')"
   ]
  },
  {
   "cell_type": "markdown",
   "metadata": {
    "slideshow": {
     "slide_type": "skip"
    },
    "tags": []
   },
   "source": [
    "The above can also be written purely in terms of if-statements:"
   ]
  },
  {
   "cell_type": "code",
   "execution_count": null,
   "metadata": {
    "slideshow": {
     "slide_type": "skip"
    },
    "tags": []
   },
   "outputs": [],
   "source": [
    "if cond_1: \n",
    "    print('first possibility')\n",
    "if not cond_1 and cond_2:\n",
    "    print('second possibility')\n",
    "if not (cond_1 or cond_2) and cond_3:\n",
    "    print('third posibility')\n",
    "if not (cond_1 or cond_2 or cond_3):\n",
    "    print('fourth possiblity')"
   ]
  },
  {
   "cell_type": "markdown",
   "metadata": {
    "slideshow": {
     "slide_type": "slide"
    },
    "tags": []
   },
   "source": [
    "## 4.2 Basics of looping\n",
    "\n",
    "* We often need to do the same task many times over. \n",
    "* We use loops to do that. \n",
    "* **Code repetition** gives you **horrible errors** and takes time.\n",
    "* **2 kinds of loop**\n",
    "    * `for` loop: when you know how many iterations to do\n",
    "    * `while` loop: when the stopping point is unknown\n",
    "* Use **list comprehension** instead of simple for loops."
   ]
  },
  {
   "cell_type": "markdown",
   "metadata": {
    "slideshow": {
     "slide_type": "subslide"
    },
    "tags": []
   },
   "source": [
    "Never do this:"
   ]
  },
  {
   "cell_type": "code",
   "execution_count": 93,
   "metadata": {
    "slideshow": {
     "slide_type": "fragment"
    },
    "tags": []
   },
   "outputs": [
    {
     "name": "stdout",
     "output_type": "stream",
     "text": [
      "[0, 1, 4, 16]\n"
     ]
    }
   ],
   "source": [
    "xs = [0,1,2,3,4]\n",
    "x_sqr = []\n",
    "\n",
    "x_sqr.append(xs[0]**2)\n",
    "x_sqr.append(xs[1]**2)\n",
    "x_sqr.append(xs[2]**2)\n",
    "x_sqr.append(xs[4]**2)\n",
    "print(x_sqr)"
   ]
  },
  {
   "cell_type": "markdown",
   "metadata": {
    "slideshow": {
     "slide_type": "subslide"
    },
    "tags": []
   },
   "source": [
    "Use a **for loop** instead:"
   ]
  },
  {
   "cell_type": "code",
   "execution_count": null,
   "metadata": {
    "slideshow": {
     "slide_type": "fragment"
    },
    "tags": []
   },
   "outputs": [],
   "source": [
    "x_sqr = [] # empty list\n",
    "for x in xs:\n",
    "    x_sqr.append(x**2)"
   ]
  },
  {
   "cell_type": "markdown",
   "metadata": {
    "slideshow": {
     "slide_type": "fragment"
    },
    "tags": []
   },
   "source": [
    "Even better: a **list comprehension**  \n",
    "List comprehension is the shortest syntax and runs faster. Use that if you can."
   ]
  },
  {
   "cell_type": "code",
   "execution_count": null,
   "metadata": {
    "slideshow": {
     "slide_type": "fragment"
    },
    "tags": []
   },
   "outputs": [],
   "source": [
    "x_sqr = [x**2 for x in xs]"
   ]
  },
  {
   "cell_type": "markdown",
   "metadata": {
    "slideshow": {
     "slide_type": "subslide"
    },
    "tags": []
   },
   "source": [
    "Use a **while loop**:"
   ]
  },
  {
   "cell_type": "code",
   "execution_count": 100,
   "metadata": {
    "slideshow": {
     "slide_type": "fragment"
    },
    "tags": []
   },
   "outputs": [
    {
     "name": "stdout",
     "output_type": "stream",
     "text": [
      "[0, 1, 4, 9, 16, 25, 36, 49, 64, 81]\n"
     ]
    }
   ],
   "source": [
    "i_sqr = [] # empty list\n",
    "i = 0\n",
    "while i < 10:\n",
    "    i_sqr.append(i**2)\n",
    "    i += 1\n",
    "print(i_sqr)"
   ]
  },
  {
   "cell_type": "markdown",
   "metadata": {
    "slideshow": {
     "slide_type": "fragment"
    },
    "tags": []
   },
   "source": [
    "Use a **for loop** with **range** instead:"
   ]
  },
  {
   "cell_type": "code",
   "execution_count": null,
   "metadata": {
    "slideshow": {
     "slide_type": "fragment"
    },
    "tags": []
   },
   "outputs": [],
   "source": [
    "y_list = [] # empty list\n",
    "for x in range(5):\n",
    "    print(x)\n",
    "    y_list.append(x**2)\n",
    "print(y_list)"
   ]
  },
  {
   "cell_type": "markdown",
   "metadata": {
    "slideshow": {
     "slide_type": "slide"
    },
    "tags": []
   },
   "source": [
    "## 4.3 More complex loops\n",
    "\n",
    "Nice to know when looping in python\n",
    "* Need a count variable? For loops can be **enumerated**.\n",
    "* Need to loop over 2 lists, element-by-element? Use **zipping**.\n",
    "* You can **nest** loops. "
   ]
  },
  {
   "cell_type": "code",
   "execution_count": 103,
   "metadata": {
    "slideshow": {
     "slide_type": "subslide"
    },
    "tags": []
   },
   "outputs": [
    {
     "name": "stdout",
     "output_type": "stream",
     "text": [
      "i = 0\n",
      "i = 1\n",
      "i = 2\n",
      "i = 3\n",
      "y_list = [0, 25, 62, 120]\n"
     ]
    }
   ],
   "source": [
    "y_list = []\n",
    "x_list = [10,25,31,40]\n",
    "\n",
    "for i,x in enumerate(x_list):\n",
    "    print('i =', i)\n",
    "    y_list.append(x*i)\n",
    "print('y_list =',y_list)"
   ]
  },
  {
   "cell_type": "markdown",
   "metadata": {
    "slideshow": {
     "slide_type": "skip"
    },
    "tags": []
   },
   "source": [
    "Loops can be fine-tuned with **continue** and **break**."
   ]
  },
  {
   "cell_type": "code",
   "execution_count": null,
   "metadata": {
    "slideshow": {
     "slide_type": "skip"
    },
    "tags": []
   },
   "outputs": [],
   "source": [
    "y_list = []\n",
    "x_list = [*range(10)]\n",
    "\n",
    "for i,x in enumerate(x_list):\n",
    "    if i == 1:\n",
    "        continue # go to next iteration \n",
    "    elif i == 4:\n",
    "        break # stop loop prematurely\n",
    "    y_list.append(x**2)\n",
    "print(y_list)"
   ]
  },
  {
   "cell_type": "markdown",
   "metadata": {
    "slideshow": {
     "slide_type": "skip"
    },
    "tags": []
   },
   "source": [
    "**Task:** Create a list with the 10 first positive uneven numbers."
   ]
  },
  {
   "cell_type": "code",
   "execution_count": null,
   "metadata": {
    "slideshow": {
     "slide_type": "skip"
    },
    "tags": []
   },
   "outputs": [],
   "source": [
    "# write your code here"
   ]
  },
  {
   "cell_type": "markdown",
   "metadata": {
    "slideshow": {
     "slide_type": "skip"
    },
    "tags": []
   },
   "source": [
    "**Answer:**"
   ]
  },
  {
   "cell_type": "code",
   "execution_count": null,
   "metadata": {
    "jupyter": {
     "source_hidden": true
    }
   },
   "outputs": [],
   "source": [
    "my_list = []\n",
    "for i in range(10):\n",
    "    my_list.append((i+1)*2-1)\n",
    "print(my_list)"
   ]
  },
  {
   "cell_type": "markdown",
   "metadata": {
    "slideshow": {
     "slide_type": "subslide"
    },
    "tags": []
   },
   "source": [
    "**Zip:** We can loop over **2 lists at the same time**:"
   ]
  },
  {
   "cell_type": "code",
   "execution_count": 108,
   "metadata": {
    "slideshow": {
     "slide_type": "fragment"
    },
    "tags": []
   },
   "outputs": [
    {
     "name": "stdout",
     "output_type": "stream",
     "text": [
      "Ia\n",
      "IIb\n",
      "IIIc\n"
     ]
    }
   ],
   "source": [
    "x = ['I', 'II', 'III']\n",
    "y = ['a', 'b', 'c']\n",
    "\n",
    "for i,j in zip(x,y):\n",
    "    print(i+j)"
   ]
  },
  {
   "cell_type": "markdown",
   "metadata": {
    "slideshow": {
     "slide_type": "fragment"
    },
    "tags": []
   },
   "source": [
    "Zipping is **not** the same as **nesting** "
   ]
  },
  {
   "cell_type": "code",
   "execution_count": 109,
   "metadata": {
    "slideshow": {
     "slide_type": "fragment"
    },
    "tags": []
   },
   "outputs": [
    {
     "name": "stdout",
     "output_type": "stream",
     "text": [
      "Ia\n",
      "Ib\n",
      "Ic\n",
      "IIa\n",
      "IIb\n",
      "IIc\n",
      "IIIa\n",
      "IIIb\n",
      "IIIc\n"
     ]
    }
   ],
   "source": [
    "# A nested loop\n",
    "for i in x:\n",
    "    for j in y:\n",
    "        print(i+j)"
   ]
  },
  {
   "cell_type": "markdown",
   "metadata": {
    "slideshow": {
     "slide_type": "skip"
    },
    "tags": []
   },
   "source": [
    "Iter(ation)tools enable us do complicated loops in a smart way. We can e.g. loop through **all combinations of elements in 2 lists**:"
   ]
  },
  {
   "cell_type": "code",
   "execution_count": null,
   "metadata": {
    "slideshow": {
     "slide_type": "skip"
    },
    "tags": []
   },
   "outputs": [],
   "source": [
    "import itertools as it\n",
    "for i,j in it.product(x,y):\n",
    "    print(i,j)"
   ]
  },
  {
   "cell_type": "markdown",
   "metadata": {
    "slideshow": {
     "slide_type": "skip"
    },
    "tags": []
   },
   "source": [
    "## 4.4 Dictionaries"
   ]
  },
  {
   "cell_type": "markdown",
   "metadata": {
    "slideshow": {
     "slide_type": "skip"
    },
    "tags": []
   },
   "source": [
    "We can loop throug keys, values or key-value pairs of a dictionary."
   ]
  },
  {
   "cell_type": "code",
   "execution_count": null,
   "metadata": {
    "slideshow": {
     "slide_type": "skip"
    },
    "tags": []
   },
   "outputs": [],
   "source": [
    "my_dict = {'a': '-', 'b': '--', 'c': '---'}\n",
    "for key in my_dict.keys():\n",
    "    print(key)"
   ]
  },
  {
   "cell_type": "code",
   "execution_count": null,
   "metadata": {
    "slideshow": {
     "slide_type": "skip"
    },
    "tags": []
   },
   "outputs": [],
   "source": [
    "for val in my_dict.values():\n",
    "    print(val)"
   ]
  },
  {
   "cell_type": "code",
   "execution_count": null,
   "metadata": {
    "slideshow": {
     "slide_type": "skip"
    },
    "tags": []
   },
   "outputs": [],
   "source": [
    "for key,val in my_dict.items():\n",
    "    print(key,val)"
   ]
  },
  {
   "cell_type": "markdown",
   "metadata": {
    "slideshow": {
     "slide_type": "skip"
    },
    "tags": []
   },
   "source": [
    "We can also **check whether a key exists**:"
   ]
  },
  {
   "cell_type": "code",
   "execution_count": null,
   "metadata": {
    "slideshow": {
     "slide_type": "skip"
    },
    "tags": []
   },
   "outputs": [],
   "source": [
    "if 'a' in my_dict:\n",
    "    print('a is in my_dict with the value ' + my_dict['a'])\n",
    "else:\n",
    "    print('a is not in my_dict')"
   ]
  },
  {
   "cell_type": "code",
   "execution_count": null,
   "metadata": {
    "slideshow": {
     "slide_type": "skip"
    },
    "tags": []
   },
   "outputs": [],
   "source": [
    "if 'd' in my_dict:\n",
    "    print('d is in my_dict with the value ' + my_dict['d'])\n",
    "else:\n",
    "    print('d is not in my_dict')"
   ]
  },
  {
   "cell_type": "markdown",
   "metadata": {
    "slideshow": {
     "slide_type": "skip"
    },
    "tags": []
   },
   "source": [
    "**Note:** dictionaries can do this operation very quickly without looping through all elements. So use a dictionary when lookups are relevant."
   ]
  },
  {
   "cell_type": "markdown",
   "metadata": {
    "code_folding": [],
    "heading_collapsed": true,
    "hidden": true,
    "slideshow": {
     "slide_type": "skip"
    },
    "tags": []
   },
   "source": [
    "## 4.5 Summary"
   ]
  },
  {
   "cell_type": "markdown",
   "metadata": {
    "slideshow": {
     "slide_type": "skip"
    },
    "tags": []
   },
   "source": [
    "The new central concepts are:\n",
    "\n",
    "1. Conditionals (if, elif, else)\n",
    "2. Loops (for, while, range, enumerate, continue, break, zip)\n",
    "3. List comprehensions\n",
    "4. Itertools (product)"
   ]
  },
  {
   "cell_type": "markdown",
   "metadata": {
    "slideshow": {
     "slide_type": "slide"
    },
    "tags": []
   },
   "source": [
    "<a id=\"Functions\"></a>\n",
    "\n",
    "# 5. Functions"
   ]
  },
  {
   "cell_type": "markdown",
   "metadata": {
    "slideshow": {
     "slide_type": "fragment"
    },
    "tags": []
   },
   "source": [
    "The most simple function takes **one argument** and returns **one output**:"
   ]
  },
  {
   "cell_type": "code",
   "execution_count": null,
   "metadata": {
    "slideshow": {
     "slide_type": "fragment"
    },
    "tags": []
   },
   "outputs": [],
   "source": [
    "def f(x):\n",
    "    return x**2\n",
    "\n",
    "print(f(2))"
   ]
  },
  {
   "cell_type": "markdown",
   "metadata": {
    "slideshow": {
     "slide_type": "fragment"
    },
    "tags": []
   },
   "source": [
    "**Note:** The identation after `def` is again required (typically 4 spaces)."
   ]
  },
  {
   "cell_type": "markdown",
   "metadata": {
    "slideshow": {
     "slide_type": "fragment"
    },
    "tags": []
   },
   "source": [
    "Alternatively, you can use a single-line **lambda formulation**:"
   ]
  },
  {
   "cell_type": "code",
   "execution_count": null,
   "metadata": {
    "slideshow": {
     "slide_type": "fragment"
    },
    "tags": []
   },
   "outputs": [],
   "source": [
    "g = lambda x: x**2 \n",
    "print(g(2))"
   ]
  },
  {
   "cell_type": "markdown",
   "metadata": {
    "slideshow": {
     "slide_type": "skip"
    },
    "tags": []
   },
   "source": [
    "Introducing **multiple arguments** are straigtforward:"
   ]
  },
  {
   "cell_type": "code",
   "execution_count": 113,
   "metadata": {
    "slideshow": {
     "slide_type": "skip"
    },
    "tags": []
   },
   "outputs": [
    {
     "name": "stdout",
     "output_type": "stream",
     "text": [
      "8\n"
     ]
    }
   ],
   "source": [
    "def f(x,y):\n",
    "    return x**2 + y**2\n",
    "\n",
    "print(f(2,2))"
   ]
  },
  {
   "cell_type": "markdown",
   "metadata": {
    "slideshow": {
     "slide_type": "subslide"
    },
    "tags": []
   },
   "source": [
    "**Multiple outputs** gives tuples"
   ]
  },
  {
   "cell_type": "code",
   "execution_count": 115,
   "metadata": {
    "slideshow": {
     "slide_type": "fragment"
    },
    "tags": []
   },
   "outputs": [
    {
     "name": "stdout",
     "output_type": "stream",
     "text": [
      "full_output = (4, 4)\n",
      "full_output is a <class 'tuple'>\n"
     ]
    }
   ],
   "source": [
    "def f(x,y):\n",
    "    z = x**2\n",
    "    q = y**2\n",
    "    return z,q\n",
    "\n",
    "full_output = f(2,2) # returns a tuple\n",
    "print('full_output =', full_output)\n",
    "print('full_output is a',type(full_output))"
   ]
  },
  {
   "cell_type": "markdown",
   "metadata": {
    "slideshow": {
     "slide_type": "fragment"
    },
    "tags": []
   },
   "source": [
    "The output tuple can be unpacked:"
   ]
  },
  {
   "cell_type": "code",
   "execution_count": 117,
   "metadata": {
    "slideshow": {
     "slide_type": "fragment"
    },
    "tags": []
   },
   "outputs": [
    {
     "name": "stdout",
     "output_type": "stream",
     "text": [
      "z = 4 q = 4\n"
     ]
    }
   ],
   "source": [
    "z,q = full_output # unpacking\n",
    "print('z =',z,'q =',q)"
   ]
  },
  {
   "cell_type": "markdown",
   "metadata": {
    "slideshow": {
     "slide_type": "skip"
    },
    "tags": []
   },
   "source": [
    "## 5.1 No outputs..."
   ]
  },
  {
   "cell_type": "markdown",
   "metadata": {
    "slideshow": {
     "slide_type": "skip"
    },
    "tags": []
   },
   "source": [
    "Functions without *any* output can be useful when arguments are mutable:"
   ]
  },
  {
   "cell_type": "code",
   "execution_count": null,
   "metadata": {
    "slideshow": {
     "slide_type": "skip"
    },
    "tags": []
   },
   "outputs": [],
   "source": [
    "def f(x): # assume x is a list\n",
    "    new_element = x[-1]+1\n",
    "    x.append(new_element) \n",
    "    \n",
    "x = [1,2,3] # original list\n",
    "f(x) # update list (appending the element 4)\n",
    "f(x) # update list (appending the element 5)\n",
    "f(x)\n",
    "print(x)"
   ]
  },
  {
   "cell_type": "markdown",
   "metadata": {
    "slideshow": {
     "slide_type": "skip"
    },
    "tags": []
   },
   "source": [
    "Note: this is called a side-effect, which is often best avoided. "
   ]
  },
  {
   "cell_type": "markdown",
   "metadata": {
    "slideshow": {
     "slide_type": "subslide"
    },
    "tags": []
   },
   "source": [
    "## 5.2 Keyword arguments"
   ]
  },
  {
   "cell_type": "markdown",
   "metadata": {
    "slideshow": {
     "slide_type": "fragment"
    },
    "tags": []
   },
   "source": [
    "We can also have **keyword arguments** with default values (instead of **positionel** arguments):"
   ]
  },
  {
   "cell_type": "code",
   "execution_count": 122,
   "metadata": {
    "slideshow": {
     "slide_type": "fragment"
    },
    "tags": []
   },
   "outputs": [
    {
     "name": "stdout",
     "output_type": "stream",
     "text": [
      "12\n",
      "28\n",
      "76\n"
     ]
    }
   ],
   "source": [
    "def f(x,y,a=2,b=2):\n",
    "    return x**a + y*b\n",
    "\n",
    "print(f(2,4)) \n",
    "print(f(2,4,b=6))\n",
    "print(f(2,4,a=6,b=3))"
   ]
  },
  {
   "cell_type": "markdown",
   "metadata": {
    "slideshow": {
     "slide_type": "fragment"
    },
    "tags": []
   },
   "source": [
    "**Note:** Keyword arguments must come after positional arguments."
   ]
  },
  {
   "cell_type": "markdown",
   "metadata": {
    "slideshow": {
     "slide_type": "skip"
    },
    "tags": []
   },
   "source": [
    "**Advanced:** We can also use undefined keyword arguments:"
   ]
  },
  {
   "cell_type": "code",
   "execution_count": null,
   "metadata": {
    "slideshow": {
     "slide_type": "skip"
    },
    "tags": []
   },
   "outputs": [],
   "source": [
    "def f(**kwargs):\n",
    "    # kwargs (= \"keyword arguments\") is a dictionary\n",
    "    for key,value in kwargs.items():\n",
    "        print(key,value)\n",
    "f(a='abc',b='2',c=[1,2,3])"
   ]
  },
  {
   "cell_type": "markdown",
   "metadata": {
    "slideshow": {
     "slide_type": "skip"
    },
    "tags": []
   },
   "source": [
    "and these keywords can come from *unpacking a dictionary*: "
   ]
  },
  {
   "cell_type": "code",
   "execution_count": null,
   "metadata": {
    "slideshow": {
     "slide_type": "skip"
    },
    "tags": []
   },
   "outputs": [],
   "source": [
    "my_dict = {'a': 'abc', 'b': '2', 'c': [1,2,3]}\n",
    "f(**my_dict)"
   ]
  },
  {
   "cell_type": "markdown",
   "metadata": {
    "slideshow": {
     "slide_type": "subslide"
    },
    "tags": []
   },
   "source": [
    "## 5.3 A function is an object"
   ]
  },
  {
   "cell_type": "markdown",
   "metadata": {
    "slideshow": {
     "slide_type": "fragment"
    },
    "tags": []
   },
   "source": [
    "A function is an object and can be given to another functions as an argument."
   ]
  },
  {
   "cell_type": "code",
   "execution_count": null,
   "metadata": {
    "slideshow": {
     "slide_type": "fragment"
    },
    "tags": []
   },
   "outputs": [],
   "source": [
    "def f(x):\n",
    "    return x**2\n",
    "\n",
    "def g(x,h):\n",
    "    temp = h(x) # call function h with argument x\n",
    "    return temp+1\n",
    "\n",
    "print(g(2,f))"
   ]
  },
  {
   "cell_type": "markdown",
   "metadata": {
    "slideshow": {
     "slide_type": "subslide"
    },
    "tags": []
   },
   "source": [
    "## 5.4 Scope"
   ]
  },
  {
   "cell_type": "markdown",
   "metadata": {
    "slideshow": {
     "slide_type": "fragment"
    },
    "tags": []
   },
   "source": [
    "**Important:** Variables in functions can be either **local** or **global** in scope.  \n",
    "* **Global** is the main body of your python code.  \n",
    "* **Local** is inside the belly of a function.\n",
    "* **Never** use global variables inside your function's belly."
   ]
  },
  {
   "cell_type": "code",
   "execution_count": 131,
   "metadata": {
    "slideshow": {
     "slide_type": "fragment"
    },
    "tags": []
   },
   "outputs": [
    {
     "name": "stdout",
     "output_type": "stream",
     "text": [
      "4 16 16\n",
      "incrementing the global variable:\n",
      "8 16 16\n"
     ]
    }
   ],
   "source": [
    "a = 2 # a global variable\n",
    "\n",
    "def f(x):\n",
    "    return x**a # a is global. This is BAD\n",
    "\n",
    "def g(x,a=4):\n",
    "    # a's default value is fixed when the function is defined\n",
    "    return x**a \n",
    "\n",
    "def h(x):\n",
    "    a = 4 # a is local\n",
    "    return x**a\n",
    "\n",
    "print(f(2), g(2), h(2))\n",
    "print('incrementing the global variable:')\n",
    "a += 1 \n",
    "print(f(2), g(2), h(2)) # output is only changed for f"
   ]
  },
  {
   "cell_type": "markdown",
   "metadata": {
    "slideshow": {
     "slide_type": "skip"
    },
    "tags": []
   },
   "source": [
    "## 5.5 Summary"
   ]
  },
  {
   "cell_type": "markdown",
   "metadata": {
    "slideshow": {
     "slide_type": "skip"
    },
    "tags": []
   },
   "source": [
    "**Functions:** \n",
    "\n",
    "1. are **objects**\n",
    "2. can have multiple (or no) **arguments** and **outputs**\n",
    "3. can have **positional** and **keyword** arguments\n",
    "4. can use **local** or **global** variables (**scope**)"
   ]
  },
  {
   "cell_type": "markdown",
   "metadata": {
    "slideshow": {
     "slide_type": "skip"
    },
    "tags": []
   },
   "source": [
    "**Task:** Create a function returning a person's full name from her first name and family name with middle name as an optional keyword argument with empty as a default."
   ]
  },
  {
   "cell_type": "code",
   "execution_count": null,
   "metadata": {
    "slideshow": {
     "slide_type": "skip"
    },
    "tags": []
   },
   "outputs": [],
   "source": [
    "# write your code here"
   ]
  },
  {
   "cell_type": "markdown",
   "metadata": {
    "slideshow": {
     "slide_type": "skip"
    },
    "tags": []
   },
   "source": [
    "**Answer:**"
   ]
  },
  {
   "cell_type": "code",
   "execution_count": null,
   "metadata": {
    "jupyter": {
     "source_hidden": true
    }
   },
   "outputs": [],
   "source": [
    "def full_name(first_name,family_name,middle_name=''):\n",
    "    name = first_name\n",
    "    if middle_name != '':\n",
    "        name += ' '\n",
    "        name += middle_name\n",
    "    name += ' '\n",
    "    name += family_name\n",
    "    return name\n",
    "    \n",
    "print(full_name('Jeppe','Druedahl','\"Economist\"'))"
   ]
  },
  {
   "cell_type": "markdown",
   "metadata": {
    "slideshow": {
     "slide_type": "skip"
    },
    "tags": []
   },
   "source": [
    "**Alternative answer** (more advanced, using a built-in list function):"
   ]
  },
  {
   "cell_type": "code",
   "execution_count": null,
   "metadata": {
    "jupyter": {
     "source_hidden": true
    }
   },
   "outputs": [],
   "source": [
    "def full_name(first_name,family_name,middle_name=''):\n",
    "    name = [first_name]\n",
    "    \n",
    "    if middle_name != '':\n",
    "        name.append(middle_name)\n",
    "        \n",
    "    name.append(family_name)\n",
    "    return ' '.join(name)\n",
    "\n",
    "print(full_name('Jeppe','Druedahl','\"Economist\"'))"
   ]
  },
  {
   "cell_type": "markdown",
   "metadata": {
    "slideshow": {
     "slide_type": "slide"
    },
    "tags": []
   },
   "source": [
    "<a id=\"Floating-point-numbers\"></a>\n",
    "\n",
    "# 6. Floating point numbers\n",
    "\n",
    "On a computer the real line is approximated with numbers on the form:\n",
    "\n",
    "$$\\text{number} = \\text{significand} \\times \\text{base}^{exponent}$$\n",
    "\n",
    "* **significand**: 1 bit, positive or negative\n",
    "* **base**: 52 bits\n",
    "* **exponent**: 11 bits\n",
    "\n",
    "Obviously, this is a finite approximation.  \n",
    "All numbers can therefore ***not*** be represented exactly. A *close* neighboring number is thus used."
   ]
  },
  {
   "cell_type": "code",
   "execution_count": 123,
   "metadata": {
    "slideshow": {
     "slide_type": "fragment"
    },
    "tags": []
   },
   "outputs": [
    {
     "name": "stdout",
     "output_type": "stream",
     "text": [
      "0.1000000000000000055511151231257827021181583404541015625000000000000000000000000000000000000000000000\n",
      "17.1999999999999992894572642398998141288757324218750000000000000000000000000000000000000000000000000000\n"
     ]
    }
   ],
   "source": [
    "x = 0.1\n",
    "print(f'{x:.100f}') # printing x with 100 decimals\n",
    "x = 17.2\n",
    "print(f'{x:.100f}') # printing x with 100 decimals"
   ]
  },
  {
   "cell_type": "markdown",
   "metadata": {
    "slideshow": {
     "slide_type": "subslide"
    },
    "tags": []
   },
   "source": [
    "Simple sums might, consequently, not be exactly what you expect."
   ]
  },
  {
   "cell_type": "code",
   "execution_count": 28,
   "metadata": {
    "slideshow": {
     "slide_type": "fragment"
    },
    "tags": []
   },
   "outputs": [
    {
     "name": "stdout",
     "output_type": "stream",
     "text": [
      "0.9999999999999999\n"
     ]
    }
   ],
   "source": [
    "d = 0.0\n",
    "for i in range(10):\n",
    "    d += 0.1\n",
    "print(d)"
   ]
  },
  {
   "cell_type": "markdown",
   "metadata": {},
   "source": [
    "And just as surprising:"
   ]
  },
  {
   "cell_type": "code",
   "execution_count": null,
   "metadata": {},
   "outputs": [],
   "source": [
    "print(0.1 == 0.10000000000000001)"
   ]
  },
  {
   "cell_type": "markdown",
   "metadata": {
    "slideshow": {
     "slide_type": "subslide"
    },
    "tags": []
   },
   "source": [
    "**Comparisions of floating point numbers** is therefore always problematic.<br>\n",
    "We know that \n",
    "\n",
    "$$\\frac{a \\cdot c}{b \\cdot c} = \\frac{a}{b}$$\n",
    "\n",
    "but:"
   ]
  },
  {
   "cell_type": "code",
   "execution_count": 125,
   "metadata": {
    "slideshow": {
     "slide_type": "fragment"
    },
    "tags": []
   },
   "outputs": [
    {
     "name": "stdout",
     "output_type": "stream",
     "text": [
      "Does equality hold? False\n"
     ]
    }
   ],
   "source": [
    "a = 100\n",
    "b = 0.3\n",
    "c = 10\n",
    "equality = ((a*c)/(b*c) == a/b)\n",
    "print('Does equality hold?', equality)"
   ]
  },
  {
   "cell_type": "markdown",
   "metadata": {
    "slideshow": {
     "slide_type": "fragment"
    },
    "tags": []
   },
   "source": [
    "However, rounding off the numbers to a close neighbor may help:"
   ]
  },
  {
   "cell_type": "code",
   "execution_count": 37,
   "metadata": {
    "slideshow": {
     "slide_type": "fragment"
    },
    "tags": []
   },
   "outputs": [
    {
     "name": "stdout",
     "output_type": "stream",
     "text": [
      "True\n"
     ]
    }
   ],
   "source": [
    "test = round((a*c)/(b*c), 10) == round(a/b, 10)\n",
    "print(test)"
   ]
  },
  {
   "cell_type": "markdown",
   "metadata": {
    "slideshow": {
     "slide_type": "skip"
    },
    "tags": []
   },
   "source": [
    "You may also use the np.isclose function to test if 2 floats are numerically very close, i.e. practically the same:"
   ]
  },
  {
   "cell_type": "code",
   "execution_count": 126,
   "metadata": {
    "slideshow": {
     "slide_type": "fragment"
    },
    "tags": []
   },
   "outputs": [
    {
     "name": "stdout",
     "output_type": "stream",
     "text": [
      "True\n"
     ]
    }
   ],
   "source": [
    "import numpy as np\n",
    "print(np.isclose((a*c)/(b*c), a/b))"
   ]
  },
  {
   "cell_type": "markdown",
   "metadata": {
    "slideshow": {
     "slide_type": "subslide"
    },
    "tags": []
   },
   "source": [
    "**Underflow**: Multiplying many small numbers can result in an exact zero:"
   ]
  },
  {
   "cell_type": "code",
   "execution_count": 128,
   "metadata": {
    "slideshow": {
     "slide_type": "fragment"
    },
    "tags": []
   },
   "outputs": [
    {
     "name": "stdout",
     "output_type": "stream",
     "text": [
      "1e-60\n",
      "1e-120\n",
      "1e-180\n",
      "1e-240\n",
      "9.999999999999999e-301\n",
      "0.0\n"
     ]
    }
   ],
   "source": [
    "x = 1e-60\n",
    "y = 1\n",
    "for _ in range(6):\n",
    "    y *= x\n",
    "    print(y)"
   ]
  },
  {
   "cell_type": "markdown",
   "metadata": {
    "slideshow": {
     "slide_type": "subslide"
    },
    "tags": []
   },
   "source": [
    "**Overflow**: If intermediate results are too large to be represented, the final result may be wrong or not possible to calculate:"
   ]
  },
  {
   "cell_type": "code",
   "execution_count": 129,
   "metadata": {
    "slideshow": {
     "slide_type": "fragment"
    },
    "tags": []
   },
   "outputs": [
    {
     "name": "stdout",
     "output_type": "stream",
     "text": [
      "nan\n",
      "inf inf\n"
     ]
    }
   ],
   "source": [
    "x = 1.0\n",
    "y = 2.7\n",
    "for i in range(200):    \n",
    "    x *= (i+1)\n",
    "    y *= (i+1) \n",
    "print(y/x) # should be 2.7\n",
    "print(x,y)"
   ]
  },
  {
   "cell_type": "markdown",
   "metadata": {
    "slideshow": {
     "slide_type": "fragment"
    },
    "tags": []
   },
   "source": [
    "**Note:** `nan` is not-a-number. `inf` is infinite."
   ]
  },
  {
   "cell_type": "markdown",
   "metadata": {
    "slideshow": {
     "slide_type": "skip"
    },
    "tags": []
   },
   "source": [
    "**Note:** Order of additions matter, but not by that much:"
   ]
  },
  {
   "cell_type": "code",
   "execution_count": null,
   "metadata": {
    "slideshow": {
     "slide_type": "skip"
    },
    "tags": []
   },
   "outputs": [],
   "source": [
    "sum1 = 10001234.0 + 0.12012 + 0.12312 + 1e-5\n",
    "sum2 = 1e-5 + 0.12312 + 0.12012 + 10001234.0\n",
    "print(sum1-sum2)"
   ]
  },
  {
   "cell_type": "markdown",
   "metadata": {
    "slideshow": {
     "slide_type": "skip"
    },
    "tags": []
   },
   "source": [
    "## 6.1 Summary"
   ]
  },
  {
   "cell_type": "markdown",
   "metadata": {
    "slideshow": {
     "slide_type": "skip"
    },
    "tags": []
   },
   "source": [
    "The take-aways are:\n",
    "\n",
    "1. Decimal numbers are **approximate** on a computer!\n",
    "2. **Never compare floats with equality** (only use strict inequalities)\n",
    "3. Underflow and overflow can create problem (not very important in practice) \n",
    "\n",
    "For further details see [here](https://docs.python.org/3/tutorial/floatingpoint.html).\n",
    "\n",
    "**Videos:**\n",
    "\n",
    "* [Why computers are bad at algebra - Infinite Series](https://www.youtube.com/watch?v=pQs_wx8eoQ8)\n",
    "* [Floating point numbers - Computerphile](https://www.youtube.com/watch?v=PZRI1IfStY0)"
   ]
  },
  {
   "cell_type": "markdown",
   "metadata": {
    "slideshow": {
     "slide_type": "skip"
    },
    "tags": []
   },
   "source": [
    "<a id=\"Classes-(user-defined-types)\"></a>\n",
    "\n",
    "# 7. Classes (user-defined types)"
   ]
  },
  {
   "cell_type": "markdown",
   "metadata": {
    "slideshow": {
     "slide_type": "skip"
    },
    "tags": []
   },
   "source": [
    "**Advanced:** New types of objects can be defined using **classes**."
   ]
  },
  {
   "cell_type": "code",
   "execution_count": null,
   "metadata": {
    "slideshow": {
     "slide_type": "skip"
    },
    "tags": []
   },
   "outputs": [],
   "source": [
    "class human():\n",
    "    \n",
    "    def __init__(self,name,height,weight): # called when created\n",
    "        \n",
    "        # save the inputs as attributes\n",
    "        self.name = name # an attribute\n",
    "        self.height = height # an attribute\n",
    "        self.weight = weight # an attribute\n",
    "    \n",
    "    def bmi(self): # a method\n",
    "        \n",
    "        bmi = self.weight/(self.height/100)**2 # calculate bmi\n",
    "        return bmi # output bmi\n",
    "    \n",
    "    def print_bmi(self):\n",
    "        print(self.bmi())\n"
   ]
  },
  {
   "cell_type": "markdown",
   "metadata": {
    "slideshow": {
     "slide_type": "skip"
    },
    "tags": []
   },
   "source": [
    "A class is used as follows:"
   ]
  },
  {
   "cell_type": "code",
   "execution_count": null,
   "metadata": {
    "slideshow": {
     "slide_type": "skip"
    },
    "tags": []
   },
   "outputs": [],
   "source": [
    "# a. create an instance of the human object called \"jeppe\"        \n",
    "jeppe = human('jeppe',182,80) # height=182, weight=80\n",
    "print(type(jeppe))\n",
    "\n",
    "# b. print an attribute\n",
    "print(jeppe.height)\n",
    "\n",
    "# c. print the result of calling a method\n",
    "print(jeppe.bmi())"
   ]
  },
  {
   "cell_type": "markdown",
   "metadata": {
    "slideshow": {
     "slide_type": "skip"
    },
    "tags": []
   },
   "source": [
    "**Methods** are like functions, but can automatically use all the attributes of the class (saved in *self.*) without getting them as arguments."
   ]
  },
  {
   "cell_type": "markdown",
   "metadata": {
    "slideshow": {
     "slide_type": "skip"
    },
    "tags": []
   },
   "source": [
    "**Attributes** can be changed and extracted with **.-notation**"
   ]
  },
  {
   "cell_type": "code",
   "execution_count": null,
   "metadata": {
    "slideshow": {
     "slide_type": "skip"
    },
    "tags": []
   },
   "outputs": [],
   "source": [
    "jeppe.height = 160\n",
    "print(jeppe.height)\n",
    "print(jeppe.bmi())"
   ]
  },
  {
   "cell_type": "markdown",
   "metadata": {
    "slideshow": {
     "slide_type": "skip"
    },
    "tags": []
   },
   "source": [
    "Or with **setattr- and getatrr-notation**"
   ]
  },
  {
   "cell_type": "code",
   "execution_count": null,
   "metadata": {
    "slideshow": {
     "slide_type": "skip"
    },
    "tags": []
   },
   "outputs": [],
   "source": [
    "setattr(jeppe,'height',182) # jeppe.height = 182\n",
    "height = getattr(jeppe,'height') # height = jeppe.height\n",
    "print(height)\n",
    "print(jeppe.bmi())"
   ]
  },
  {
   "cell_type": "markdown",
   "metadata": {
    "slideshow": {
     "slide_type": "skip"
    },
    "tags": []
   },
   "source": [
    "## 7.1 Operator methods"
   ]
  },
  {
   "cell_type": "markdown",
   "metadata": {
    "slideshow": {
     "slide_type": "skip"
    },
    "tags": []
   },
   "source": [
    "If the **appropriate methods** are defined, standard operators, e.g. +, and general functions such as print can be used.\n",
    "\n",
    "Define a new type of object called a **fraction**:"
   ]
  },
  {
   "cell_type": "code",
   "execution_count": null,
   "metadata": {
    "code_folding": [],
    "hidden": true,
    "slideshow": {
     "slide_type": "skip"
    },
    "tags": []
   },
   "outputs": [],
   "source": [
    "class fraction:\n",
    "    \n",
    "    def __init__(self,numerator,denominator): # called when created\n",
    "        self.num = numerator\n",
    "        self.denom = denominator\n",
    "    \n",
    "    def __str__(self): # called when using print\n",
    "        \n",
    "        return f'{self.num}/{self.denom}' # string = self.nom/self.denom\n",
    "    \n",
    "    def __add__(self,other): # called when using +\n",
    "        \n",
    "        new_num = self.num*other.denom + other.num*self.denom\n",
    "        new_denom = self.denom*other.denom\n",
    "        \n",
    "        return fraction(new_num,new_denom)"
   ]
  },
  {
   "cell_type": "markdown",
   "metadata": {
    "slideshow": {
     "slide_type": "skip"
    },
    "tags": []
   },
   "source": [
    "**Note:** We use that \n",
    "\n",
    "$$\\frac{a}{b}+\\frac{c}{d}=\\frac{a \\cdot d+c \\cdot b}{b \\cdot d}$$"
   ]
  },
  {
   "cell_type": "markdown",
   "metadata": {
    "slideshow": {
     "slide_type": "skip"
    },
    "tags": []
   },
   "source": [
    "We can now **add fractions**:"
   ]
  },
  {
   "cell_type": "code",
   "execution_count": null,
   "metadata": {
    "slideshow": {
     "slide_type": "skip"
    },
    "tags": []
   },
   "outputs": [],
   "source": [
    "x = fraction(1,3)\n",
    "print(x)"
   ]
  },
  {
   "cell_type": "code",
   "execution_count": null,
   "metadata": {
    "slideshow": {
     "slide_type": "skip"
    },
    "tags": []
   },
   "outputs": [],
   "source": [
    "x = fraction(1,3) # 1/3 = 5/15\n",
    "y = fraction(2,5) # 2/5 = 6/15\n",
    "z = x+y # 5/15 + 6/15 = 11/15\n",
    "print(z,type(z))"
   ]
  },
  {
   "cell_type": "markdown",
   "metadata": {
    "slideshow": {
     "slide_type": "skip"
    },
    "tags": []
   },
   "source": [
    "Equivalent to:"
   ]
  },
  {
   "cell_type": "code",
   "execution_count": null,
   "metadata": {
    "slideshow": {
     "slide_type": "skip"
    },
    "tags": []
   },
   "outputs": [],
   "source": [
    "z_alt = x.__add__(y)\n",
    "print(z,type(z))"
   ]
  },
  {
   "cell_type": "markdown",
   "metadata": {
    "slideshow": {
     "slide_type": "skip"
    },
    "tags": []
   },
   "source": [
    "But we **cannot multiply** fractions (yet):"
   ]
  },
  {
   "cell_type": "code",
   "execution_count": null,
   "metadata": {
    "slideshow": {
     "slide_type": "skip"
    },
    "tags": []
   },
   "outputs": [],
   "source": [
    "try:\n",
    "    z = x*y\n",
    "    print(z)\n",
    "except:\n",
    "    print('multiplication is not defined for the fraction type')"
   ]
  },
  {
   "cell_type": "markdown",
   "metadata": {
    "slideshow": {
     "slide_type": "skip"
    },
    "tags": []
   },
   "source": [
    "**Extra task:** Implement multiplication for fractions."
   ]
  },
  {
   "cell_type": "markdown",
   "metadata": {
    "slideshow": {
     "slide_type": "skip"
    },
    "tags": []
   },
   "source": [
    "## 7.2 Summary"
   ]
  },
  {
   "cell_type": "markdown",
   "metadata": {
    "slideshow": {
     "slide_type": "skip"
    },
    "tags": []
   },
   "source": [
    "The take-aways are:\n",
    "\n",
    "1. **A class is a user-defined type**\n",
    "2. **Attributes** are like **variables** encapsulated in the class\n",
    "3. **Methods** are like **functions** encapsulated in the class\n",
    "4. Operators are fundamentally defined in terms of methods"
   ]
  },
  {
   "cell_type": "markdown",
   "metadata": {
    "slideshow": {
     "slide_type": "skip"
    },
    "tags": []
   },
   "source": [
    "<a id=\"Summary\"></a>\n",
    "\n",
    "# 8. Summary"
   ]
  },
  {
   "cell_type": "markdown",
   "metadata": {
    "slideshow": {
     "slide_type": "skip"
    },
    "tags": []
   },
   "source": [
    "**This lecture:** We have talked about:\n",
    "1. Types (int, str, float, bool, list, tuple, dict)\n",
    "2. Operators (+, *, /, +=, *=, /=, ==, !=, <)\n",
    "3. Referencing (=) vs. copying (copy, deepcopy)\n",
    "4. Conditionals (if-elif-else) and loops (for, while, range, enumerate, zip, product)\n",
    "5. Functions (positional and keyword arguments) and scope\n",
    "6. Floating points\n",
    "7. Classes (attributes, methods)"
   ]
  },
  {
   "cell_type": "markdown",
   "metadata": {
    "slideshow": {
     "slide_type": "skip"
    },
    "tags": []
   },
   "source": [
    "**You work:** When you are done with the DataCamp courses read through this notebook, play around with the code and ask questions if there is stuff you don't understand."
   ]
  },
  {
   "cell_type": "markdown",
   "metadata": {
    "slideshow": {
     "slide_type": "skip"
    },
    "tags": []
   },
   "source": [
    "**Next lecture:** We will solve the consumer problem from microeconomics numerically."
   ]
  },
  {
   "cell_type": "markdown",
   "metadata": {
    "slideshow": {
     "slide_type": "skip"
    },
    "tags": []
   },
   "source": [
    "**Your to-do list:** You should be running JupyterLab on your own computer."
   ]
  },
  {
   "cell_type": "markdown",
   "metadata": {
    "slideshow": {
     "slide_type": "skip"
    },
    "tags": []
   },
   "source": [
    "<a id=\"Extra:-Iterators\"></a>\n",
    "\n",
    "# 9. Extra: Iterators"
   ]
  },
  {
   "cell_type": "markdown",
   "metadata": {
    "slideshow": {
     "slide_type": "skip"
    },
    "tags": []
   },
   "source": [
    "Consider the following loop, where my_list is said to be **iterable**."
   ]
  },
  {
   "cell_type": "code",
   "execution_count": null,
   "metadata": {
    "slideshow": {
     "slide_type": "skip"
    },
    "tags": []
   },
   "outputs": [],
   "source": [
    "my_list = [0,2,4,6,8]\n",
    "for i in my_list:\n",
    "    print(i)"
   ]
  },
  {
   "cell_type": "markdown",
   "metadata": {
    "slideshow": {
     "slide_type": "skip"
    },
    "tags": []
   },
   "source": [
    "Consider the same loop generated with an **iterator**."
   ]
  },
  {
   "cell_type": "code",
   "execution_count": null,
   "metadata": {
    "slideshow": {
     "slide_type": "skip"
    },
    "tags": []
   },
   "outputs": [],
   "source": [
    "for i in range(0,10,2):\n",
    "    print(i)"
   ]
  },
  {
   "cell_type": "markdown",
   "metadata": {
    "slideshow": {
     "slide_type": "skip"
    },
    "tags": []
   },
   "source": [
    "This can also be written as:"
   ]
  },
  {
   "cell_type": "code",
   "execution_count": null,
   "metadata": {
    "slideshow": {
     "slide_type": "skip"
    },
    "tags": []
   },
   "outputs": [],
   "source": [
    "x = iter(range(0,10,2))\n",
    "print(x)\n",
    "print(next(x))\n",
    "print(next(x))\n",
    "print(next(x))"
   ]
  },
  {
   "cell_type": "markdown",
   "metadata": {
    "slideshow": {
     "slide_type": "skip"
    },
    "tags": []
   },
   "source": [
    "The main benefit here is that the, potentially long, my_list, is never created."
   ]
  },
  {
   "cell_type": "markdown",
   "metadata": {
    "slideshow": {
     "slide_type": "skip"
    },
    "tags": []
   },
   "source": [
    "We can also write **our own iterator class**:"
   ]
  },
  {
   "cell_type": "code",
   "execution_count": null,
   "metadata": {
    "slideshow": {
     "slide_type": "skip"
    },
    "tags": []
   },
   "outputs": [],
   "source": [
    "class range_two_step:\n",
    "    \n",
    "    def __init__(self, N):\n",
    "        self.i = 0\n",
    "        self.N = N\n",
    "        \n",
    "    def __iter__(self):\n",
    "        return self\n",
    "    \n",
    "    def __next__(self):\n",
    "        \n",
    "        if self.i >= self.N:\n",
    "            raise StopIteration\n",
    "        \n",
    "        temp = self.i\n",
    "        self.i = self.i + 2\n",
    "        return temp "
   ]
  },
  {
   "cell_type": "markdown",
   "metadata": {
    "slideshow": {
     "slide_type": "skip"
    },
    "tags": []
   },
   "source": [
    "Can then be used as follows:"
   ]
  },
  {
   "cell_type": "code",
   "execution_count": null,
   "metadata": {
    "slideshow": {
     "slide_type": "skip"
    },
    "tags": []
   },
   "outputs": [],
   "source": [
    "x = iter(range_two_step(10))\n",
    "print(next(x))\n",
    "print(next(x))\n",
    "print(next(x))"
   ]
  },
  {
   "cell_type": "markdown",
   "metadata": {
    "slideshow": {
     "slide_type": "skip"
    },
    "tags": []
   },
   "source": [
    "Or in a loop:"
   ]
  },
  {
   "cell_type": "code",
   "execution_count": null,
   "metadata": {
    "slideshow": {
     "slide_type": "skip"
    },
    "tags": []
   },
   "outputs": [],
   "source": [
    "for i in range_two_step(10):\n",
    "    print(i)"
   ]
  },
  {
   "cell_type": "markdown",
   "metadata": {
    "slideshow": {
     "slide_type": "skip"
    },
    "tags": []
   },
   "source": [
    "<a id=\"Extra:-More-on-functions\"></a>\n",
    "\n",
    "# 10. Extra: More on functions"
   ]
  },
  {
   "cell_type": "markdown",
   "metadata": {
    "slideshow": {
     "slide_type": "skip"
    },
    "tags": []
   },
   "source": [
    "We can have an **undefined number of input arguments**:"
   ]
  },
  {
   "cell_type": "code",
   "execution_count": null,
   "metadata": {
    "slideshow": {
     "slide_type": "skip"
    },
    "tags": []
   },
   "outputs": [],
   "source": [
    "def f(*args):\n",
    "    out = 0\n",
    "    for x in args:\n",
    "        out += x**2\n",
    "    return out\n",
    "print(f(2,2))\n",
    "print(f(2,2,2,2))"
   ]
  },
  {
   "cell_type": "markdown",
   "metadata": {
    "slideshow": {
     "slide_type": "skip"
    },
    "tags": []
   },
   "source": [
    "We can have **recursive functions** to calculate the Fibonacci sequence:"
   ]
  },
  {
   "cell_type": "markdown",
   "metadata": {
    "slideshow": {
     "slide_type": "skip"
    },
    "tags": []
   },
   "source": [
    "$$\n",
    "\\begin{aligned}\n",
    "F_0 &= 0 \\\\\n",
    "F_1 &= 1 \\\\\n",
    "F_n &= F_{n-1} + F_{n-2} \\\\\n",
    "\\end{aligned}\n",
    "$$"
   ]
  },
  {
   "cell_type": "code",
   "execution_count": null,
   "metadata": {
    "slideshow": {
     "slide_type": "skip"
    },
    "tags": []
   },
   "outputs": [],
   "source": [
    "def fibonacci(n):\n",
    "    if n == 0:\n",
    "        return 0\n",
    "    elif n == 1:\n",
    "        return 1\n",
    "    else:\n",
    "        return fibonacci(n-1) + fibonacci(n-2)\n",
    "    \n",
    "y = fibonacci(7)\n",
    "print(y)"
   ]
  }
 ],
 "metadata": {
  "kernelspec": {
   "display_name": "Python 3 (ipykernel)",
   "language": "python",
   "name": "python3"
  },
  "language_info": {
   "codemirror_mode": {
    "name": "ipython",
    "version": 3
   },
   "file_extension": ".py",
   "mimetype": "text/x-python",
   "name": "python",
   "nbconvert_exporter": "python",
   "pygments_lexer": "ipython3",
   "version": "3.9.7"
  },
  "toc-autonumbering": false,
  "toc-showcode": false,
  "toc-showmarkdowntxt": false,
  "toc-showtags": false
 },
 "nbformat": 4,
 "nbformat_minor": 4
}
